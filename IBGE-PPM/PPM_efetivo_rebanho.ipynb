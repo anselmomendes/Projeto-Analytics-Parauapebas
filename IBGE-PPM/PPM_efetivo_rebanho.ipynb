{
 "cells": [
  {
   "cell_type": "code",
   "execution_count": 1,
   "id": "0e4d3f7e",
   "metadata": {
    "tags": []
   },
   "outputs": [
    {
     "name": "stdout",
     "output_type": "stream",
     "text": [
      "Collecting openpyxl\n",
      "  Downloading openpyxl-3.0.10-py2.py3-none-any.whl (242 kB)\n",
      "\u001b[2K     \u001b[90m━━━━━━━━━━━━━━━━━━━━━━━━━━━━━━━━━━━━━━━\u001b[0m \u001b[32m242.1/242.1 KB\u001b[0m \u001b[31m5.6 MB/s\u001b[0m eta \u001b[36m0:00:00\u001b[0ma \u001b[36m0:00:01\u001b[0m\n",
      "\u001b[?25hCollecting et-xmlfile\n",
      "  Downloading et_xmlfile-1.1.0-py3-none-any.whl (4.7 kB)\n",
      "Installing collected packages: et-xmlfile, openpyxl\n",
      "Successfully installed et-xmlfile-1.1.0 openpyxl-3.0.10\n",
      "\u001b[33mWARNING: Running pip as the 'root' user can result in broken permissions and conflicting behaviour with the system package manager. It is recommended to use a virtual environment instead: https://pip.pypa.io/warnings/venv\u001b[0m\u001b[33m\n",
      "\u001b[0mImportação das bibliotecas realizada com sucesso\n"
     ]
    }
   ],
   "source": [
    "!pip install openpyxl;\n",
    "import orchest\n",
    "import pandas as pd\n",
    "import warnings\n",
    "import openpyxl\n",
    "warnings.filterwarnings('ignore')\n",
    "print('Importação das bibliotecas realizada com sucesso')"
   ]
  },
  {
   "cell_type": "code",
   "execution_count": 2,
   "id": "7c593291",
   "metadata": {
    "tags": []
   },
   "outputs": [
    {
     "name": "stdout",
     "output_type": "stream",
     "text": [
      "Importando a base de dados...\n"
     ]
    }
   ],
   "source": [
    "print('Importando a base de dados...')\n",
    "try:\n",
    "    url = f\"https://sidra.ibge.gov.br/geratabela?format=br.csv&name=tabela3939.csv&terr=NC&rank=-&query=t/3939/n3/15/n6/1504208,1508100,1502772,1505536,1502152,1500347,1502954/v/all/p/last%2010/c79/2670,2675,2681,32794,32796/l/,,t%2Bv%2Bc79%2Bp\"\n",
    "    path = 'data.csv'\n",
    "    data = pd.read_csv(url, delimiter=\";\",skiprows=[0,1],\\\n",
    "                 names=[\"Cod\", \"Unidade da Federacao e Municipio\", \"Variavel\", \"Tipo de rebanho\", \"Ano\", \"Total\"], dtype={'Ano':'Int64'})\n",
    "except:\n",
    "    print(\"Erro ao criar o banco de dados.\")\n"
   ]
  },
  {
   "cell_type": "code",
   "execution_count": 3,
   "id": "ce3f48f1",
   "metadata": {
    "tags": []
   },
   "outputs": [],
   "source": [
    "end = data[data['Cod'] == 'Fonte: IBGE - Pesquisa da Pecuária Municipal'].index[0]"
   ]
  },
  {
   "cell_type": "code",
   "execution_count": 4,
   "id": "9d4ba5da",
   "metadata": {
    "tags": []
   },
   "outputs": [
    {
     "name": "stdout",
     "output_type": "stream",
     "text": [
      "Selecionando os dados...\n"
     ]
    }
   ],
   "source": [
    "print('Selecionando os dados...')\n",
    "efetivo_rebanho = data.iloc[:end]\n",
    "efetivo_rebanho['Ano'] = efetivo_rebanho['Ano'].astype(int)"
   ]
  },
  {
   "cell_type": "code",
   "execution_count": 5,
   "id": "eb99a30f",
   "metadata": {
    "tags": []
   },
   "outputs": [],
   "source": [
    "def replace_dataframe(DataFrame_imput, column, replace):\n",
    "    for r in replace:\n",
    "        for c in column:\n",
    "            DataFrame_imput[c] = DataFrame_imput[c].apply(lambda x : str(x).replace(r,'').replace('-',' '))     \n",
    "    return DataFrame_imput"
   ]
  },
  {
   "cell_type": "code",
   "execution_count": 6,
   "id": "027b686e",
   "metadata": {
    "tags": []
   },
   "outputs": [
    {
     "name": "stdout",
     "output_type": "stream",
     "text": [
      "Aplicando replace nos dados...\n"
     ]
    }
   ],
   "source": [
    "print('Aplicando replace nos dados...')\n",
    "\n",
    "filtro = ['*',' (Cabeças)', ' (PA)', ' - total', '   total']\n",
    "column = [\"Cod\", \"Unidade da Federacao e Municipio\", \"Variavel\", \"Tipo de rebanho\", \"Ano\", \"Total\"]\n",
    "efetivo_rebanho = replace_dataframe(efetivo_rebanho, column, filtro)"
   ]
  },
  {
   "cell_type": "code",
   "execution_count": 7,
   "id": "c8f8cc73",
   "metadata": {
    "tags": []
   },
   "outputs": [
    {
     "name": "stdout",
     "output_type": "stream",
     "text": [
      "remover colunas vazias...\n"
     ]
    }
   ],
   "source": [
    "print('remover colunas vazias...')\n",
    "efetivo_rebanho.dropna(inplace=True)"
   ]
  },
  {
   "cell_type": "code",
   "execution_count": 8,
   "id": "0c320918-418b-4600-a378-8244325e993f",
   "metadata": {
    "tags": []
   },
   "outputs": [
    {
     "name": "stdout",
     "output_type": "stream",
     "text": [
      "Exportando os dados para o proximo step...\n"
     ]
    }
   ],
   "source": [
    "print('Exportando os dados para o proximo step...')\n",
    "orchest.output(efetivo_rebanho,\"efetivo_rebanho\")"
   ]
  },
  {
   "cell_type": "code",
   "execution_count": 9,
   "id": "b638b210-ef35-4925-a413-56fb27149c46",
   "metadata": {
    "tags": []
   },
   "outputs": [
    {
     "name": "stdout",
     "output_type": "stream",
     "text": [
      "Script executado com sucesso!\n"
     ]
    }
   ],
   "source": [
    "print('Script executado com sucesso!')"
   ]
  },
  {
   "cell_type": "code",
   "execution_count": null,
   "id": "41c18cfc-3492-4dca-9ca2-b5b2c8e0475d",
   "metadata": {},
   "outputs": [],
   "source": []
  }
 ],
 "metadata": {
  "interpreter": {
   "hash": "31c343df0307e317f338e13842f1848929a1168821279cd78d86c2cef5573c6f"
  },
  "kernelspec": {
   "display_name": "Python 3",
   "language": "python",
   "name": "orchest-kernel-6449305e-5170-4e80-84d9-5e9c3ca98522"
  },
  "language_info": {
   "codemirror_mode": {
    "name": "ipython",
    "version": 3
   },
   "file_extension": ".py",
   "mimetype": "text/x-python",
   "name": "python",
   "nbconvert_exporter": "python",
   "pygments_lexer": "ipython3",
   "version": "3.9.10"
  }
 },
 "nbformat": 4,
 "nbformat_minor": 5
}
