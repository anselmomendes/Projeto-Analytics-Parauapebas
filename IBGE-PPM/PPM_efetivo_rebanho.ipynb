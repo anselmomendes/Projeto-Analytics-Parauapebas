{
 "cells": [
  {
   "cell_type": "code",
   "execution_count": 18,
   "id": "0e4d3f7e",
   "metadata": {},
   "outputs": [
    {
     "name": "stdout",
     "output_type": "stream",
     "text": [
      "Requirement already satisfied: openpyxl in /opt/conda/lib/python3.9/site-packages (3.0.10)\n",
      "Requirement already satisfied: et-xmlfile in /opt/conda/lib/python3.9/site-packages (from openpyxl) (1.1.0)\n",
      "\u001b[33mWARNING: Running pip as the 'root' user can result in broken permissions and conflicting behaviour with the system package manager. It is recommended to use a virtual environment instead: https://pip.pypa.io/warnings/venv\u001b[0m\u001b[33m\n",
      "\u001b[0mImportação das bibliotecas realizada com sucesso\n"
     ]
    }
   ],
   "source": [
    "!pip install openpyxl\n",
    "import orchest\n",
    "import pandas as pd\n",
    "import warnings\n",
    "import openpyxl\n",
    "warnings.filterwarnings('ignore')\n",
    "print('Importação das bibliotecas realizada com sucesso')"
   ]
  },
  {
   "cell_type": "code",
   "execution_count": 19,
   "id": "7c593291",
   "metadata": {},
   "outputs": [],
   "source": [
    "import pandas as pd\n",
    "import numpy as np\n",
    "url = f\"https://sidra.ibge.gov.br/geratabela?format=br.csv&name=tabela3939.csv&terr=NC&rank=-&query=t/3939/n3/15/n6/1504208,1508100,1502772,1505536,1502152,1500347,1502954/v/all/p/last%2010/c79/2670,2675,2681,32794,32796/l/,,t%2Bv%2Bc79%2Bp\"\n",
    "path = 'data.csv'\n",
    "data = pd.read_csv(url, delimiter=\";\",skiprows=[0,1],\\\n",
    "                 names=[\"Cod\", \"Unidade da Federacao e Municipio\", \"Variavel\", \"Tipo de rebanho\", \"Ano\", \"Total\"], dtype={'Ano':'Int64'})"
   ]
  },
  {
   "cell_type": "code",
   "execution_count": 20,
   "id": "ce3f48f1",
   "metadata": {},
   "outputs": [],
   "source": [
    "end = data[data['Cod'] == 'Fonte: IBGE - Pesquisa da Pecuária Municipal'].index[0]"
   ]
  },
  {
   "cell_type": "code",
   "execution_count": 21,
   "id": "9d4ba5da",
   "metadata": {},
   "outputs": [],
   "source": [
    "efetivo_rebanho = data.iloc[:end]\n",
    "efetivo_rebanho['Ano'] = efetivo_rebanho['Ano'].astype(int)"
   ]
  },
  {
   "cell_type": "code",
   "execution_count": 22,
   "id": "d960e033",
   "metadata": {},
   "outputs": [],
   "source": [
    "#efetivo_rebanho.head()"
   ]
  },
  {
   "cell_type": "code",
   "execution_count": 23,
   "id": "eb99a30f",
   "metadata": {},
   "outputs": [],
   "source": [
    "def replace_dataframe(DataFrame_imput, column, replace):\n",
    "    for r in replace:\n",
    "        for c in column:\n",
    "            DataFrame_imput[c] = DataFrame_imput[c].apply(lambda x : str(x).replace(r,'').replace('-',' '))     \n",
    "    return DataFrame_imput"
   ]
  },
  {
   "cell_type": "code",
   "execution_count": 27,
   "id": "027b686e",
   "metadata": {},
   "outputs": [
    {
     "name": "stdout",
     "output_type": "stream",
     "text": [
      "Aplicando replace nos dados...\n"
     ]
    }
   ],
   "source": [
    "print('Aplicando replace nos dados...')\n",
    "\n",
    "filtro = ['*',' (Cabeças)', ' (PA)', ' - total', '   total']\n",
    "column = [\"Cod\", \"Unidade da Federacao e Municipio\", \"Variavel\", \"Tipo de rebanho\", \"Ano\", \"Total\"]\n",
    "efetivo_rebanho = replace_dataframe(efetivo_rebanho, column, filtro)"
   ]
  },
  {
   "cell_type": "code",
   "execution_count": 28,
   "id": "c8f8cc73",
   "metadata": {},
   "outputs": [
    {
     "name": "stdout",
     "output_type": "stream",
     "text": [
      "remover colunas vazias...\n"
     ]
    }
   ],
   "source": [
    "print('remover colunas vazias...')\n",
    "efetivo_rebanho.dropna(inplace=True)"
   ]
  },
  {
   "cell_type": "code",
   "execution_count": 29,
   "id": "0c320918-418b-4600-a378-8244325e993f",
   "metadata": {},
   "outputs": [
    {
     "name": "stdout",
     "output_type": "stream",
     "text": [
      "Exportando os dados para o proximo step...\n"
     ]
    }
   ],
   "source": [
    "print('Exportando os dados para o proximo step...')\n",
    "orchest.output(efetivo_rebanho,\"efetivo_rebanho\")"
   ]
  },
  {
   "cell_type": "code",
   "execution_count": 30,
   "id": "b638b210-ef35-4925-a413-56fb27149c46",
   "metadata": {},
   "outputs": [
    {
     "name": "stdout",
     "output_type": "stream",
     "text": [
      "Script executado com sucesso!\n"
     ]
    }
   ],
   "source": [
    "print('Script executado com sucesso!')"
   ]
  },
  {
   "cell_type": "code",
   "execution_count": null,
   "id": "41c18cfc-3492-4dca-9ca2-b5b2c8e0475d",
   "metadata": {},
   "outputs": [],
   "source": []
  }
 ],
 "metadata": {
  "interpreter": {
   "hash": "31c343df0307e317f338e13842f1848929a1168821279cd78d86c2cef5573c6f"
  },
  "kernelspec": {
   "display_name": "Python 3",
   "language": "python",
   "name": "orchest-kernel-6449305e-5170-4e80-84d9-5e9c3ca98522"
  },
  "language_info": {
   "codemirror_mode": {
    "name": "ipython",
    "version": 3
   },
   "file_extension": ".py",
   "mimetype": "text/x-python",
   "name": "python",
   "nbconvert_exporter": "python",
   "pygments_lexer": "ipython3",
   "version": "3.9.10"
  }
 },
 "nbformat": 4,
 "nbformat_minor": 5
}
