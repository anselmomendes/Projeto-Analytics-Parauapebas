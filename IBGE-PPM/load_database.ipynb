{
 "cells": [
  {
   "cell_type": "code",
   "execution_count": 1,
   "metadata": {
    "execution": {
     "iopub.execute_input": "2022-06-26T19:16:00.005853Z",
     "iopub.status.busy": "2022-06-26T19:16:00.005352Z",
     "iopub.status.idle": "2022-06-26T19:16:01.187347Z",
     "shell.execute_reply": "2022-06-26T19:16:01.185999Z"
    }
   },
   "outputs": [
    {
     "name": "stdout",
     "output_type": "stream",
     "text": [
      "Importando Bibliotecas...\n"
     ]
    },
    {
     "name": "stdout",
     "output_type": "stream",
     "text": [
      "Bibliotecas importadas\n"
     ]
    }
   ],
   "source": [
    "print('Importando Bibliotecas...')\n",
    "import psycopg2\n",
    "import orchest\n",
    "import pandas\n",
    "import sqlalchemy\n",
    "from sqlalchemy import create_engine\n",
    "import urllib.parse\n",
    "import warnings\n",
    "warnings.filterwarnings('ignore')\n",
    "print('Bibliotecas importadas')"
   ]
  },
  {
   "cell_type": "code",
   "execution_count": 2,
   "metadata": {
    "execution": {
     "iopub.execute_input": "2022-06-26T19:16:01.255024Z",
     "iopub.status.busy": "2022-06-26T19:16:01.254562Z",
     "iopub.status.idle": "2022-06-26T19:16:01.262040Z",
     "shell.execute_reply": "2022-06-26T19:16:01.260991Z"
    }
   },
   "outputs": [
    {
     "name": "stdout",
     "output_type": "stream",
     "text": [
      "carregando as credenciais do banco de dados...\n"
     ]
    }
   ],
   "source": [
    "print('carregando as credenciais do banco de dados...')\n",
    "SGBD = 'postgresql'\n",
    "SGBD_ = 'postgresql+pg8000'\n",
    "host = '69.64.34.252'\n",
    "port = '5432'\n",
    "database = 'parauapebas'\n",
    "user = 'dtwanalytics'\n",
    "password = 'dtw@2022'\n",
    "password_ = urllib.parse.quote_plus('dtw@2022')"
   ]
  },
  {
   "cell_type": "code",
   "execution_count": 3,
   "metadata": {
    "execution": {
     "iopub.execute_input": "2022-06-26T19:16:01.298756Z",
     "iopub.status.busy": "2022-06-26T19:16:01.298398Z",
     "iopub.status.idle": "2022-06-26T19:16:01.307607Z",
     "shell.execute_reply": "2022-06-26T19:16:01.306567Z"
    }
   },
   "outputs": [
    {
     "name": "stdout",
     "output_type": "stream",
     "text": [
      "Carregando os dados dos steps anteriores...\n"
     ]
    }
   ],
   "source": [
    "print('Carregando os dados dos steps anteriores...')\n",
    "df = orchest.get_inputs()"
   ]
  },
  {
   "cell_type": "code",
   "execution_count": 4,
   "metadata": {
    "execution": {
     "iopub.execute_input": "2022-06-26T19:16:01.343720Z",
     "iopub.status.busy": "2022-06-26T19:16:01.343130Z",
     "iopub.status.idle": "2022-06-26T19:16:01.350859Z",
     "shell.execute_reply": "2022-06-26T19:16:01.349377Z"
    }
   },
   "outputs": [],
   "source": [
    "#df.keys()"
   ]
  },
  {
   "cell_type": "code",
   "execution_count": 5,
   "metadata": {
    "execution": {
     "iopub.execute_input": "2022-06-26T19:16:01.387408Z",
     "iopub.status.busy": "2022-06-26T19:16:01.387109Z",
     "iopub.status.idle": "2022-06-26T19:16:01.392158Z",
     "shell.execute_reply": "2022-06-26T19:16:01.391299Z"
    }
   },
   "outputs": [],
   "source": [
    "origem_animal = df['origem_animal']\n",
    "efetivo_rebanho = df['efetivo_rebanho']"
   ]
  },
  {
   "cell_type": "code",
   "execution_count": 6,
   "metadata": {
    "execution": {
     "iopub.execute_input": "2022-06-26T19:16:01.424545Z",
     "iopub.status.busy": "2022-06-26T19:16:01.424261Z",
     "iopub.status.idle": "2022-06-26T19:16:01.433067Z",
     "shell.execute_reply": "2022-06-26T19:16:01.431375Z"
    }
   },
   "outputs": [],
   "source": [
    "def create_database(sql): \n",
    "    try:\n",
    "        con = psycopg2.connect(host=host, database=database,\n",
    "        user=user, password=password)\n",
    "        cur = con.cursor()\n",
    "        cur.execute(sql)\n",
    "        con.commit()\n",
    "        con.close()\n",
    "        print(\"Query executada!\")\n",
    "    except:\n",
    "        print(\"Erro ao criar o banco de dados.\")"
   ]
  },
  {
   "cell_type": "code",
   "execution_count": 7,
   "metadata": {
    "execution": {
     "iopub.execute_input": "2022-06-26T19:16:01.466985Z",
     "iopub.status.busy": "2022-06-26T19:16:01.466349Z",
     "iopub.status.idle": "2022-06-26T19:16:01.473712Z",
     "shell.execute_reply": "2022-06-26T19:16:01.472008Z"
    }
   },
   "outputs": [],
   "source": [
    "#efetivo_rebanho.head()"
   ]
  },
  {
   "cell_type": "code",
   "execution_count": 8,
   "metadata": {
    "execution": {
     "iopub.execute_input": "2022-06-26T19:16:01.508556Z",
     "iopub.status.busy": "2022-06-26T19:16:01.508007Z",
     "iopub.status.idle": "2022-06-26T19:16:01.563122Z",
     "shell.execute_reply": "2022-06-26T19:16:01.561494Z"
    }
   },
   "outputs": [
    {
     "name": "stdout",
     "output_type": "stream",
     "text": [
      "Criando a tabela de origem_animal caso não exista...\n",
      "Query executada!\n"
     ]
    }
   ],
   "source": [
    "print('Criando a tabela de origem_animal caso não exista...')\n",
    "\n",
    "create_database('''CREATE TABLE IF NOT EXISTS origem_animal (\"id\" serial primary key, \n",
    "\"Brasil e Município\" integer not null, \"Bovino\" integer not null, \"Bubalino\" integer not null, \n",
    "\"Equino\" integer not null, \"Suíno - total\" integer not null, \n",
    "\"Suíno - matrizes de suínos\" integer not null, \"Caprino\" integer not null, \n",
    "\"Ovino\" integer not null, \"Galináceos - total\" integer not null,\n",
    "\"Galináceos - galinhas\" integer not null, \"Codornas\" integer not null, \"Ano\" integer not null);''')"
   ]
  },
  {
   "cell_type": "code",
   "execution_count": 9,
   "metadata": {
    "execution": {
     "iopub.execute_input": "2022-06-26T19:16:01.616013Z",
     "iopub.status.busy": "2022-06-26T19:16:01.614870Z",
     "iopub.status.idle": "2022-06-26T19:16:01.648703Z",
     "shell.execute_reply": "2022-06-26T19:16:01.647496Z"
    }
   },
   "outputs": [
    {
     "name": "stdout",
     "output_type": "stream",
     "text": [
      "Criando a tabela de origem_animal caso não exista...\n",
      "Query executada!\n"
     ]
    }
   ],
   "source": [
    "print('Criando a tabela de origem_animal caso não exista...')\n",
    "\n",
    "create_database('''CREATE TABLE IF NOT EXISTS efetivo_rebanho (\"id\" serial primary key, \n",
    "\"Cod\" integer not null, \"Unidade da Federacao e Municipio\" char(100) not null,\n",
    "\"Variavel\" char(200) not null, \"Tipo de rebanho\" char(200) not null, \"Ano\" integer not null,\n",
    "\"Total\" integer not null);''')"
   ]
  },
  {
   "cell_type": "code",
   "execution_count": 10,
   "metadata": {
    "execution": {
     "iopub.execute_input": "2022-06-26T19:16:01.681353Z",
     "iopub.status.busy": "2022-06-26T19:16:01.680932Z",
     "iopub.status.idle": "2022-06-26T19:16:01.864456Z",
     "shell.execute_reply": "2022-06-26T19:16:01.863659Z"
    }
   },
   "outputs": [
    {
     "name": "stdout",
     "output_type": "stream",
     "text": [
      "Conexão com banco de dados criada...\n"
     ]
    }
   ],
   "source": [
    "SQLALCHEMY = f\"{SGBD_}://{user}:{password_}@{host}:{port}/{database}\"\n",
    "\n",
    "engine = create_engine(SQLALCHEMY)\n",
    "conn = engine.connect()\n",
    "print('Conexão com banco de dados criada...')"
   ]
  },
  {
   "cell_type": "code",
   "execution_count": 11,
   "metadata": {
    "execution": {
     "iopub.execute_input": "2022-06-26T19:16:01.932021Z",
     "iopub.status.busy": "2022-06-26T19:16:01.930928Z",
     "iopub.status.idle": "2022-06-26T19:16:05.758521Z",
     "shell.execute_reply": "2022-06-26T19:16:05.757012Z"
    }
   },
   "outputs": [
    {
     "name": "stdout",
     "output_type": "stream",
     "text": [
      "Realizando os Insert na tabela origem_animal...\n"
     ]
    },
    {
     "name": "stdout",
     "output_type": "stream",
     "text": [
      "Insert no banco de dados Realizado...\n"
     ]
    }
   ],
   "source": [
    "print('Realizando os Insert na tabela origem_animal...')\n",
    "origem_animal.to_sql('origem_animal', con=conn, if_exists='replace', index=False)\n",
    "print('Insert no banco de dados Realizado...')"
   ]
  },
  {
   "cell_type": "code",
   "execution_count": 12,
   "metadata": {
    "execution": {
     "iopub.execute_input": "2022-06-26T19:16:05.794188Z",
     "iopub.status.busy": "2022-06-26T19:16:05.793191Z",
     "iopub.status.idle": "2022-06-26T19:16:07.803211Z",
     "shell.execute_reply": "2022-06-26T19:16:07.801641Z"
    }
   },
   "outputs": [
    {
     "name": "stdout",
     "output_type": "stream",
     "text": [
      "Realizando os Insert na tabela efetivo_rebanho...\n"
     ]
    },
    {
     "name": "stdout",
     "output_type": "stream",
     "text": [
      "Insert no banco de dados Realizado...\n"
     ]
    }
   ],
   "source": [
    "print('Realizando os Insert na tabela efetivo_rebanho...')\n",
    "efetivo_rebanho.to_sql('efetivo_rebanho', con=conn, if_exists='replace', index=False)\n",
    "print('Insert no banco de dados Realizado...')"
   ]
  },
  {
   "cell_type": "code",
   "execution_count": 13,
   "metadata": {
    "execution": {
     "iopub.execute_input": "2022-06-26T19:16:07.863237Z",
     "iopub.status.busy": "2022-06-26T19:16:07.862542Z",
     "iopub.status.idle": "2022-06-26T19:16:07.870555Z",
     "shell.execute_reply": "2022-06-26T19:16:07.868969Z"
    }
   },
   "outputs": [
    {
     "name": "stdout",
     "output_type": "stream",
     "text": [
      "Script executado com sucesso!\n"
     ]
    }
   ],
   "source": [
    "print('Script executado com sucesso!')"
   ]
  },
  {
   "cell_type": "code",
   "execution_count": null,
   "metadata": {},
   "outputs": [],
   "source": []
  }
 ],
 "metadata": {
  "kernelspec": {
   "display_name": "Python 3",
   "language": "python",
   "name": "orchest-kernel-6449305e-5170-4e80-84d9-5e9c3ca98522"
  },
  "language_info": {
   "codemirror_mode": {
    "name": "ipython",
    "version": 3
   },
   "file_extension": ".py",
   "mimetype": "text/x-python",
   "name": "python",
   "nbconvert_exporter": "python",
   "pygments_lexer": "ipython3",
   "version": "3.9.10"
  }
 },
 "nbformat": 4,
 "nbformat_minor": 4
}
