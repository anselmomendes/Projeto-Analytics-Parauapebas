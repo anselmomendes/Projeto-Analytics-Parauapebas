{
 "cells": [
  {
   "cell_type": "code",
   "execution_count": 1,
   "metadata": {
    "execution": {
     "iopub.execute_input": "2022-06-26T18:59:28.467126Z",
     "iopub.status.busy": "2022-06-26T18:59:28.466719Z",
     "iopub.status.idle": "2022-06-26T18:59:29.612636Z",
     "shell.execute_reply": "2022-06-26T18:59:29.610683Z"
    }
   },
   "outputs": [
    {
     "name": "stdout",
     "output_type": "stream",
     "text": [
      "Importando Bibliotecas...\n"
     ]
    },
    {
     "name": "stdout",
     "output_type": "stream",
     "text": [
      "Bibliotecas importadas\n"
     ]
    }
   ],
   "source": [
    "print('Importando Bibliotecas...')\n",
    "import psycopg2\n",
    "import orchest\n",
    "import pandas\n",
    "import sqlalchemy\n",
    "from sqlalchemy import create_engine\n",
    "import urllib.parse\n",
    "import warnings\n",
    "warnings.filterwarnings('ignore')\n",
    "print('Bibliotecas importadas')"
   ]
  },
  {
   "cell_type": "code",
   "execution_count": 2,
   "metadata": {
    "execution": {
     "iopub.execute_input": "2022-06-26T18:59:29.654157Z",
     "iopub.status.busy": "2022-06-26T18:59:29.653814Z",
     "iopub.status.idle": "2022-06-26T18:59:29.661409Z",
     "shell.execute_reply": "2022-06-26T18:59:29.660399Z"
    }
   },
   "outputs": [
    {
     "name": "stdout",
     "output_type": "stream",
     "text": [
      "carregando as credenciais do banco de dados...\n"
     ]
    }
   ],
   "source": [
    "print('carregando as credenciais do banco de dados...')\n",
    "SGBD = 'postgresql'\n",
    "SGBD_ = 'postgresql+pg8000'\n",
    "host = '69.64.34.252'\n",
    "port = '5432'\n",
    "database = 'parauapebas'\n",
    "user = 'dtwanalytics'\n",
    "password = 'dtw@2022'\n",
    "password_ = urllib.parse.quote_plus('dtw@2022')"
   ]
  },
  {
   "cell_type": "code",
   "execution_count": 3,
   "metadata": {
    "execution": {
     "iopub.execute_input": "2022-06-26T18:59:29.694840Z",
     "iopub.status.busy": "2022-06-26T18:59:29.694005Z",
     "iopub.status.idle": "2022-06-26T18:59:29.704021Z",
     "shell.execute_reply": "2022-06-26T18:59:29.702853Z"
    }
   },
   "outputs": [
    {
     "name": "stdout",
     "output_type": "stream",
     "text": [
      "Carregando os dados dos steps anteriores...\n"
     ]
    }
   ],
   "source": [
    "print('Carregando os dados dos steps anteriores...')\n",
    "df = orchest.get_inputs()"
   ]
  },
  {
   "cell_type": "code",
   "execution_count": 4,
   "metadata": {
    "execution": {
     "iopub.execute_input": "2022-06-26T18:59:29.735524Z",
     "iopub.status.busy": "2022-06-26T18:59:29.735158Z",
     "iopub.status.idle": "2022-06-26T18:59:29.740124Z",
     "shell.execute_reply": "2022-06-26T18:59:29.739104Z"
    }
   },
   "outputs": [],
   "source": [
    "#df.keys()"
   ]
  },
  {
   "cell_type": "code",
   "execution_count": 5,
   "metadata": {
    "execution": {
     "iopub.execute_input": "2022-06-26T18:59:29.770960Z",
     "iopub.status.busy": "2022-06-26T18:59:29.770515Z",
     "iopub.status.idle": "2022-06-26T18:59:29.776299Z",
     "shell.execute_reply": "2022-06-26T18:59:29.775189Z"
    }
   },
   "outputs": [],
   "source": [
    "origem_animal = df['origem_animal']\n",
    "efetivo_rebanho = df['efetivo_rebanho']"
   ]
  },
  {
   "cell_type": "code",
   "execution_count": 6,
   "metadata": {
    "execution": {
     "iopub.execute_input": "2022-06-26T18:59:29.810365Z",
     "iopub.status.busy": "2022-06-26T18:59:29.810047Z",
     "iopub.status.idle": "2022-06-26T18:59:29.817649Z",
     "shell.execute_reply": "2022-06-26T18:59:29.816361Z"
    }
   },
   "outputs": [],
   "source": [
    "def create_database(sql): \n",
    "    try:\n",
    "        con = psycopg2.connect(host=host, database=database,\n",
    "        user=user, password=password)\n",
    "        cur = con.cursor()\n",
    "        cur.execute(sql)\n",
    "        con.commit()\n",
    "        con.close()\n",
    "        print(\"Query executada!\")\n",
    "    except:\n",
    "        print(\"Erro ao criar o banco de dados.\")"
   ]
  },
  {
   "cell_type": "code",
   "execution_count": 7,
   "metadata": {
    "execution": {
     "iopub.execute_input": "2022-06-26T18:59:29.849387Z",
     "iopub.status.busy": "2022-06-26T18:59:29.849013Z",
     "iopub.status.idle": "2022-06-26T18:59:29.853737Z",
     "shell.execute_reply": "2022-06-26T18:59:29.852658Z"
    }
   },
   "outputs": [],
   "source": [
    "#efetivo_rebanho.head()"
   ]
  },
  {
   "cell_type": "code",
   "execution_count": 8,
   "metadata": {
    "execution": {
     "iopub.execute_input": "2022-06-26T18:59:29.882492Z",
     "iopub.status.busy": "2022-06-26T18:59:29.882159Z",
     "iopub.status.idle": "2022-06-26T18:59:29.915371Z",
     "shell.execute_reply": "2022-06-26T18:59:29.914252Z"
    }
   },
   "outputs": [
    {
     "name": "stdout",
     "output_type": "stream",
     "text": [
      "Criando a tabela de origem_animal caso não exista...\n"
     ]
    },
    {
     "name": "stdout",
     "output_type": "stream",
     "text": [
      "Query executada!\n"
     ]
    }
   ],
   "source": [
    "print('Criando a tabela de origem_animal caso não exista...')\n",
    "\n",
    "create_database('''CREATE TABLE IF NOT EXISTS origem_animal (\"id\" serial primary key, \n",
    "\"Brasil e Município\" integer not null, \"Bovino\" integer not null, \"Bubalino\" integer not null, \n",
    "\"Equino\" integer not null, \"Suíno - total\" integer not null, \n",
    "\"Suíno - matrizes de suínos\" integer not null, \"Caprino\" integer not null, \n",
    "\"Ovino\" integer not null, \"Galináceos - total\" integer not null,\n",
    "\"Galináceos - galinhas\" integer not null, \"Codornas\" integer not null, \"Ano\" integer not null);''')"
   ]
  },
  {
   "cell_type": "code",
   "execution_count": 9,
   "metadata": {
    "execution": {
     "iopub.execute_input": "2022-06-26T18:59:29.947952Z",
     "iopub.status.busy": "2022-06-26T18:59:29.947626Z",
     "iopub.status.idle": "2022-06-26T18:59:29.979180Z",
     "shell.execute_reply": "2022-06-26T18:59:29.977941Z"
    }
   },
   "outputs": [
    {
     "name": "stdout",
     "output_type": "stream",
     "text": [
      "Criando a tabela de origem_animal caso não exista...\n",
      "Query executada!\n"
     ]
    }
   ],
   "source": [
    "print('Criando a tabela de origem_animal caso não exista...')\n",
    "\n",
    "create_database('''CREATE TABLE IF NOT EXISTS efetivo_rebanho (\"id\" serial primary key, \n",
    "\"Cod\" integer not null, \"Unidade da Federacao e Municipio\" char(100) not null,\n",
    "\"Variavel\" char(200) not null, \"Tipo de rebanho\" char(200) not null, \"Ano\" integer not null,\n",
    "\"Total\" integer not null);''')"
   ]
  },
  {
   "cell_type": "code",
   "execution_count": 10,
   "metadata": {
    "execution": {
     "iopub.execute_input": "2022-06-26T18:59:30.038297Z",
     "iopub.status.busy": "2022-06-26T18:59:30.036839Z",
     "iopub.status.idle": "2022-06-26T18:59:30.223428Z",
     "shell.execute_reply": "2022-06-26T18:59:30.222689Z"
    }
   },
   "outputs": [
    {
     "name": "stdout",
     "output_type": "stream",
     "text": [
      "Conexão com banco de dados criada...\n"
     ]
    }
   ],
   "source": [
    "SQLALCHEMY = f\"{SGBD_}://{user}:{password_}@{host}:{port}/{database}\"\n",
    "\n",
    "engine = create_engine(SQLALCHEMY)\n",
    "conn = engine.connect()\n",
    "print('Conexão com banco de dados criada...')"
   ]
  },
  {
   "cell_type": "code",
   "execution_count": 11,
   "metadata": {
    "execution": {
     "iopub.execute_input": "2022-06-26T18:59:30.262949Z",
     "iopub.status.busy": "2022-06-26T18:59:30.262281Z",
     "iopub.status.idle": "2022-06-26T18:59:34.110430Z",
     "shell.execute_reply": "2022-06-26T18:59:34.109204Z"
    }
   },
   "outputs": [
    {
     "name": "stdout",
     "output_type": "stream",
     "text": [
      "Realizando os Insert na tabela origem_animal...\n"
     ]
    },
    {
     "name": "stdout",
     "output_type": "stream",
     "text": [
      "Insert no banco de dados Realizado...\n"
     ]
    }
   ],
   "source": [
    "print('Realizando os Insert na tabela origem_animal...')\n",
    "origem_animal.to_sql('origem_animal', con=conn, if_exists='replace', index=False)\n",
    "print('Insert no banco de dados Realizado...')"
   ]
  },
  {
   "cell_type": "code",
   "execution_count": 12,
   "metadata": {
    "execution": {
     "iopub.execute_input": "2022-06-26T18:59:34.142293Z",
     "iopub.status.busy": "2022-06-26T18:59:34.141902Z",
     "iopub.status.idle": "2022-06-26T18:59:36.123295Z",
     "shell.execute_reply": "2022-06-26T18:59:36.121977Z"
    }
   },
   "outputs": [
    {
     "name": "stdout",
     "output_type": "stream",
     "text": [
      "Realizando os Insert na tabela efetivo_rebanho...\n"
     ]
    },
    {
     "name": "stdout",
     "output_type": "stream",
     "text": [
      "Insert no banco de dados Realizado...\n"
     ]
    }
   ],
   "source": [
    "print('Realizando os Insert na tabela efetivo_rebanho...')\n",
    "efetivo_rebanho.to_sql('efetivo_rebanho', con=conn, if_exists='replace', index=False)\n",
    "print('Insert no banco de dados Realizado...')"
   ]
  },
  {
   "cell_type": "code",
   "execution_count": 13,
   "metadata": {
    "execution": {
     "iopub.execute_input": "2022-06-26T18:59:36.174609Z",
     "iopub.status.busy": "2022-06-26T18:59:36.174203Z",
     "iopub.status.idle": "2022-06-26T18:59:36.181684Z",
     "shell.execute_reply": "2022-06-26T18:59:36.180290Z"
    }
   },
   "outputs": [
    {
     "name": "stdout",
     "output_type": "stream",
     "text": [
      "Script executado com sucesso!\n"
     ]
    }
   ],
   "source": [
    "print('Script executado com sucesso!')"
   ]
  },
  {
   "cell_type": "code",
   "execution_count": null,
   "metadata": {},
   "outputs": [],
   "source": []
  }
 ],
 "metadata": {
  "kernelspec": {
   "display_name": "Python 3",
   "language": "python",
   "name": "orchest-kernel-6449305e-5170-4e80-84d9-5e9c3ca98522"
  },
  "language_info": {
   "codemirror_mode": {
    "name": "ipython",
    "version": 3
   },
   "file_extension": ".py",
   "mimetype": "text/x-python",
   "name": "python",
   "nbconvert_exporter": "python",
   "pygments_lexer": "ipython3",
   "version": "3.9.10"
  }
 },
 "nbformat": 4,
 "nbformat_minor": 4
}
