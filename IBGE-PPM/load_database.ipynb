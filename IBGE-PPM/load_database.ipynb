{
 "cells": [
  {
   "cell_type": "code",
   "execution_count": 12,
   "metadata": {},
   "outputs": [
    {
     "name": "stdout",
     "output_type": "stream",
     "text": [
      "Importando Bibliotecas...\n",
      "Bibliotecas importadas\n"
     ]
    }
   ],
   "source": [
    "print('Importando Bibliotecas...')\n",
    "import psycopg2\n",
    "import orchest\n",
    "import pandas\n",
    "import sqlalchemy\n",
    "from sqlalchemy import create_engine\n",
    "import urllib.parse\n",
    "import warnings\n",
    "warnings.filterwarnings('ignore')\n",
    "print('Bibliotecas importadas')"
   ]
  },
  {
   "cell_type": "code",
   "execution_count": 13,
   "metadata": {},
   "outputs": [
    {
     "name": "stdout",
     "output_type": "stream",
     "text": [
      "carregando as credenciais do banco de dados...\n"
     ]
    }
   ],
   "source": [
    "print('carregando as credenciais do banco de dados...')\n",
    "SGBD = 'postgresql'\n",
    "SGBD_ = 'postgresql+pg8000'\n",
    "host = '69.64.34.252'\n",
    "port = '5432'\n",
    "database = 'parauapebas'\n",
    "user = 'dtwanalytics'\n",
    "password = 'dtw@2022'\n",
    "password_ = urllib.parse.quote_plus('dtw@2022')"
   ]
  },
  {
   "cell_type": "code",
   "execution_count": 14,
   "metadata": {},
   "outputs": [
    {
     "name": "stdout",
     "output_type": "stream",
     "text": [
      "Carregando os dados dos steps anteriores...\n"
     ]
    }
   ],
   "source": [
    "print('Carregando os dados dos steps anteriores...')\n",
    "df = orchest.get_inputs()"
   ]
  },
  {
   "cell_type": "code",
   "execution_count": 15,
   "metadata": {},
   "outputs": [],
   "source": [
    "#df.keys()"
   ]
  },
  {
   "cell_type": "code",
   "execution_count": 16,
   "metadata": {},
   "outputs": [],
   "source": [
    "origem_animal = df['origem_animal']\n",
    "efetivo_rebanho = df['efetivo_rebanho']"
   ]
  },
  {
   "cell_type": "code",
   "execution_count": 28,
   "metadata": {},
   "outputs": [],
   "source": [
    "def create_database(sql): \n",
    "    try:\n",
    "        con = psycopg2.connect(host=host, database=database,\n",
    "        user=user, password=password)\n",
    "        cur = con.cursor()\n",
    "        cur.execute(sql)\n",
    "        con.commit()\n",
    "        con.close()\n",
    "        print(\"Query executada!\")\n",
    "    except:\n",
    "        print(\"Erro ao criar o banco de dados.\")"
   ]
  },
  {
   "cell_type": "code",
   "execution_count": 29,
   "metadata": {},
   "outputs": [
    {
     "data": {
      "text/html": [
       "<div>\n",
       "<style scoped>\n",
       "    .dataframe tbody tr th:only-of-type {\n",
       "        vertical-align: middle;\n",
       "    }\n",
       "\n",
       "    .dataframe tbody tr th {\n",
       "        vertical-align: top;\n",
       "    }\n",
       "\n",
       "    .dataframe thead th {\n",
       "        text-align: right;\n",
       "    }\n",
       "</style>\n",
       "<table border=\"1\" class=\"dataframe\">\n",
       "  <thead>\n",
       "    <tr style=\"text-align: right;\">\n",
       "      <th></th>\n",
       "      <th>Brasil e Município</th>\n",
       "      <th>Leite (Mil litros)</th>\n",
       "      <th>Ovos de galinha (Mil dúzias)</th>\n",
       "      <th>Mel de abelha (Quilogramas)</th>\n",
       "      <th>Leite (Mil litros).1</th>\n",
       "      <th>Ovos de galinha (Mil dúzias).1</th>\n",
       "      <th>Mel de abelha (Quilogramas).1</th>\n",
       "      <th>Leite (Mil litros).2</th>\n",
       "      <th>Ovos de galinha (Mil dúzias).2</th>\n",
       "      <th>Mel de abelha (Quilogramas).2</th>\n",
       "      <th>Leite (Mil litros).3</th>\n",
       "      <th>Ovos de galinha (Mil dúzias).3</th>\n",
       "      <th>Mel de abelha (Quilogramas).3</th>\n",
       "      <th>Leite (Mil litros).4</th>\n",
       "      <th>Ovos de galinha (Mil dúzias).4</th>\n",
       "      <th>Mel de abelha (Quilogramas).4</th>\n",
       "    </tr>\n",
       "  </thead>\n",
       "  <tbody>\n",
       "    <tr>\n",
       "      <th>0</th>\n",
       "      <td>Brasil</td>\n",
       "      <td>33680401</td>\n",
       "      <td>3842896</td>\n",
       "      <td>39677393</td>\n",
       "      <td>33313230</td>\n",
       "      <td>4214488</td>\n",
       "      <td>41695747</td>\n",
       "      <td>33907899</td>\n",
       "      <td>4430236</td>\n",
       "      <td>42268297</td>\n",
       "      <td>34918653</td>\n",
       "      <td>4605411</td>\n",
       "      <td>45801255</td>\n",
       "      <td>35445059</td>\n",
       "      <td>4767338</td>\n",
       "      <td>51507862</td>\n",
       "    </tr>\n",
       "    <tr>\n",
       "      <th>1</th>\n",
       "      <td>Alta Floresta D'Oeste (RO)</td>\n",
       "      <td>7012</td>\n",
       "      <td>265</td>\n",
       "      <td>2702</td>\n",
       "      <td>9024</td>\n",
       "      <td>271</td>\n",
       "      <td>1700</td>\n",
       "      <td>4931</td>\n",
       "      <td>263</td>\n",
       "      <td>1500</td>\n",
       "      <td>7115</td>\n",
       "      <td>258</td>\n",
       "      <td>2800</td>\n",
       "      <td>7258</td>\n",
       "      <td>298</td>\n",
       "      <td>2849</td>\n",
       "    </tr>\n",
       "    <tr>\n",
       "      <th>2</th>\n",
       "      <td>Ariquemes (RO)</td>\n",
       "      <td>15350</td>\n",
       "      <td>285</td>\n",
       "      <td>930</td>\n",
       "      <td>14497</td>\n",
       "      <td>445</td>\n",
       "      <td>1000</td>\n",
       "      <td>15442</td>\n",
       "      <td>418</td>\n",
       "      <td>960</td>\n",
       "      <td>15667</td>\n",
       "      <td>221</td>\n",
       "      <td>1210</td>\n",
       "      <td>16374</td>\n",
       "      <td>279</td>\n",
       "      <td>1251</td>\n",
       "    </tr>\n",
       "    <tr>\n",
       "      <th>3</th>\n",
       "      <td>Cabixi (RO)</td>\n",
       "      <td>7274</td>\n",
       "      <td>128</td>\n",
       "      <td>745</td>\n",
       "      <td>8311</td>\n",
       "      <td>151</td>\n",
       "      <td>680</td>\n",
       "      <td>6798</td>\n",
       "      <td>146</td>\n",
       "      <td>653</td>\n",
       "      <td>7439</td>\n",
       "      <td>105</td>\n",
       "      <td>640</td>\n",
       "      <td>6259</td>\n",
       "      <td>120</td>\n",
       "      <td>608</td>\n",
       "    </tr>\n",
       "    <tr>\n",
       "      <th>4</th>\n",
       "      <td>Cacoal (RO)</td>\n",
       "      <td>26102</td>\n",
       "      <td>996</td>\n",
       "      <td>10057</td>\n",
       "      <td>21814</td>\n",
       "      <td>1645</td>\n",
       "      <td>8500</td>\n",
       "      <td>19399</td>\n",
       "      <td>1630</td>\n",
       "      <td>8320</td>\n",
       "      <td>20554</td>\n",
       "      <td>1901</td>\n",
       "      <td>9000</td>\n",
       "      <td>18668</td>\n",
       "      <td>3813</td>\n",
       "      <td>9299</td>\n",
       "    </tr>\n",
       "  </tbody>\n",
       "</table>\n",
       "</div>"
      ],
      "text/plain": [
       "           Brasil e Município Leite (Mil litros) Ovos de galinha (Mil dúzias)  \\\n",
       "0                      Brasil           33680401                      3842896   \n",
       "1  Alta Floresta D'Oeste (RO)               7012                          265   \n",
       "2              Ariquemes (RO)              15350                          285   \n",
       "3                 Cabixi (RO)               7274                          128   \n",
       "4                 Cacoal (RO)              26102                          996   \n",
       "\n",
       "  Mel de abelha (Quilogramas) Leite (Mil litros).1  \\\n",
       "0                    39677393             33313230   \n",
       "1                        2702                 9024   \n",
       "2                         930                14497   \n",
       "3                         745                 8311   \n",
       "4                       10057                21814   \n",
       "\n",
       "  Ovos de galinha (Mil dúzias).1 Mel de abelha (Quilogramas).1  \\\n",
       "0                        4214488                      41695747   \n",
       "1                            271                          1700   \n",
       "2                            445                          1000   \n",
       "3                            151                           680   \n",
       "4                           1645                          8500   \n",
       "\n",
       "  Leite (Mil litros).2 Ovos de galinha (Mil dúzias).2  \\\n",
       "0             33907899                        4430236   \n",
       "1                 4931                            263   \n",
       "2                15442                            418   \n",
       "3                 6798                            146   \n",
       "4                19399                           1630   \n",
       "\n",
       "  Mel de abelha (Quilogramas).2 Leite (Mil litros).3  \\\n",
       "0                      42268297             34918653   \n",
       "1                          1500                 7115   \n",
       "2                           960                15667   \n",
       "3                           653                 7439   \n",
       "4                          8320                20554   \n",
       "\n",
       "  Ovos de galinha (Mil dúzias).3 Mel de abelha (Quilogramas).3  \\\n",
       "0                        4605411                      45801255   \n",
       "1                            258                          2800   \n",
       "2                            221                          1210   \n",
       "3                            105                           640   \n",
       "4                           1901                          9000   \n",
       "\n",
       "  Leite (Mil litros).4 Ovos de galinha (Mil dúzias).4  \\\n",
       "0             35445059                        4767338   \n",
       "1                 7258                            298   \n",
       "2                16374                            279   \n",
       "3                 6259                            120   \n",
       "4                18668                           3813   \n",
       "\n",
       "  Mel de abelha (Quilogramas).4  \n",
       "0                      51507862  \n",
       "1                          2849  \n",
       "2                          1251  \n",
       "3                           608  \n",
       "4                          9299  "
      ]
     },
     "execution_count": 29,
     "metadata": {},
     "output_type": "execute_result"
    }
   ],
   "source": [
    "origem_animal.head()"
   ]
  },
  {
   "cell_type": "code",
   "execution_count": 33,
   "metadata": {},
   "outputs": [
    {
     "name": "stdout",
     "output_type": "stream",
     "text": [
      "Criando a tabela de origem_animal caso não exista...\n",
      "Erro ao criar o banco de dados.\n"
     ]
    }
   ],
   "source": [
    "print('Criando a tabela de origem_animal caso não exista...')\n",
    "create_database('''CREATE TABLE IF NOT EXISTS origem_animal (\"id\" serial primary key, \n",
    "'Brasil e Município' char(150) not null, 'Leite (Mil litros)' integer not null,\n",
    "'Ovos de galinha (Mil dúzias)' integer not null, 'Mel de abelha (Quilogramas)' integer not null,\n",
    "'Leite (Mil litros).1' integer not null, 'Ovos de galinha (Mil dúzias).1' integer not null,\n",
    "'Mel de abelha (Quilogramas).1' integer not null, 'Leite (Mil litros).2' integer not null,\n",
    "'Ovos de galinha (Mil dúzias).2'integer not null, 'Mel de abelha (Quilogramas).2'\n",
    "integer not null, 'Leite (Mil litros).3' integer not null, 'Ovos de galinha (Mil dúzias).3'\n",
    "integer not null, 'Mel de abelha (Quilogramas).3' integer not null, 'Leite (Mil litros).4' \n",
    "integer not null , 'Ovos de galinha (Mil dúzias).4' integer not null, 'Mel de abelha (Quilogramas).4' integer not null);''')"
   ]
  },
  {
   "cell_type": "code",
   "execution_count": null,
   "metadata": {},
   "outputs": [],
   "source": [
    "print('Criando a tabela de efetivo_rebanho caso não exista...')\n",
    "create_database('''CREATE TABLE IF NOT EXISTS efetivo_rebanho (\"id\" serial primary key, \n",
    "\"Nome da Empresa\" CHAR(150) NOT NULL, \"CNPJ\" CHAR(100) NOT NULL);''')"
   ]
  },
  {
   "cell_type": "code",
   "execution_count": null,
   "metadata": {},
   "outputs": [],
   "source": [
    "def create_database(sql): \n",
    "    try:\n",
    "        con = psycopg2.connect(host=host, database=database,\n",
    "        user=user, password=password)\n",
    "        cur = con.cursor()\n",
    "        cur.execute(sql)\n",
    "        con.commit()\n",
    "        con.close()\n",
    "        print(\"Query executada!\")\n",
    "    except:\n",
    "        print(\"Erro ao criar o banco de dados.\")"
   ]
  },
  {
   "cell_type": "code",
   "execution_count": null,
   "metadata": {},
   "outputs": [],
   "source": [
    "SQLALCHEMY = f\"{SGBD_}://{user}:{password_}@{host}:{port}/{database}\"\n",
    "\n",
    "engine = create_engine(SQLALCHEMY)\n",
    "conn = engine.connect()\n",
    "print('Conexão com banco de dados criada...')"
   ]
  },
  {
   "cell_type": "code",
   "execution_count": null,
   "metadata": {},
   "outputs": [],
   "source": [
    "print('Realizando os Insert na tabela origem_animal...')\n",
    "origem_animal.to_sql('origem_animal', con=conn, if_exists='replace', index=False)\n",
    "print('Insert no banco de dados Realizado...')"
   ]
  },
  {
   "cell_type": "code",
   "execution_count": null,
   "metadata": {},
   "outputs": [],
   "source": [
    "print('Realizando os Insert na tabela efetivo_rebanho...')\n",
    "efetivo_rebanho.to_sql('efetivo_rebanho', con=conn, if_exists='replace', index=False)\n",
    "print('Insert no banco de dados Realizado...')"
   ]
  },
  {
   "cell_type": "code",
   "execution_count": 5,
   "metadata": {},
   "outputs": [
    {
     "name": "stdout",
     "output_type": "stream",
     "text": [
      "Script executado com sucesso!\n"
     ]
    }
   ],
   "source": [
    "print('Script executado com sucesso!')"
   ]
  },
  {
   "cell_type": "code",
   "execution_count": null,
   "metadata": {},
   "outputs": [],
   "source": []
  }
 ],
 "metadata": {
  "kernelspec": {
   "display_name": "Python 3",
   "language": "python",
   "name": "orchest-kernel-6449305e-5170-4e80-84d9-5e9c3ca98522"
  },
  "language_info": {
   "codemirror_mode": {
    "name": "ipython",
    "version": 3
   },
   "file_extension": ".py",
   "mimetype": "text/x-python",
   "name": "python",
   "nbconvert_exporter": "python",
   "pygments_lexer": "ipython3",
   "version": "3.9.10"
  }
 },
 "nbformat": 4,
 "nbformat_minor": 4
}
