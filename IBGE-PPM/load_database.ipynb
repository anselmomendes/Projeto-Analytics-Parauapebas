{
 "cells": [
  {
   "cell_type": "code",
   "execution_count": 13,
   "metadata": {},
   "outputs": [
    {
     "name": "stdout",
     "output_type": "stream",
     "text": [
      "Importando Bibliotecas...\n",
      "Bibliotecas importadas\n"
     ]
    }
   ],
   "source": [
    "print('Importando Bibliotecas...')\n",
    "import psycopg2\n",
    "import orchest\n",
    "import pandas\n",
    "import sqlalchemy\n",
    "from sqlalchemy import create_engine\n",
    "import urllib.parse\n",
    "import warnings\n",
    "warnings.filterwarnings('ignore')\n",
    "print('Bibliotecas importadas')"
   ]
  },
  {
   "cell_type": "code",
   "execution_count": 14,
   "metadata": {},
   "outputs": [
    {
     "name": "stdout",
     "output_type": "stream",
     "text": [
      "carregando as credenciais do banco de dados...\n"
     ]
    }
   ],
   "source": [
    "print('carregando as credenciais do banco de dados...')\n",
    "SGBD = 'postgresql'\n",
    "SGBD_ = 'postgresql+pg8000'\n",
    "host = '69.64.34.252'\n",
    "port = '5432'\n",
    "database = 'parauapebas'\n",
    "user = 'dtwanalytics'\n",
    "password = 'dtw@2022'\n",
    "password_ = urllib.parse.quote_plus('dtw@2022')"
   ]
  },
  {
   "cell_type": "code",
   "execution_count": 15,
   "metadata": {},
   "outputs": [
    {
     "name": "stdout",
     "output_type": "stream",
     "text": [
      "Carregando os dados dos steps anteriores...\n"
     ]
    }
   ],
   "source": [
    "print('Carregando os dados dos steps anteriores...')\n",
    "df = orchest.get_inputs()"
   ]
  },
  {
   "cell_type": "code",
   "execution_count": 16,
   "metadata": {},
   "outputs": [],
   "source": [
    "#df.keys()"
   ]
  },
  {
   "cell_type": "code",
   "execution_count": 17,
   "metadata": {},
   "outputs": [],
   "source": [
    "origem_animal = df['origem_animal']\n",
    "efetivo_rebanho = df['efetivo_rebanho']"
   ]
  },
  {
   "cell_type": "code",
   "execution_count": 30,
   "metadata": {},
   "outputs": [],
   "source": [
    "def create_database(sql): \n",
    "    try:\n",
    "        con = psycopg2.connect(host=host, database=database,\n",
    "        user=user, password=password)\n",
    "        cur = con.cursor()\n",
    "        cur.execute(sql)\n",
    "        con.commit()\n",
    "        con.close()\n",
    "        print(\"Query executada!\")\n",
    "    except:\n",
    "        print(\"Erro ao criar o banco de dados.\")"
   ]
  },
  {
   "cell_type": "code",
   "execution_count": 31,
   "metadata": {},
   "outputs": [
    {
     "data": {
      "text/html": [
       "<div>\n",
       "<style scoped>\n",
       "    .dataframe tbody tr th:only-of-type {\n",
       "        vertical-align: middle;\n",
       "    }\n",
       "\n",
       "    .dataframe tbody tr th {\n",
       "        vertical-align: top;\n",
       "    }\n",
       "\n",
       "    .dataframe thead th {\n",
       "        text-align: right;\n",
       "    }\n",
       "</style>\n",
       "<table border=\"1\" class=\"dataframe\">\n",
       "  <thead>\n",
       "    <tr style=\"text-align: right;\">\n",
       "      <th></th>\n",
       "      <th>Cod</th>\n",
       "      <th>Unidade da Federacao e Municipio</th>\n",
       "      <th>Variavel</th>\n",
       "      <th>Tipo de rebanho</th>\n",
       "      <th>Ano</th>\n",
       "      <th>Total</th>\n",
       "    </tr>\n",
       "  </thead>\n",
       "  <tbody>\n",
       "    <tr>\n",
       "      <th>0</th>\n",
       "      <td>15</td>\n",
       "      <td>Pará</td>\n",
       "      <td>Efetivo dos rebanhos</td>\n",
       "      <td>Bovino</td>\n",
       "      <td>2011</td>\n",
       "      <td>18262547</td>\n",
       "    </tr>\n",
       "    <tr>\n",
       "      <th>1</th>\n",
       "      <td>15</td>\n",
       "      <td>Pará</td>\n",
       "      <td>Efetivo dos rebanhos</td>\n",
       "      <td>Bovino</td>\n",
       "      <td>2012</td>\n",
       "      <td>18605051</td>\n",
       "    </tr>\n",
       "    <tr>\n",
       "      <th>2</th>\n",
       "      <td>15</td>\n",
       "      <td>Pará</td>\n",
       "      <td>Efetivo dos rebanhos</td>\n",
       "      <td>Bovino</td>\n",
       "      <td>2013</td>\n",
       "      <td>19165028</td>\n",
       "    </tr>\n",
       "    <tr>\n",
       "      <th>3</th>\n",
       "      <td>15</td>\n",
       "      <td>Pará</td>\n",
       "      <td>Efetivo dos rebanhos</td>\n",
       "      <td>Bovino</td>\n",
       "      <td>2014</td>\n",
       "      <td>19911217</td>\n",
       "    </tr>\n",
       "    <tr>\n",
       "      <th>4</th>\n",
       "      <td>15</td>\n",
       "      <td>Pará</td>\n",
       "      <td>Efetivo dos rebanhos</td>\n",
       "      <td>Bovino</td>\n",
       "      <td>2015</td>\n",
       "      <td>20271618</td>\n",
       "    </tr>\n",
       "  </tbody>\n",
       "</table>\n",
       "</div>"
      ],
      "text/plain": [
       "  Cod Unidade da Federacao e Municipio              Variavel Tipo de rebanho  \\\n",
       "0  15                             Pará  Efetivo dos rebanhos          Bovino   \n",
       "1  15                             Pará  Efetivo dos rebanhos          Bovino   \n",
       "2  15                             Pará  Efetivo dos rebanhos          Bovino   \n",
       "3  15                             Pará  Efetivo dos rebanhos          Bovino   \n",
       "4  15                             Pará  Efetivo dos rebanhos          Bovino   \n",
       "\n",
       "    Ano     Total  \n",
       "0  2011  18262547  \n",
       "1  2012  18605051  \n",
       "2  2013  19165028  \n",
       "3  2014  19911217  \n",
       "4  2015  20271618  "
      ]
     },
     "execution_count": 31,
     "metadata": {},
     "output_type": "execute_result"
    }
   ],
   "source": [
    "efetivo_rebanho.head()"
   ]
  },
  {
   "cell_type": "code",
   "execution_count": 32,
   "metadata": {},
   "outputs": [
    {
     "name": "stdout",
     "output_type": "stream",
     "text": [
      "Criando a tabela de origem_animal caso não exista...\n",
      "Query executada!\n"
     ]
    }
   ],
   "source": [
    "print('Criando a tabela de origem_animal caso não exista...')\n",
    "\n",
    "create_database('''CREATE TABLE IF NOT EXISTS origem_animal (\"id\" serial primary key, \n",
    "\"Brasil e Município\" integer not null, \"Bovino\" integer not null, \"Bubalino\" integer not null, \n",
    "\"Equino\" integer not null, \"Suíno - total\" integer not null, \n",
    "\"Suíno - matrizes de suínos\" integer not null, \"Caprino\" integer not null, \n",
    "\"Ovino\" integer not null, \"Galináceos - total\" integer not null,\n",
    "\"Galináceos - galinhas\" integer not null, \"Codornas\" integer not null, \"Ano\" integer not null);''')"
   ]
  },
  {
   "cell_type": "code",
   "execution_count": 34,
   "metadata": {},
   "outputs": [
    {
     "name": "stdout",
     "output_type": "stream",
     "text": [
      "Criando a tabela de origem_animal caso não exista...\n",
      "Query executada!\n"
     ]
    }
   ],
   "source": [
    "print('Criando a tabela de origem_animal caso não exista...')\n",
    "\n",
    "create_database('''CREATE TABLE IF NOT EXISTS efetivo_rebanho (\"id\" serial primary key, \n",
    "\"Cod\" integer not null, \"Unidade da Federacao e Municipio\" char(100) not null,\n",
    "\"Variavel\" char(200) not null, \"Tipo de rebanho\" char(200) not null, \"Ano\" integer not null,\n",
    "\"Total\" integer not null);''')"
   ]
  },
  {
   "cell_type": "code",
   "execution_count": 35,
   "metadata": {},
   "outputs": [],
   "source": [
    "def create_database(sql): \n",
    "    try:\n",
    "        con = psycopg2.connect(host=host, database=database,\n",
    "        user=user, password=password)\n",
    "        cur = con.cursor()\n",
    "        cur.execute(sql)\n",
    "        con.commit()\n",
    "        con.close()\n",
    "        print(\"Query executada!\")\n",
    "    except:\n",
    "        print(\"Erro ao criar o banco de dados.\")"
   ]
  },
  {
   "cell_type": "code",
   "execution_count": null,
   "metadata": {},
   "outputs": [],
   "source": [
    "SQLALCHEMY = f\"{SGBD_}://{user}:{password_}@{host}:{port}/{database}\"\n",
    "\n",
    "engine = create_engine(SQLALCHEMY)\n",
    "conn = engine.connect()\n",
    "print('Conexão com banco de dados criada...')"
   ]
  },
  {
   "cell_type": "code",
   "execution_count": null,
   "metadata": {},
   "outputs": [],
   "source": [
    "print('Realizando os Insert na tabela origem_animal...')\n",
    "origem_animal.to_sql('origem_animal', con=conn, if_exists='replace', index=False)\n",
    "print('Insert no banco de dados Realizado...')"
   ]
  },
  {
   "cell_type": "code",
   "execution_count": null,
   "metadata": {},
   "outputs": [],
   "source": [
    "print('Realizando os Insert na tabela efetivo_rebanho...')\n",
    "efetivo_rebanho.to_sql('efetivo_rebanho', con=conn, if_exists='replace', index=False)\n",
    "print('Insert no banco de dados Realizado...')"
   ]
  },
  {
   "cell_type": "code",
   "execution_count": 5,
   "metadata": {},
   "outputs": [
    {
     "name": "stdout",
     "output_type": "stream",
     "text": [
      "Script executado com sucesso!\n"
     ]
    }
   ],
   "source": [
    "print('Script executado com sucesso!')"
   ]
  },
  {
   "cell_type": "code",
   "execution_count": null,
   "metadata": {},
   "outputs": [],
   "source": []
  }
 ],
 "metadata": {
  "kernelspec": {
   "display_name": "Python 3",
   "language": "python",
   "name": "orchest-kernel-6449305e-5170-4e80-84d9-5e9c3ca98522"
  },
  "language_info": {
   "codemirror_mode": {
    "name": "ipython",
    "version": 3
   },
   "file_extension": ".py",
   "mimetype": "text/x-python",
   "name": "python",
   "nbconvert_exporter": "python",
   "pygments_lexer": "ipython3",
   "version": "3.9.10"
  }
 },
 "nbformat": 4,
 "nbformat_minor": 4
}
