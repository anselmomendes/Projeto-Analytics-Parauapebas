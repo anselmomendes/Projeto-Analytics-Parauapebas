{
 "cells": [
  {
   "cell_type": "code",
   "execution_count": 4,
   "metadata": {},
   "outputs": [
    {
     "name": "stdout",
     "output_type": "stream",
     "text": [
      "Requirement already satisfied: openpyxl in /opt/conda/lib/python3.9/site-packages (3.0.10)\n",
      "Requirement already satisfied: et-xmlfile in /opt/conda/lib/python3.9/site-packages (from openpyxl) (1.1.0)\n",
      "\u001b[33mWARNING: Running pip as the 'root' user can result in broken permissions and conflicting behaviour with the system package manager. It is recommended to use a virtual environment instead: https://pip.pypa.io/warnings/venv\u001b[0m\u001b[33m\n",
      "\u001b[0mImportação das bibliotecas realizada com sucesso\n"
     ]
    }
   ],
   "source": [
    "!pip install openpyxl\n",
    "import openpyxl\n",
    "import orchest\n",
    "import pandas as pd\n",
    "import warnings\n",
    "warnings.filterwarnings('ignore')\n",
    "print('Importação das bibliotecas realizada com sucesso')"
   ]
  },
  {
   "cell_type": "code",
   "execution_count": 5,
   "metadata": {},
   "outputs": [],
   "source": [
    "def read_data(url, ano):\n",
    "    data = pd.read_excel(url, skiprows=[0,1,2,3])\n",
    "    data.rename(columns = {\"Unnamed: 0\":'Brasil e Município'}, inplace=True)\n",
    "    data['Ano'] = str(ano)\n",
    "    end = data[data['Brasil e Município'] == 'Fonte: IBGE - Pesquisa da Pecuária Municipal'].index[0]\n",
    "    print(f'Leitura dos dados de {ano} realizado com sucesso.')\n",
    "    return data.iloc[:end]\n",
    "    "
   ]
  },
  {
   "cell_type": "code",
   "execution_count": 6,
   "metadata": {},
   "outputs": [
    {
     "name": "stdout",
     "output_type": "stream",
     "text": [
      "Leitura dos dados de 2020 realizado com sucesso.\n"
     ]
    }
   ],
   "source": [
    "data_2020 = read_data('https://sidra.ibge.gov.br/geratabela/DownloadSelecaoComplexa/-3522610', 2020)"
   ]
  },
  {
   "cell_type": "code",
   "execution_count": 7,
   "metadata": {},
   "outputs": [
    {
     "name": "stdout",
     "output_type": "stream",
     "text": [
      "Leitura dos dados de 2019 realizado com sucesso.\n"
     ]
    }
   ],
   "source": [
    "data_2019 = read_data('https://sidra.ibge.gov.br/geratabela/DownloadSelecaoComplexa/914040418', 2019)"
   ]
  },
  {
   "cell_type": "code",
   "execution_count": 8,
   "metadata": {},
   "outputs": [
    {
     "name": "stdout",
     "output_type": "stream",
     "text": [
      "Leitura dos dados de 2018 realizado com sucesso.\n"
     ]
    }
   ],
   "source": [
    "data_2018 = read_data('https://sidra.ibge.gov.br/geratabela/DownloadSelecaoComplexa/914040418', 2018)"
   ]
  },
  {
   "cell_type": "code",
   "execution_count": 9,
   "metadata": {},
   "outputs": [
    {
     "name": "stdout",
     "output_type": "stream",
     "text": [
      "Leitura dos dados de 2017 realizado com sucesso.\n"
     ]
    }
   ],
   "source": [
    "data_2017 = read_data('https://sidra.ibge.gov.br/geratabela/DownloadSelecaoComplexa/295143836', 2017)"
   ]
  },
  {
   "cell_type": "code",
   "execution_count": 10,
   "metadata": {},
   "outputs": [
    {
     "name": "stdout",
     "output_type": "stream",
     "text": [
      "Leitura dos dados de 2016 realizado com sucesso.\n"
     ]
    }
   ],
   "source": [
    "data_2016 = read_data('https://sidra.ibge.gov.br/geratabela/DownloadSelecaoComplexa/-1840263785', 2016)"
   ]
  },
  {
   "cell_type": "code",
   "execution_count": 11,
   "metadata": {},
   "outputs": [],
   "source": [
    "#data_2019.head()"
   ]
  },
  {
   "cell_type": "code",
   "execution_count": 12,
   "metadata": {},
   "outputs": [
    {
     "name": "stdout",
     "output_type": "stream",
     "text": [
      "Fazendo a união das bases coletadas.\n"
     ]
    }
   ],
   "source": [
    "print('Fazendo a união das bases coletadas.')\n",
    "origem_animal = pd.concat([data_2020,data_2019,data_2018, data_2017, data_2016])"
   ]
  },
  {
   "cell_type": "code",
   "execution_count": 13,
   "metadata": {},
   "outputs": [
    {
     "name": "stdout",
     "output_type": "stream",
     "text": [
      "remover colunas vazias...\n"
     ]
    }
   ],
   "source": [
    "print('remover colunas vazias...')\n",
    "origem_animal.dropna(inplace=True)"
   ]
  },
  {
   "cell_type": "code",
   "execution_count": 14,
   "metadata": {},
   "outputs": [],
   "source": [
    "#origem_animal.head()"
   ]
  },
  {
   "cell_type": "code",
   "execution_count": 15,
   "metadata": {},
   "outputs": [],
   "source": [
    "#origem_animal.columns"
   ]
  },
  {
   "cell_type": "code",
   "execution_count": 16,
   "metadata": {},
   "outputs": [
    {
     "name": "stdout",
     "output_type": "stream",
     "text": [
      "Exportando os dados para o proximo step...\n"
     ]
    }
   ],
   "source": [
    "print('Exportando os dados para o proximo step...')\n",
    "orchest.output(origem_animal,\"origem_animal\")"
   ]
  },
  {
   "cell_type": "code",
   "execution_count": 17,
   "metadata": {},
   "outputs": [
    {
     "name": "stdout",
     "output_type": "stream",
     "text": [
      "Script executado com sucesso!\n"
     ]
    }
   ],
   "source": [
    "print('Script executado com sucesso!')"
   ]
  },
  {
   "cell_type": "code",
   "execution_count": null,
   "metadata": {},
   "outputs": [],
   "source": []
  }
 ],
 "metadata": {
  "interpreter": {
   "hash": "31c343df0307e317f338e13842f1848929a1168821279cd78d86c2cef5573c6f"
  },
  "kernelspec": {
   "display_name": "Python 3",
   "language": "python",
   "name": "orchest-kernel-6449305e-5170-4e80-84d9-5e9c3ca98522"
  },
  "language_info": {
   "codemirror_mode": {
    "name": "ipython",
    "version": 3
   },
   "file_extension": ".py",
   "mimetype": "text/x-python",
   "name": "python",
   "nbconvert_exporter": "python",
   "pygments_lexer": "ipython3",
   "version": "3.9.10"
  }
 },
 "nbformat": 4,
 "nbformat_minor": 4
}
