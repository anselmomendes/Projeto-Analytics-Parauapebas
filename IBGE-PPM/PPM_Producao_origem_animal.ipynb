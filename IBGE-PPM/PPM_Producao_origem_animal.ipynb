{
 "cells": [
  {
   "cell_type": "code",
   "execution_count": 19,
   "metadata": {
    "tags": []
   },
   "outputs": [
    {
     "name": "stdout",
     "output_type": "stream",
     "text": [
      "Requirement already satisfied: openpyxl in /opt/conda/lib/python3.9/site-packages (3.0.10)\n",
      "Requirement already satisfied: et-xmlfile in /opt/conda/lib/python3.9/site-packages (from openpyxl) (1.1.0)\n",
      "\u001b[33mWARNING: Running pip as the 'root' user can result in broken permissions and conflicting behaviour with the system package manager. It is recommended to use a virtual environment instead: https://pip.pypa.io/warnings/venv\u001b[0m\u001b[33m\n",
      "\u001b[0mImportação das bibliotecas realizada com sucesso\n"
     ]
    }
   ],
   "source": [
    "!pip install openpyxl;\n",
    "import openpyxl\n",
    "import orchest\n",
    "import pandas as pd\n",
    "import warnings\n",
    "warnings.filterwarnings('ignore')\n",
    "print('Importação das bibliotecas realizada com sucesso')"
   ]
  },
  {
   "cell_type": "code",
   "execution_count": 2,
   "metadata": {
    "execution": {
     "iopub.execute_input": "2022-06-26T18:58:48.161460Z",
     "iopub.status.busy": "2022-06-26T18:58:48.161069Z",
     "iopub.status.idle": "2022-06-26T18:58:48.169734Z",
     "shell.execute_reply": "2022-06-26T18:58:48.168671Z"
    }
   },
   "outputs": [],
   "source": [
    "def read_data(url, ano):\n",
    "    data = pd.read_excel(url, skiprows=[0,1,2,3])\n",
    "    data.rename(columns = {\"Unnamed: 0\":'Brasil e Município'}, inplace=True)\n",
    "    data['Ano'] = str(ano)\n",
    "    end = data[data['Brasil e Município'] == 'Fonte: IBGE - Pesquisa da Pecuária Municipal'].index[0]\n",
    "    print(f'Leitura dos dados de {ano} realizado com sucesso.')\n",
    "    return data.iloc[:end]\n",
    "    "
   ]
  },
  {
   "cell_type": "code",
   "execution_count": 3,
   "metadata": {
    "execution": {
     "iopub.execute_input": "2022-06-26T18:58:48.216517Z",
     "iopub.status.busy": "2022-06-26T18:58:48.216154Z",
     "iopub.status.idle": "2022-06-26T18:58:50.077815Z",
     "shell.execute_reply": "2022-06-26T18:58:50.076651Z"
    }
   },
   "outputs": [
    {
     "name": "stdout",
     "output_type": "stream",
     "text": [
      "Leitura dos dados de 2020 realizado com sucesso.\n"
     ]
    }
   ],
   "source": [
    "data_2020 = read_data('https://sidra.ibge.gov.br/geratabela/DownloadSelecaoComplexa/-3522610', 2020)"
   ]
  },
  {
   "cell_type": "code",
   "execution_count": 4,
   "metadata": {
    "execution": {
     "iopub.execute_input": "2022-06-26T18:58:50.119843Z",
     "iopub.status.busy": "2022-06-26T18:58:50.119515Z",
     "iopub.status.idle": "2022-06-26T18:58:53.057745Z",
     "shell.execute_reply": "2022-06-26T18:58:53.056267Z"
    }
   },
   "outputs": [
    {
     "name": "stdout",
     "output_type": "stream",
     "text": [
      "Leitura dos dados de 2019 realizado com sucesso.\n"
     ]
    }
   ],
   "source": [
    "data_2019 = read_data('https://sidra.ibge.gov.br/geratabela/DownloadSelecaoComplexa/914040418', 2019)"
   ]
  },
  {
   "cell_type": "code",
   "execution_count": 5,
   "metadata": {
    "execution": {
     "iopub.execute_input": "2022-06-26T18:58:53.095898Z",
     "iopub.status.busy": "2022-06-26T18:58:53.095580Z",
     "iopub.status.idle": "2022-06-26T18:58:54.746963Z",
     "shell.execute_reply": "2022-06-26T18:58:54.746079Z"
    }
   },
   "outputs": [
    {
     "name": "stdout",
     "output_type": "stream",
     "text": [
      "Leitura dos dados de 2018 realizado com sucesso.\n"
     ]
    }
   ],
   "source": [
    "data_2018 = read_data('https://sidra.ibge.gov.br/geratabela/DownloadSelecaoComplexa/914040418', 2018)"
   ]
  },
  {
   "cell_type": "code",
   "execution_count": 6,
   "metadata": {
    "execution": {
     "iopub.execute_input": "2022-06-26T18:58:54.798635Z",
     "iopub.status.busy": "2022-06-26T18:58:54.798130Z",
     "iopub.status.idle": "2022-06-26T18:58:56.541082Z",
     "shell.execute_reply": "2022-06-26T18:58:56.539835Z"
    }
   },
   "outputs": [
    {
     "name": "stdout",
     "output_type": "stream",
     "text": [
      "Leitura dos dados de 2017 realizado com sucesso.\n"
     ]
    }
   ],
   "source": [
    "data_2017 = read_data('https://sidra.ibge.gov.br/geratabela/DownloadSelecaoComplexa/295143836', 2017)"
   ]
  },
  {
   "cell_type": "code",
   "execution_count": 7,
   "metadata": {
    "execution": {
     "iopub.execute_input": "2022-06-26T18:58:56.593379Z",
     "iopub.status.busy": "2022-06-26T18:58:56.592921Z",
     "iopub.status.idle": "2022-06-26T18:58:58.263296Z",
     "shell.execute_reply": "2022-06-26T18:58:58.262378Z"
    }
   },
   "outputs": [
    {
     "name": "stdout",
     "output_type": "stream",
     "text": [
      "Leitura dos dados de 2016 realizado com sucesso.\n"
     ]
    }
   ],
   "source": [
    "data_2016 = read_data('https://sidra.ibge.gov.br/geratabela/DownloadSelecaoComplexa/-1840263785', 2016)"
   ]
  },
  {
   "cell_type": "code",
   "execution_count": 8,
   "metadata": {
    "execution": {
     "iopub.execute_input": "2022-06-26T18:58:58.310908Z",
     "iopub.status.busy": "2022-06-26T18:58:58.309345Z",
     "iopub.status.idle": "2022-06-26T18:58:58.315548Z",
     "shell.execute_reply": "2022-06-26T18:58:58.314592Z"
    }
   },
   "outputs": [],
   "source": [
    "#data_2019.head()"
   ]
  },
  {
   "cell_type": "code",
   "execution_count": 9,
   "metadata": {
    "execution": {
     "iopub.execute_input": "2022-06-26T18:58:58.353975Z",
     "iopub.status.busy": "2022-06-26T18:58:58.353560Z",
     "iopub.status.idle": "2022-06-26T18:58:58.368842Z",
     "shell.execute_reply": "2022-06-26T18:58:58.367400Z"
    }
   },
   "outputs": [
    {
     "name": "stdout",
     "output_type": "stream",
     "text": [
      "Fazendo a união das bases coletadas.\n"
     ]
    }
   ],
   "source": [
    "print('Fazendo a união das bases coletadas.')\n",
    "origem_animal = pd.concat([data_2020,data_2019,data_2018, data_2017, data_2016])"
   ]
  },
  {
   "cell_type": "code",
   "execution_count": 10,
   "metadata": {
    "execution": {
     "iopub.execute_input": "2022-06-26T18:58:58.408716Z",
     "iopub.status.busy": "2022-06-26T18:58:58.408330Z",
     "iopub.status.idle": "2022-06-26T18:58:58.420919Z",
     "shell.execute_reply": "2022-06-26T18:58:58.419718Z"
    }
   },
   "outputs": [
    {
     "name": "stdout",
     "output_type": "stream",
     "text": [
      "remover colunas vazias...\n"
     ]
    }
   ],
   "source": [
    "print('remover colunas vazias...')\n",
    "origem_animal.dropna(inplace=True)"
   ]
  },
  {
   "cell_type": "code",
   "execution_count": 11,
   "metadata": {
    "execution": {
     "iopub.execute_input": "2022-06-26T18:58:58.460174Z",
     "iopub.status.busy": "2022-06-26T18:58:58.459826Z",
     "iopub.status.idle": "2022-06-26T18:58:58.464730Z",
     "shell.execute_reply": "2022-06-26T18:58:58.463468Z"
    }
   },
   "outputs": [],
   "source": [
    "#origem_animal.head()"
   ]
  },
  {
   "cell_type": "code",
   "execution_count": 12,
   "metadata": {
    "execution": {
     "iopub.execute_input": "2022-06-26T18:58:58.504232Z",
     "iopub.status.busy": "2022-06-26T18:58:58.503578Z",
     "iopub.status.idle": "2022-06-26T18:58:58.510409Z",
     "shell.execute_reply": "2022-06-26T18:58:58.508603Z"
    }
   },
   "outputs": [],
   "source": [
    "#origem_animal.columns"
   ]
  },
  {
   "cell_type": "code",
   "execution_count": 13,
   "metadata": {
    "execution": {
     "iopub.execute_input": "2022-06-26T18:58:58.559044Z",
     "iopub.status.busy": "2022-06-26T18:58:58.558287Z",
     "iopub.status.idle": "2022-06-26T18:58:58.567520Z",
     "shell.execute_reply": "2022-06-26T18:58:58.566304Z"
    }
   },
   "outputs": [
    {
     "name": "stdout",
     "output_type": "stream",
     "text": [
      "Exportando os dados para o proximo step...\n"
     ]
    }
   ],
   "source": [
    "print('Exportando os dados para o proximo step...')\n",
    "orchest.output(origem_animal,\"origem_animal\")"
   ]
  },
  {
   "cell_type": "code",
   "execution_count": 14,
   "metadata": {
    "execution": {
     "iopub.execute_input": "2022-06-26T18:58:58.606665Z",
     "iopub.status.busy": "2022-06-26T18:58:58.606193Z",
     "iopub.status.idle": "2022-06-26T18:58:58.612021Z",
     "shell.execute_reply": "2022-06-26T18:58:58.611050Z"
    }
   },
   "outputs": [
    {
     "name": "stdout",
     "output_type": "stream",
     "text": [
      "Script executado com sucesso!\n"
     ]
    }
   ],
   "source": [
    "print('Script executado com sucesso!')"
   ]
  },
  {
   "cell_type": "code",
   "execution_count": null,
   "metadata": {},
   "outputs": [],
   "source": []
  }
 ],
 "metadata": {
  "interpreter": {
   "hash": "31c343df0307e317f338e13842f1848929a1168821279cd78d86c2cef5573c6f"
  },
  "kernelspec": {
   "display_name": "Python 3",
   "language": "python",
   "name": "orchest-kernel-6449305e-5170-4e80-84d9-5e9c3ca98522"
  },
  "language_info": {
   "codemirror_mode": {
    "name": "ipython",
    "version": 3
   },
   "file_extension": ".py",
   "mimetype": "text/x-python",
   "name": "python",
   "nbconvert_exporter": "python",
   "pygments_lexer": "ipython3",
   "version": "3.9.10"
  }
 },
 "nbformat": 4,
 "nbformat_minor": 4
}
