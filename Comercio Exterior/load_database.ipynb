{
 "cells": [
  {
   "cell_type": "code",
   "execution_count": 1,
   "metadata": {
    "execution": {
     "iopub.execute_input": "2022-06-25T19:50:35.561664Z",
     "iopub.status.busy": "2022-06-25T19:50:35.561007Z",
     "iopub.status.idle": "2022-06-25T19:50:36.746599Z",
     "shell.execute_reply": "2022-06-25T19:50:36.745206Z"
    },
    "tags": []
   },
   "outputs": [
    {
     "name": "stdout",
     "output_type": "stream",
     "text": [
      "Importando Bibliotecas...\n"
     ]
    },
    {
     "name": "stdout",
     "output_type": "stream",
     "text": [
      "Bibliotecas importadas\n"
     ]
    }
   ],
   "source": [
    "print('Importando Bibliotecas...')\n",
    "import psycopg2\n",
    "import orchest\n",
    "import pandas\n",
    "import sqlalchemy\n",
    "from sqlalchemy import create_engine\n",
    "import urllib.parse\n",
    "print('Bibliotecas importadas')"
   ]
  },
  {
   "cell_type": "raw",
   "metadata": {
    "tags": []
   },
   "source": [
    "#Credenciais do outro banco\n",
    "SGBD = 'postgresql'\n",
    "host = '69.64.34.252'\n",
    "port = '5432'\n",
    "database = 'dtwanalytics'\n",
    "user = 'anselmo'\n",
    "password = 'anselmo'"
   ]
  },
  {
   "cell_type": "code",
   "execution_count": 2,
   "metadata": {
    "execution": {
     "iopub.execute_input": "2022-06-25T19:50:36.810205Z",
     "iopub.status.busy": "2022-06-25T19:50:36.809399Z",
     "iopub.status.idle": "2022-06-25T19:50:36.818617Z",
     "shell.execute_reply": "2022-06-25T19:50:36.817279Z"
    }
   },
   "outputs": [
    {
     "name": "stdout",
     "output_type": "stream",
     "text": [
      "carregando as credenciais do banco de dados...\n"
     ]
    }
   ],
   "source": [
    "print('carregando as credenciais do banco de dados...')\n",
    "SGBD = 'postgresql'\n",
    "SGBD_ = 'postgresql+pg8000'\n",
    "host = '69.64.34.252'\n",
    "port = '5432'\n",
    "database = 'parauapebas'\n",
    "user = 'dtwanalytics'\n",
    "password = 'dtw@2022'\n",
    "password_ = urllib.parse.quote_plus('dtw@2022')"
   ]
  },
  {
   "cell_type": "code",
   "execution_count": 3,
   "metadata": {
    "execution": {
     "iopub.execute_input": "2022-06-25T19:50:36.852151Z",
     "iopub.status.busy": "2022-06-25T19:50:36.851818Z",
     "iopub.status.idle": "2022-06-25T19:50:36.862298Z",
     "shell.execute_reply": "2022-06-25T19:50:36.860934Z"
    },
    "tags": []
   },
   "outputs": [
    {
     "name": "stdout",
     "output_type": "stream",
     "text": [
      "Carregando os dados dos steps anteriores...\n"
     ]
    }
   ],
   "source": [
    "print('Carregando os dados dos steps anteriores...')\n",
    "df = orchest.get_inputs()"
   ]
  },
  {
   "cell_type": "code",
   "execution_count": 4,
   "metadata": {
    "execution": {
     "iopub.execute_input": "2022-06-25T19:50:36.895412Z",
     "iopub.status.busy": "2022-06-25T19:50:36.894902Z",
     "iopub.status.idle": "2022-06-25T19:50:36.900357Z",
     "shell.execute_reply": "2022-06-25T19:50:36.899214Z"
    },
    "tags": []
   },
   "outputs": [],
   "source": [
    "exportacao = df['exportacao']\n",
    "importacao = df['importacao']"
   ]
  },
  {
   "cell_type": "code",
   "execution_count": 5,
   "metadata": {
    "execution": {
     "iopub.execute_input": "2022-06-25T19:50:36.933471Z",
     "iopub.status.busy": "2022-06-25T19:50:36.933034Z",
     "iopub.status.idle": "2022-06-25T19:50:36.942317Z",
     "shell.execute_reply": "2022-06-25T19:50:36.941453Z"
    },
    "tags": []
   },
   "outputs": [
    {
     "name": "stdout",
     "output_type": "stream",
     "text": [
      "Realizando a limpeza dos dados ausentes...\n"
     ]
    }
   ],
   "source": [
    "print('Realizando a limpeza dos dados ausentes...')\n",
    "exportacao.dropna(inplace=True)\n",
    "importacao.dropna(inplace=True)"
   ]
  },
  {
   "cell_type": "code",
   "execution_count": 6,
   "metadata": {
    "execution": {
     "iopub.execute_input": "2022-06-25T19:50:36.974934Z",
     "iopub.status.busy": "2022-06-25T19:50:36.974275Z",
     "iopub.status.idle": "2022-06-25T19:50:36.979017Z",
     "shell.execute_reply": "2022-06-25T19:50:36.978079Z"
    }
   },
   "outputs": [],
   "source": [
    "#exportacao.head()"
   ]
  },
  {
   "cell_type": "code",
   "execution_count": 7,
   "metadata": {
    "execution": {
     "iopub.execute_input": "2022-06-25T19:50:37.011517Z",
     "iopub.status.busy": "2022-06-25T19:50:37.010696Z",
     "iopub.status.idle": "2022-06-25T19:50:37.016089Z",
     "shell.execute_reply": "2022-06-25T19:50:37.014753Z"
    },
    "tags": []
   },
   "outputs": [],
   "source": [
    "#importacao.head()"
   ]
  },
  {
   "cell_type": "code",
   "execution_count": 8,
   "metadata": {
    "execution": {
     "iopub.execute_input": "2022-06-25T19:50:37.046174Z",
     "iopub.status.busy": "2022-06-25T19:50:37.045400Z",
     "iopub.status.idle": "2022-06-25T19:50:37.077118Z",
     "shell.execute_reply": "2022-06-25T19:50:37.075817Z"
    },
    "tags": []
   },
   "outputs": [
    {
     "name": "stdout",
     "output_type": "stream",
     "text": [
      "Criando a tabela de Importação caso não exista...\n"
     ]
    }
   ],
   "source": [
    "print('Criando a tabela de Importação caso não exista...')\n",
    "\n",
    "con = psycopg2.connect(host=host, database=database,\n",
    "user=user, password=password)\n",
    "cur = con.cursor()\n",
    "sql = \"\"\"CREATE TABLE IF NOT EXISTS importacao (\"id\" serial primary key, \"Ano\" integer NOT NULL, \"Mês\" integer  NOT NULL, \"Município\" varchar(50) NOT NULL, \"Valor FOB (US$)\" integer NOT NULL);\"\"\"\n",
    "cur.execute(sql)\n",
    "con.commit()\n",
    "con.close()"
   ]
  },
  {
   "cell_type": "code",
   "execution_count": 9,
   "metadata": {
    "execution": {
     "iopub.execute_input": "2022-06-25T19:50:37.107937Z",
     "iopub.status.busy": "2022-06-25T19:50:37.107623Z",
     "iopub.status.idle": "2022-06-25T19:50:37.138829Z",
     "shell.execute_reply": "2022-06-25T19:50:37.137614Z"
    },
    "tags": []
   },
   "outputs": [
    {
     "name": "stdout",
     "output_type": "stream",
     "text": [
      "Criando a tabela de Exportação caso não exista...\n"
     ]
    }
   ],
   "source": [
    "print('Criando a tabela de Exportação caso não exista...')\n",
    "con = psycopg2.connect(host=host, database=database,\n",
    "user=user, password=password)\n",
    "cur = con.cursor()\n",
    "sql = \"\"\"CREATE TABLE IF NOT EXISTS exportacao (\"id\" serial primary key, \"Ano\" integer NOT NULL, \"Mês\" integer  NOT NULL, \"Município\" varchar(50) NOT NULL, \"Valor FOB (US$)\" integer NOT NULL);\"\"\"\n",
    "cur.execute(sql)\n",
    "con.commit()\n",
    "con.close()"
   ]
  },
  {
   "cell_type": "code",
   "execution_count": 10,
   "metadata": {
    "execution": {
     "iopub.execute_input": "2022-06-25T19:50:37.170601Z",
     "iopub.status.busy": "2022-06-25T19:50:37.170269Z",
     "iopub.status.idle": "2022-06-25T19:50:37.343607Z",
     "shell.execute_reply": "2022-06-25T19:50:37.342211Z"
    }
   },
   "outputs": [
    {
     "name": "stdout",
     "output_type": "stream",
     "text": [
      "Conexão com banco de dados criada...\n"
     ]
    }
   ],
   "source": [
    "SQLALCHEMY = f\"{SGBD_}://{user}:{password_}@{host}:{port}/{database}\"\n",
    "\n",
    "engine = create_engine(SQLALCHEMY)\n",
    "conn = engine.connect()\n",
    "print('Conexão com banco de dados criada...')"
   ]
  },
  {
   "cell_type": "code",
   "execution_count": 11,
   "metadata": {
    "execution": {
     "iopub.execute_input": "2022-06-25T19:50:37.382242Z",
     "iopub.status.busy": "2022-06-25T19:50:37.381653Z",
     "iopub.status.idle": "2022-06-25T19:50:39.998543Z",
     "shell.execute_reply": "2022-06-25T19:50:39.996726Z"
    },
    "tags": []
   },
   "outputs": [
    {
     "name": "stdout",
     "output_type": "stream",
     "text": [
      "Realizando os Insert na tabela importacão...\n"
     ]
    },
    {
     "name": "stdout",
     "output_type": "stream",
     "text": [
      "Insert no banco de dados Realizado...\n",
      "Realizando os Insert na tabela Exportacao...\n"
     ]
    },
    {
     "name": "stdout",
     "output_type": "stream",
     "text": [
      "Insert no banco de dados Realizado...\n"
     ]
    }
   ],
   "source": [
    "print('Realizando os Insert na tabela importacão...')\n",
    "importacao.to_sql('importacao', con=conn, if_exists='replace', index=False)\n",
    "print('Insert no banco de dados Realizado...')\n",
    "\n",
    "print('Realizando os Insert na tabela Exportacao...')\n",
    "exportacao.to_sql('exportacao', con=conn, if_exists='replace', index=False)\n",
    "print('Insert no banco de dados Realizado...')"
   ]
  },
  {
   "cell_type": "raw",
   "metadata": {},
   "source": [
    "#Realizar a leitura da tabela da conexão atual \n",
    "\n",
    "conn = psycopg2.connect(conn_string)\n",
    "conn.autocommit = True\n",
    "cursor = conn.cursor()\n",
    "sql1 = '''select * from data;'''\n",
    "cursor.execute(sql1)\n",
    "for i in cursor.fetchall():\n",
    "    print(i)\n",
    "conn.close()\n"
   ]
  },
  {
   "cell_type": "code",
   "execution_count": 12,
   "metadata": {
    "execution": {
     "iopub.execute_input": "2022-06-25T19:50:40.065261Z",
     "iopub.status.busy": "2022-06-25T19:50:40.064132Z",
     "iopub.status.idle": "2022-06-25T19:50:40.072205Z",
     "shell.execute_reply": "2022-06-25T19:50:40.070979Z"
    }
   },
   "outputs": [
    {
     "name": "stdout",
     "output_type": "stream",
     "text": [
      "Script executado com sucesso!\n"
     ]
    }
   ],
   "source": [
    "print('Script executado com sucesso!')"
   ]
  }
 ],
 "metadata": {
  "kernelspec": {
   "display_name": "Python 3",
   "language": "python",
   "name": "orchest-kernel-6449305e-5170-4e80-84d9-5e9c3ca98522"
  },
  "language_info": {
   "codemirror_mode": {
    "name": "ipython",
    "version": 3
   },
   "file_extension": ".py",
   "mimetype": "text/x-python",
   "name": "python",
   "nbconvert_exporter": "python",
   "pygments_lexer": "ipython3",
   "version": "3.9.10"
  },
  "vscode": {
   "interpreter": {
    "hash": "31c343df0307e317f338e13842f1848929a1168821279cd78d86c2cef5573c6f"
   }
  }
 },
 "nbformat": 4,
 "nbformat_minor": 4
}
