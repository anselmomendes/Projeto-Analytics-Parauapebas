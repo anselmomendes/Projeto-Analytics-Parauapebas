{
 "cells": [
  {
   "cell_type": "code",
   "execution_count": 1,
   "metadata": {
    "execution": {
     "iopub.execute_input": "2022-06-25T18:49:26.944298Z",
     "iopub.status.busy": "2022-06-25T18:49:26.943607Z",
     "iopub.status.idle": "2022-06-25T18:49:28.125267Z",
     "shell.execute_reply": "2022-06-25T18:49:28.124006Z"
    },
    "tags": []
   },
   "outputs": [
    {
     "name": "stdout",
     "output_type": "stream",
     "text": [
      "Importando Bibliotecas...\n"
     ]
    },
    {
     "name": "stdout",
     "output_type": "stream",
     "text": [
      "Bibliotecas importadas\n"
     ]
    }
   ],
   "source": [
    "print('Importando Bibliotecas...')\n",
    "import psycopg2\n",
    "import orchest\n",
    "import pandas\n",
    "import sqlalchemy\n",
    "from sqlalchemy import create_engine\n",
    "import urllib.parse\n",
    "print('Bibliotecas importadas')"
   ]
  },
  {
   "cell_type": "raw",
   "metadata": {
    "tags": []
   },
   "source": [
    "#Credenciais do outro banco\n",
    "SGBD = 'postgresql'\n",
    "host = '69.64.34.252'\n",
    "port = '5432'\n",
    "database = 'dtwanalytics'\n",
    "user = 'anselmo'\n",
    "password = 'anselmo'"
   ]
  },
  {
   "cell_type": "code",
   "execution_count": 2,
   "metadata": {
    "execution": {
     "iopub.execute_input": "2022-06-25T18:49:28.209063Z",
     "iopub.status.busy": "2022-06-25T18:49:28.208728Z",
     "iopub.status.idle": "2022-06-25T18:49:28.216055Z",
     "shell.execute_reply": "2022-06-25T18:49:28.215238Z"
    }
   },
   "outputs": [
    {
     "name": "stdout",
     "output_type": "stream",
     "text": [
      "carregando as credenciais do banco de dados...\n"
     ]
    }
   ],
   "source": [
    "print('carregando as credenciais do banco de dados...')\n",
    "SGBD = 'postgresql'\n",
    "SGBD_ = 'postgresql+pg8000'\n",
    "host = '69.64.34.252'\n",
    "port = '5432'\n",
    "database = 'parauapebas'\n",
    "user = 'dtwanalytics'\n",
    "password = 'dtw@2022'\n",
    "password_ = urllib.parse.quote_plus('dtw@2022')"
   ]
  },
  {
   "cell_type": "code",
   "execution_count": 3,
   "metadata": {
    "execution": {
     "iopub.execute_input": "2022-06-25T18:49:28.251416Z",
     "iopub.status.busy": "2022-06-25T18:49:28.250974Z",
     "iopub.status.idle": "2022-06-25T18:49:28.260240Z",
     "shell.execute_reply": "2022-06-25T18:49:28.259238Z"
    },
    "tags": []
   },
   "outputs": [
    {
     "name": "stdout",
     "output_type": "stream",
     "text": [
      "Carregando os dados dos steps anteriores...\n"
     ]
    }
   ],
   "source": [
    "print('Carregando os dados dos steps anteriores...')\n",
    "df = orchest.get_inputs()"
   ]
  },
  {
   "cell_type": "code",
   "execution_count": 4,
   "metadata": {
    "execution": {
     "iopub.execute_input": "2022-06-25T18:49:28.298168Z",
     "iopub.status.busy": "2022-06-25T18:49:28.297725Z",
     "iopub.status.idle": "2022-06-25T18:49:28.304067Z",
     "shell.execute_reply": "2022-06-25T18:49:28.302929Z"
    },
    "tags": []
   },
   "outputs": [],
   "source": [
    "exportacao = df['exportacao']\n",
    "importacao = df['importacao']"
   ]
  },
  {
   "cell_type": "code",
   "execution_count": 5,
   "metadata": {
    "execution": {
     "iopub.execute_input": "2022-06-25T18:49:28.340587Z",
     "iopub.status.busy": "2022-06-25T18:49:28.340153Z",
     "iopub.status.idle": "2022-06-25T18:49:28.350607Z",
     "shell.execute_reply": "2022-06-25T18:49:28.349327Z"
    },
    "tags": []
   },
   "outputs": [
    {
     "name": "stdout",
     "output_type": "stream",
     "text": [
      "Realizando a limpeza dos dados ausentes...\n"
     ]
    }
   ],
   "source": [
    "print('Realizando a limpeza dos dados ausentes...')\n",
    "exportacao.dropna(inplace=True)\n",
    "importacao.dropna(inplace=True)"
   ]
  },
  {
   "cell_type": "code",
   "execution_count": 6,
   "metadata": {
    "execution": {
     "iopub.execute_input": "2022-06-25T18:49:28.391349Z",
     "iopub.status.busy": "2022-06-25T18:49:28.390791Z",
     "iopub.status.idle": "2022-06-25T18:49:28.422890Z",
     "shell.execute_reply": "2022-06-25T18:49:28.421880Z"
    }
   },
   "outputs": [
    {
     "data": {
      "text/html": [
       "<div>\n",
       "<style scoped>\n",
       "    .dataframe tbody tr th:only-of-type {\n",
       "        vertical-align: middle;\n",
       "    }\n",
       "\n",
       "    .dataframe tbody tr th {\n",
       "        vertical-align: top;\n",
       "    }\n",
       "\n",
       "    .dataframe thead th {\n",
       "        text-align: right;\n",
       "    }\n",
       "</style>\n",
       "<table border=\"1\" class=\"dataframe\">\n",
       "  <thead>\n",
       "    <tr style=\"text-align: right;\">\n",
       "      <th></th>\n",
       "      <th>Ano</th>\n",
       "      <th>Mês</th>\n",
       "      <th>Município</th>\n",
       "      <th>Valor FOB (US$)</th>\n",
       "    </tr>\n",
       "  </thead>\n",
       "  <tbody>\n",
       "    <tr>\n",
       "      <th>0</th>\n",
       "      <td>2022</td>\n",
       "      <td>3</td>\n",
       "      <td>Parauapebas</td>\n",
       "      <td>609933760</td>\n",
       "    </tr>\n",
       "    <tr>\n",
       "      <th>1</th>\n",
       "      <td>2022</td>\n",
       "      <td>4</td>\n",
       "      <td>Parauapebas</td>\n",
       "      <td>589055150</td>\n",
       "    </tr>\n",
       "    <tr>\n",
       "      <th>2</th>\n",
       "      <td>2022</td>\n",
       "      <td>1</td>\n",
       "      <td>Parauapebas</td>\n",
       "      <td>512683657</td>\n",
       "    </tr>\n",
       "    <tr>\n",
       "      <th>3</th>\n",
       "      <td>2022</td>\n",
       "      <td>2</td>\n",
       "      <td>Parauapebas</td>\n",
       "      <td>510647191</td>\n",
       "    </tr>\n",
       "    <tr>\n",
       "      <th>4</th>\n",
       "      <td>2022</td>\n",
       "      <td>5</td>\n",
       "      <td>Parauapebas</td>\n",
       "      <td>496805798</td>\n",
       "    </tr>\n",
       "  </tbody>\n",
       "</table>\n",
       "</div>"
      ],
      "text/plain": [
       "    Ano  Mês    Município  Valor FOB (US$)\n",
       "0  2022    3  Parauapebas        609933760\n",
       "1  2022    4  Parauapebas        589055150\n",
       "2  2022    1  Parauapebas        512683657\n",
       "3  2022    2  Parauapebas        510647191\n",
       "4  2022    5  Parauapebas        496805798"
      ]
     },
     "execution_count": 6,
     "metadata": {},
     "output_type": "execute_result"
    }
   ],
   "source": [
    "exportacao.head()"
   ]
  },
  {
   "cell_type": "code",
   "execution_count": 7,
   "metadata": {
    "execution": {
     "iopub.execute_input": "2022-06-25T18:49:28.465110Z",
     "iopub.status.busy": "2022-06-25T18:49:28.464682Z",
     "iopub.status.idle": "2022-06-25T18:49:28.479445Z",
     "shell.execute_reply": "2022-06-25T18:49:28.477988Z"
    },
    "tags": []
   },
   "outputs": [
    {
     "data": {
      "text/html": [
       "<div>\n",
       "<style scoped>\n",
       "    .dataframe tbody tr th:only-of-type {\n",
       "        vertical-align: middle;\n",
       "    }\n",
       "\n",
       "    .dataframe tbody tr th {\n",
       "        vertical-align: top;\n",
       "    }\n",
       "\n",
       "    .dataframe thead th {\n",
       "        text-align: right;\n",
       "    }\n",
       "</style>\n",
       "<table border=\"1\" class=\"dataframe\">\n",
       "  <thead>\n",
       "    <tr style=\"text-align: right;\">\n",
       "      <th></th>\n",
       "      <th>Ano</th>\n",
       "      <th>Mês</th>\n",
       "      <th>Município</th>\n",
       "      <th>Valor FOB (US$)</th>\n",
       "    </tr>\n",
       "  </thead>\n",
       "  <tbody>\n",
       "    <tr>\n",
       "      <th>0</th>\n",
       "      <td>2022</td>\n",
       "      <td>5</td>\n",
       "      <td>Parauapebas</td>\n",
       "      <td>14499841</td>\n",
       "    </tr>\n",
       "    <tr>\n",
       "      <th>1</th>\n",
       "      <td>2022</td>\n",
       "      <td>4</td>\n",
       "      <td>Parauapebas</td>\n",
       "      <td>12402993</td>\n",
       "    </tr>\n",
       "    <tr>\n",
       "      <th>2</th>\n",
       "      <td>2022</td>\n",
       "      <td>3</td>\n",
       "      <td>Parauapebas</td>\n",
       "      <td>9380561</td>\n",
       "    </tr>\n",
       "    <tr>\n",
       "      <th>3</th>\n",
       "      <td>2022</td>\n",
       "      <td>2</td>\n",
       "      <td>Parauapebas</td>\n",
       "      <td>11115583</td>\n",
       "    </tr>\n",
       "    <tr>\n",
       "      <th>4</th>\n",
       "      <td>2022</td>\n",
       "      <td>1</td>\n",
       "      <td>Parauapebas</td>\n",
       "      <td>11183668</td>\n",
       "    </tr>\n",
       "  </tbody>\n",
       "</table>\n",
       "</div>"
      ],
      "text/plain": [
       "    Ano  Mês    Município  Valor FOB (US$)\n",
       "0  2022    5  Parauapebas         14499841\n",
       "1  2022    4  Parauapebas         12402993\n",
       "2  2022    3  Parauapebas          9380561\n",
       "3  2022    2  Parauapebas         11115583\n",
       "4  2022    1  Parauapebas         11183668"
      ]
     },
     "execution_count": 7,
     "metadata": {},
     "output_type": "execute_result"
    }
   ],
   "source": [
    "importacao.head()"
   ]
  },
  {
   "cell_type": "code",
   "execution_count": 8,
   "metadata": {
    "execution": {
     "iopub.execute_input": "2022-06-25T18:49:28.518118Z",
     "iopub.status.busy": "2022-06-25T18:49:28.517714Z",
     "iopub.status.idle": "2022-06-25T18:49:28.551440Z",
     "shell.execute_reply": "2022-06-25T18:49:28.550488Z"
    },
    "tags": []
   },
   "outputs": [
    {
     "name": "stdout",
     "output_type": "stream",
     "text": [
      "Criando a tabela de Importação caso não exista...\n"
     ]
    }
   ],
   "source": [
    "print('Criando a tabela de Importação caso não exista...')\n",
    "\n",
    "con = psycopg2.connect(host=host, database=database,\n",
    "user=user, password=password)\n",
    "cur = con.cursor()\n",
    "sql = \"\"\"CREATE TABLE IF NOT EXISTS importacao (\"id\" serial primary key, \"Ano\" integer NOT NULL, \"Mês\" integer  NOT NULL, \"Município\" varchar(50) NOT NULL, \"Valor FOB (US$)\" integer NOT NULL);\"\"\"\n",
    "cur.execute(sql)\n",
    "con.commit()\n",
    "con.close()"
   ]
  },
  {
   "cell_type": "code",
   "execution_count": 9,
   "metadata": {
    "execution": {
     "iopub.execute_input": "2022-06-25T18:49:28.593126Z",
     "iopub.status.busy": "2022-06-25T18:49:28.592756Z",
     "iopub.status.idle": "2022-06-25T18:49:28.626263Z",
     "shell.execute_reply": "2022-06-25T18:49:28.625353Z"
    },
    "tags": []
   },
   "outputs": [
    {
     "name": "stdout",
     "output_type": "stream",
     "text": [
      "Criando a tabela de Exportação caso não exista...\n"
     ]
    }
   ],
   "source": [
    "print('Criando a tabela de Exportação caso não exista...')\n",
    "con = psycopg2.connect(host=host, database=database,\n",
    "user=user, password=password)\n",
    "cur = con.cursor()\n",
    "sql = \"\"\"CREATE TABLE IF NOT EXISTS exportacao (\"id\" serial primary key, \"Ano\" integer NOT NULL, \"Mês\" integer  NOT NULL, \"Município\" varchar(50) NOT NULL, \"Valor FOB (US$)\" integer NOT NULL);\"\"\"\n",
    "cur.execute(sql)\n",
    "con.commit()\n",
    "con.close()"
   ]
  },
  {
   "cell_type": "code",
   "execution_count": 10,
   "metadata": {
    "execution": {
     "iopub.execute_input": "2022-06-25T18:49:28.662620Z",
     "iopub.status.busy": "2022-06-25T18:49:28.662286Z",
     "iopub.status.idle": "2022-06-25T18:49:28.842508Z",
     "shell.execute_reply": "2022-06-25T18:49:28.841108Z"
    }
   },
   "outputs": [
    {
     "name": "stdout",
     "output_type": "stream",
     "text": [
      "Conexão com banco de dados criada...\n"
     ]
    }
   ],
   "source": [
    "SQLALCHEMY = f\"{SGBD_}://{user}:{password_}@{host}:{port}/{database}\"\n",
    "\n",
    "engine = create_engine(SQLALCHEMY)\n",
    "conn = engine.connect()\n",
    "print('Conexão com banco de dados criada...')"
   ]
  },
  {
   "cell_type": "code",
   "execution_count": 11,
   "metadata": {
    "execution": {
     "iopub.execute_input": "2022-06-25T18:49:28.884449Z",
     "iopub.status.busy": "2022-06-25T18:49:28.883439Z",
     "iopub.status.idle": "2022-06-25T18:49:32.013296Z",
     "shell.execute_reply": "2022-06-25T18:49:32.011492Z"
    },
    "tags": []
   },
   "outputs": [
    {
     "name": "stdout",
     "output_type": "stream",
     "text": [
      "Realizando os Insert na tabela importacão...\n"
     ]
    },
    {
     "name": "stdout",
     "output_type": "stream",
     "text": [
      "Insert no banco de dados Realizado...\n",
      "Realizando os Insert na tabela Exportacao...\n"
     ]
    },
    {
     "name": "stdout",
     "output_type": "stream",
     "text": [
      "Insert no banco de dados Realizado...\n"
     ]
    }
   ],
   "source": [
    "print('Realizando os Insert na tabela importacão...')\n",
    "importacao.to_sql('importacao', con=conn, if_exists='replace', index=False)\n",
    "print('Insert no banco de dados Realizado...')\n",
    "\n",
    "print('Realizando os Insert na tabela Exportacao...')\n",
    "exportacao.to_sql('exportacao', con=conn, if_exists='replace', index=False)\n",
    "print('Insert no banco de dados Realizado...')"
   ]
  },
  {
   "cell_type": "raw",
   "metadata": {},
   "source": [
    "#Realizar a leitura da tabela da conexão atual \n",
    "\n",
    "conn = psycopg2.connect(conn_string)\n",
    "conn.autocommit = True\n",
    "cursor = conn.cursor()\n",
    "sql1 = '''select * from data;'''\n",
    "cursor.execute(sql1)\n",
    "for i in cursor.fetchall():\n",
    "    print(i)\n",
    "conn.close()\n"
   ]
  },
  {
   "cell_type": "code",
   "execution_count": null,
   "metadata": {},
   "outputs": [],
   "source": []
  }
 ],
 "metadata": {
  "kernelspec": {
   "display_name": "Python 3",
   "language": "python",
   "name": "orchest-kernel-6449305e-5170-4e80-84d9-5e9c3ca98522"
  },
  "language_info": {
   "codemirror_mode": {
    "name": "ipython",
    "version": 3
   },
   "file_extension": ".py",
   "mimetype": "text/x-python",
   "name": "python",
   "nbconvert_exporter": "python",
   "pygments_lexer": "ipython3",
   "version": "3.9.10"
  },
  "vscode": {
   "interpreter": {
    "hash": "31c343df0307e317f338e13842f1848929a1168821279cd78d86c2cef5573c6f"
   }
  }
 },
 "nbformat": 4,
 "nbformat_minor": 4
}
