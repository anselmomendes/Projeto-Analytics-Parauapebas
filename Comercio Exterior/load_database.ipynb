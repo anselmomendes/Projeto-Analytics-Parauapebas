{
 "cells": [
  {
   "cell_type": "code",
   "execution_count": 1,
   "metadata": {
    "execution": {
     "iopub.execute_input": "2022-06-26T19:05:16.627880Z",
     "iopub.status.busy": "2022-06-26T19:05:16.627175Z",
     "iopub.status.idle": "2022-06-26T19:05:17.802670Z",
     "shell.execute_reply": "2022-06-26T19:05:17.801142Z"
    },
    "tags": []
   },
   "outputs": [
    {
     "name": "stdout",
     "output_type": "stream",
     "text": [
      "Importando Bibliotecas...\n"
     ]
    },
    {
     "name": "stdout",
     "output_type": "stream",
     "text": [
      "Bibliotecas importadas\n"
     ]
    }
   ],
   "source": [
    "print('Importando Bibliotecas...')\n",
    "import psycopg2\n",
    "import orchest\n",
    "import pandas\n",
    "import sqlalchemy\n",
    "from sqlalchemy import create_engine\n",
    "import urllib.parse\n",
    "print('Bibliotecas importadas')"
   ]
  },
  {
   "cell_type": "raw",
   "metadata": {
    "tags": []
   },
   "source": [
    "#Credenciais do outro banco\n",
    "SGBD = 'postgresql'\n",
    "host = '69.64.34.252'\n",
    "port = '5432'\n",
    "database = 'dtwanalytics'\n",
    "user = 'anselmo'\n",
    "password = 'anselmo'"
   ]
  },
  {
   "cell_type": "code",
   "execution_count": 2,
   "metadata": {
    "execution": {
     "iopub.execute_input": "2022-06-26T19:05:17.897158Z",
     "iopub.status.busy": "2022-06-26T19:05:17.896762Z",
     "iopub.status.idle": "2022-06-26T19:05:17.904804Z",
     "shell.execute_reply": "2022-06-26T19:05:17.903402Z"
    },
    "tags": []
   },
   "outputs": [
    {
     "name": "stdout",
     "output_type": "stream",
     "text": [
      "carregando as credenciais do banco de dados...\n"
     ]
    }
   ],
   "source": [
    "print('carregando as credenciais do banco de dados...')\n",
    "SGBD = 'postgresql'\n",
    "SGBD_ = 'postgresql+pg8000'\n",
    "host = '69.64.34.252'\n",
    "port = '5432'\n",
    "database = 'parauapebas'\n",
    "user = 'dtwanalytics'\n",
    "password = 'dtw@2022'\n",
    "password_ = urllib.parse.quote_plus('dtw@2022')"
   ]
  },
  {
   "cell_type": "code",
   "execution_count": 3,
   "metadata": {
    "execution": {
     "iopub.execute_input": "2022-06-26T19:05:17.939654Z",
     "iopub.status.busy": "2022-06-26T19:05:17.939391Z",
     "iopub.status.idle": "2022-06-26T19:05:17.947115Z",
     "shell.execute_reply": "2022-06-26T19:05:17.946136Z"
    },
    "tags": []
   },
   "outputs": [
    {
     "name": "stdout",
     "output_type": "stream",
     "text": [
      "Carregando os dados dos steps anteriores...\n"
     ]
    }
   ],
   "source": [
    "print('Carregando os dados dos steps anteriores...')\n",
    "df = orchest.get_inputs()"
   ]
  },
  {
   "cell_type": "code",
   "execution_count": 4,
   "metadata": {
    "execution": {
     "iopub.execute_input": "2022-06-26T19:05:17.979007Z",
     "iopub.status.busy": "2022-06-26T19:05:17.978736Z",
     "iopub.status.idle": "2022-06-26T19:05:17.983737Z",
     "shell.execute_reply": "2022-06-26T19:05:17.982851Z"
    },
    "tags": []
   },
   "outputs": [],
   "source": [
    "exportacao = df['exportacao']\n",
    "importacao = df['importacao']"
   ]
  },
  {
   "cell_type": "code",
   "execution_count": 5,
   "metadata": {
    "execution": {
     "iopub.execute_input": "2022-06-26T19:05:18.015630Z",
     "iopub.status.busy": "2022-06-26T19:05:18.015062Z",
     "iopub.status.idle": "2022-06-26T19:05:18.031244Z",
     "shell.execute_reply": "2022-06-26T19:05:18.029647Z"
    },
    "tags": []
   },
   "outputs": [
    {
     "name": "stdout",
     "output_type": "stream",
     "text": [
      "Realizando a limpeza dos dados ausentes...\n"
     ]
    }
   ],
   "source": [
    "print('Realizando a limpeza dos dados ausentes...')\n",
    "exportacao.dropna(inplace=True)\n",
    "importacao.dropna(inplace=True)"
   ]
  },
  {
   "cell_type": "code",
   "execution_count": 6,
   "metadata": {
    "execution": {
     "iopub.execute_input": "2022-06-26T19:05:18.070550Z",
     "iopub.status.busy": "2022-06-26T19:05:18.070229Z",
     "iopub.status.idle": "2022-06-26T19:05:18.075638Z",
     "shell.execute_reply": "2022-06-26T19:05:18.074619Z"
    },
    "tags": []
   },
   "outputs": [],
   "source": [
    "#exportacao.head()"
   ]
  },
  {
   "cell_type": "code",
   "execution_count": 7,
   "metadata": {
    "execution": {
     "iopub.execute_input": "2022-06-26T19:05:18.116307Z",
     "iopub.status.busy": "2022-06-26T19:05:18.115979Z",
     "iopub.status.idle": "2022-06-26T19:05:18.121953Z",
     "shell.execute_reply": "2022-06-26T19:05:18.120190Z"
    },
    "tags": []
   },
   "outputs": [],
   "source": [
    "#importacao.head()"
   ]
  },
  {
   "cell_type": "code",
   "execution_count": 8,
   "metadata": {
    "execution": {
     "iopub.execute_input": "2022-06-26T19:05:18.156463Z",
     "iopub.status.busy": "2022-06-26T19:05:18.155875Z",
     "iopub.status.idle": "2022-06-26T19:05:18.169937Z",
     "shell.execute_reply": "2022-06-26T19:05:18.168448Z"
    },
    "tags": []
   },
   "outputs": [],
   "source": [
    "def create_database(sql): \n",
    "    try:\n",
    "        con = psycopg2.connect(host=host, database=database,\n",
    "        user=user, password=password)\n",
    "        cur = con.cursor()\n",
    "        cur.execute(sql)\n",
    "        con.commit()\n",
    "        con.close()\n",
    "        print(\"Query executada!\")\n",
    "    except:\n",
    "        print(\"Erro ao criar o banco de dados.\")\n"
   ]
  },
  {
   "cell_type": "code",
   "execution_count": 9,
   "metadata": {
    "execution": {
     "iopub.execute_input": "2022-06-26T19:05:18.211285Z",
     "iopub.status.busy": "2022-06-26T19:05:18.210978Z",
     "iopub.status.idle": "2022-06-26T19:05:18.243853Z",
     "shell.execute_reply": "2022-06-26T19:05:18.242692Z"
    }
   },
   "outputs": [
    {
     "name": "stdout",
     "output_type": "stream",
     "text": [
      "Criando a tabela de Importação caso não exista...\n"
     ]
    },
    {
     "name": "stdout",
     "output_type": "stream",
     "text": [
      "Query executada!\n"
     ]
    }
   ],
   "source": [
    "print('Criando a tabela de Importação caso não exista...')\n",
    "create_database('''CREATE TABLE IF NOT EXISTS importacao (\"id\" serial primary key, \"Ano\" integer NOT NULL, \"Mês\" integer  NOT NULL, \"Município\" varchar(50) NOT NULL, \"Valor FOB (US$)\" integer NOT NULL);''')"
   ]
  },
  {
   "cell_type": "code",
   "execution_count": 10,
   "metadata": {
    "execution": {
     "iopub.execute_input": "2022-06-26T19:05:18.287321Z",
     "iopub.status.busy": "2022-06-26T19:05:18.286926Z",
     "iopub.status.idle": "2022-06-26T19:05:18.320299Z",
     "shell.execute_reply": "2022-06-26T19:05:18.318847Z"
    }
   },
   "outputs": [
    {
     "name": "stdout",
     "output_type": "stream",
     "text": [
      "Criando a tabela de Exportacao caso não exista...\n",
      "Query executada!\n"
     ]
    }
   ],
   "source": [
    "print('Criando a tabela de Exportacao caso não exista...')\n",
    "create_database('''CREATE TABLE IF NOT EXISTS exportacao (\"id\" serial primary key, \"Ano\" integer NOT NULL, \"Mês\" integer  NOT NULL, \"Município\" varchar(50) NOT NULL, \"Valor FOB (US$)\" integer NOT NULL);''')"
   ]
  },
  {
   "cell_type": "code",
   "execution_count": 11,
   "metadata": {
    "execution": {
     "iopub.execute_input": "2022-06-26T19:05:18.354857Z",
     "iopub.status.busy": "2022-06-26T19:05:18.354533Z",
     "iopub.status.idle": "2022-06-26T19:05:18.534343Z",
     "shell.execute_reply": "2022-06-26T19:05:18.532936Z"
    },
    "tags": []
   },
   "outputs": [
    {
     "name": "stdout",
     "output_type": "stream",
     "text": [
      "Conexão com banco de dados criada...\n"
     ]
    }
   ],
   "source": [
    "SQLALCHEMY = f\"{SGBD_}://{user}:{password_}@{host}:{port}/{database}\"\n",
    "\n",
    "engine = create_engine(SQLALCHEMY)\n",
    "conn = engine.connect()\n",
    "print('Conexão com banco de dados criada...')"
   ]
  },
  {
   "cell_type": "code",
   "execution_count": 12,
   "metadata": {
    "execution": {
     "iopub.execute_input": "2022-06-26T19:05:18.608081Z",
     "iopub.status.busy": "2022-06-26T19:05:18.607385Z",
     "iopub.status.idle": "2022-06-26T19:05:21.794471Z",
     "shell.execute_reply": "2022-06-26T19:05:21.793578Z"
    },
    "tags": []
   },
   "outputs": [
    {
     "name": "stdout",
     "output_type": "stream",
     "text": [
      "Realizando os Insert na tabela importacão...\n"
     ]
    },
    {
     "name": "stdout",
     "output_type": "stream",
     "text": [
      "Insert no banco de dados Realizado...\n",
      "Realizando os Insert na tabela Exportacao...\n"
     ]
    },
    {
     "name": "stdout",
     "output_type": "stream",
     "text": [
      "Insert no banco de dados Realizado...\n"
     ]
    }
   ],
   "source": [
    "print('Realizando os Insert na tabela importacão...')\n",
    "importacao.to_sql('importacao', con=conn, if_exists='replace', index=False)\n",
    "print('Insert no banco de dados Realizado...')\n",
    "\n",
    "print('Realizando os Insert na tabela Exportacao...')\n",
    "exportacao.to_sql('exportacao', con=conn, if_exists='replace', index=False)\n",
    "print('Insert no banco de dados Realizado...')"
   ]
  },
  {
   "cell_type": "raw",
   "metadata": {},
   "source": [
    "#Realizar a leitura da tabela da conexão atual \n",
    "\n",
    "conn = psycopg2.connect(conn_string)\n",
    "conn.autocommit = True\n",
    "cursor = conn.cursor()\n",
    "sql1 = '''select * from data;'''\n",
    "cursor.execute(sql1)\n",
    "for i in cursor.fetchall():\n",
    "    print(i)\n",
    "conn.close()\n"
   ]
  },
  {
   "cell_type": "code",
   "execution_count": 13,
   "metadata": {
    "execution": {
     "iopub.execute_input": "2022-06-26T19:05:21.912871Z",
     "iopub.status.busy": "2022-06-26T19:05:21.912287Z",
     "iopub.status.idle": "2022-06-26T19:05:21.920656Z",
     "shell.execute_reply": "2022-06-26T19:05:21.919381Z"
    },
    "tags": []
   },
   "outputs": [
    {
     "name": "stdout",
     "output_type": "stream",
     "text": [
      "Script executado com sucesso!\n"
     ]
    }
   ],
   "source": [
    "print('Script executado com sucesso!')"
   ]
  },
  {
   "cell_type": "code",
   "execution_count": null,
   "metadata": {},
   "outputs": [],
   "source": []
  }
 ],
 "metadata": {
  "kernelspec": {
   "display_name": "Python 3",
   "language": "python",
   "name": "orchest-kernel-6449305e-5170-4e80-84d9-5e9c3ca98522"
  },
  "language_info": {
   "codemirror_mode": {
    "name": "ipython",
    "version": 3
   },
   "file_extension": ".py",
   "mimetype": "text/x-python",
   "name": "python",
   "nbconvert_exporter": "python",
   "pygments_lexer": "ipython3",
   "version": "3.9.10"
  },
  "vscode": {
   "interpreter": {
    "hash": "31c343df0307e317f338e13842f1848929a1168821279cd78d86c2cef5573c6f"
   }
  }
 },
 "nbformat": 4,
 "nbformat_minor": 4
}
