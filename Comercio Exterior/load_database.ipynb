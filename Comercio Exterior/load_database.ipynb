{
 "cells": [
  {
   "cell_type": "code",
   "execution_count": 4,
   "metadata": {
    "tags": []
   },
   "outputs": [
    {
     "name": "stdout",
     "output_type": "stream",
     "text": [
      "Importando Bibliotecas...\n",
      "Bibliotecas importadas\n"
     ]
    }
   ],
   "source": [
    "print('Importando Bibliotecas...')\n",
    "import psycopg2\n",
    "import orchest\n",
    "import pandas\n",
    "import sqlalchemy\n",
    "from sqlalchemy import create_engine\n",
    "import urllib.parse\n",
    "print('Bibliotecas importadas')"
   ]
  },
  {
   "cell_type": "raw",
   "metadata": {
    "tags": []
   },
   "source": [
    "#Credenciais do outro banco\n",
    "SGBD = 'postgresql'\n",
    "host = '69.64.34.252'\n",
    "port = '5432'\n",
    "database = 'dtwanalytics'\n",
    "user = 'anselmo'\n",
    "password = 'anselmo'"
   ]
  },
  {
   "cell_type": "code",
   "execution_count": 5,
   "metadata": {
    "tags": []
   },
   "outputs": [
    {
     "name": "stdout",
     "output_type": "stream",
     "text": [
      "carregando as credenciais do banco de dados...\n"
     ]
    }
   ],
   "source": [
    "print('carregando as credenciais do banco de dados...')\n",
    "SGBD = 'postgresql'\n",
    "SGBD_ = 'postgresql+pg8000'\n",
    "host = '69.64.34.252'\n",
    "port = '5432'\n",
    "database = 'parauapebas'\n",
    "user = 'dtwanalytics'\n",
    "password = 'dtw@2022'\n",
    "password_:str = urllib.parse.quote_plus('dtw@2022')"
   ]
  },
  {
   "cell_type": "code",
   "execution_count": 6,
   "metadata": {
    "tags": []
   },
   "outputs": [
    {
     "name": "stdout",
     "output_type": "stream",
     "text": [
      "Carregando os dados dos steps anteriores...\n"
     ]
    }
   ],
   "source": [
    "print('Carregando os dados dos steps anteriores...')\n",
    "df = orchest.get_inputs()"
   ]
  },
  {
   "cell_type": "code",
   "execution_count": 7,
   "metadata": {
    "tags": []
   },
   "outputs": [],
   "source": [
    "exportacao = df['exportacao']\n",
    "importacao = df['importacao']"
   ]
  },
  {
   "cell_type": "code",
   "execution_count": 8,
   "metadata": {
    "tags": []
   },
   "outputs": [
    {
     "name": "stdout",
     "output_type": "stream",
     "text": [
      "Realizando a limpeza dos dados ausentes...\n"
     ]
    }
   ],
   "source": [
    "print('Realizando a limpeza dos dados ausentes...')\n",
    "exportacao.dropna(inplace=True)\n",
    "importacao.dropna(inplace=True)"
   ]
  },
  {
   "cell_type": "code",
   "execution_count": 9,
   "metadata": {
    "tags": []
   },
   "outputs": [],
   "source": [
    "#exportacao.head()"
   ]
  },
  {
   "cell_type": "code",
   "execution_count": 10,
   "metadata": {
    "tags": []
   },
   "outputs": [],
   "source": [
    "#importacao.head()"
   ]
  },
  {
   "cell_type": "code",
   "execution_count": 11,
   "metadata": {
    "tags": []
   },
   "outputs": [],
   "source": [
    "def create_database(sql):\n",
    "    try:\n",
    "        con = psycopg2.connect(host=host, database=database,\n",
    "        user=user, password=password)\n",
    "        cur = con.cursor()\n",
    "        cur.execute(sql)\n",
    "        con.commit()\n",
    "        con.close()\n",
    "        print(\"Query executada!\")\n",
    "    except:\n",
    "        print(\"Erro ao criar o banco de dados.\")\n"
   ]
  },
  {
   "cell_type": "code",
   "execution_count": 12,
   "metadata": {
    "tags": []
   },
   "outputs": [
    {
     "name": "stdout",
     "output_type": "stream",
     "text": [
      "Criando a tabela de Importação caso não exista...\n",
      "Query executada!\n"
     ]
    }
   ],
   "source": [
    "print('Criando a tabela de Importação caso não exista...')\n",
    "create_database('''CREATE TABLE IF NOT EXISTS importacao (\"id\" serial primary key, \"Ano\" integer NOT NULL, \"Mês\" integer  NOT NULL, \"Município\" varchar(50) NOT NULL, \"Valor FOB (US$)\" integer NOT NULL);''')"
   ]
  },
  {
   "cell_type": "code",
   "execution_count": 13,
   "metadata": {
    "tags": []
   },
   "outputs": [
    {
     "name": "stdout",
     "output_type": "stream",
     "text": [
      "Criando a tabela de Exportacao caso não exista...\n",
      "Query executada!\n"
     ]
    }
   ],
   "source": [
    "print('Criando a tabela de Exportacao caso não exista...')\n",
    "create_database('''CREATE TABLE IF NOT EXISTS exportacao (\"id\" serial primary key, \"Ano\" integer NOT NULL, \"Mês\" integer  NOT NULL, \"Município\" varchar(50) NOT NULL, \"Valor FOB (US$)\" integer NOT NULL);''')"
   ]
  },
  {
   "cell_type": "code",
   "execution_count": 18,
   "metadata": {
    "tags": []
   },
   "outputs": [
    {
     "name": "stdout",
     "output_type": "stream",
     "text": [
      "Conexão com banco de dados criada...\n"
     ]
    }
   ],
   "source": [
    "SQLALCHEMY = f\"{SGBD_}://{user}:{password_}@{host}:{port}/{database}\"\n",
    "\n",
    "try:\n",
    "    engine = create_engine(SQLALCHEMY)\n",
    "    conn = engine.connect()\n",
    "    print('Conexão com banco de dados criada...')\n",
    "except:\n",
    "    print('Falha ao criar conexão com banco de dados.')"
   ]
  },
  {
   "cell_type": "code",
   "execution_count": 19,
   "metadata": {},
   "outputs": [
    {
     "name": "stdout",
     "output_type": "stream",
     "text": [
      "Realizando os Insert na tabela importacão...\n",
      "Insert no banco de dados Realizado...\n"
     ]
    }
   ],
   "source": [
    "print('Realizando os Insert na tabela importacão...')\n",
    "try:\n",
    "    importacao.to_sql('importacao', con=conn, if_exists='replace', index=False)\n",
    "    print('Insert no banco de dados Realizado...')\n",
    "except:\n",
    "    print('Falha ao inserir os dados no banco de dados.')"
   ]
  },
  {
   "cell_type": "code",
   "execution_count": 20,
   "metadata": {
    "tags": []
   },
   "outputs": [
    {
     "name": "stdout",
     "output_type": "stream",
     "text": [
      "Realizando os Insert na tabela Exportacao...\n",
      "Insert no banco de dados Realizado...\n"
     ]
    }
   ],
   "source": [
    "print('Realizando os Insert na tabela Exportacao...')\n",
    "try:\n",
    "    exportacao.to_sql('exportacao', con=conn, if_exists='replace', index=False)\n",
    "    print('Insert no banco de dados Realizado...')\n",
    "except:\n",
    "    print('Falha ao inserir os dados no banco de dados.')"
   ]
  },
  {
   "cell_type": "raw",
   "metadata": {},
   "source": [
    "#Realizar a leitura da tabela da conexão atual \n",
    "\n",
    "conn = psycopg2.connect(conn_string)\n",
    "conn.autocommit = True\n",
    "cursor = conn.cursor()\n",
    "sql1 = '''select * from data;'''\n",
    "cursor.execute(sql1)\n",
    "for i in cursor.fetchall():\n",
    "    print(i)\n",
    "conn.close()\n"
   ]
  },
  {
   "cell_type": "code",
   "execution_count": 21,
   "metadata": {
    "tags": []
   },
   "outputs": [
    {
     "name": "stdout",
     "output_type": "stream",
     "text": [
      "Script executado com sucesso!\n"
     ]
    }
   ],
   "source": [
    "print('Script executado com sucesso!')"
   ]
  },
  {
   "cell_type": "code",
   "execution_count": null,
   "metadata": {},
   "outputs": [],
   "source": []
  }
 ],
 "metadata": {
  "kernelspec": {
   "display_name": "Python 3",
   "language": "python",
   "name": "orchest-kernel-6449305e-5170-4e80-84d9-5e9c3ca98522"
  },
  "language_info": {
   "codemirror_mode": {
    "name": "ipython",
    "version": 3
   },
   "file_extension": ".py",
   "mimetype": "text/x-python",
   "name": "python",
   "nbconvert_exporter": "python",
   "pygments_lexer": "ipython3",
   "version": "3.9.10"
  },
  "vscode": {
   "interpreter": {
    "hash": "31c343df0307e317f338e13842f1848929a1168821279cd78d86c2cef5573c6f"
   }
  }
 },
 "nbformat": 4,
 "nbformat_minor": 4
}
