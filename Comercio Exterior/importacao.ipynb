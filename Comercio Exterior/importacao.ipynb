{
 "cells": [
  {
   "cell_type": "code",
   "execution_count": 1,
   "metadata": {
    "execution": {
     "iopub.execute_input": "2022-06-25T19:45:27.196175Z",
     "iopub.status.busy": "2022-06-25T19:45:27.194548Z",
     "iopub.status.idle": "2022-06-25T19:45:28.261015Z",
     "shell.execute_reply": "2022-06-25T19:45:28.259794Z"
    }
   },
   "outputs": [
    {
     "name": "stdout",
     "output_type": "stream",
     "text": [
      "Importação das bibliotecas realizada com sucesso\n"
     ]
    }
   ],
   "source": [
    "import requests\n",
    "import orchest\n",
    "import pandas as pd\n",
    "\n",
    "print('Importação das bibliotecas realizada com sucesso')\n"
   ]
  },
  {
   "cell_type": "code",
   "execution_count": 2,
   "metadata": {
    "execution": {
     "iopub.execute_input": "2022-06-25T19:45:28.290264Z",
     "iopub.status.busy": "2022-06-25T19:45:28.289041Z",
     "iopub.status.idle": "2022-06-25T19:45:32.098831Z",
     "shell.execute_reply": "2022-06-25T19:45:32.097206Z"
    }
   },
   "outputs": [
    {
     "name": "stdout",
     "output_type": "stream",
     "text": [
      "Realizando o download dos dados...\n",
      "Realizando a conversão dos dados para json\n"
     ]
    }
   ],
   "source": [
    "print('Realizando o download dos dados...')\n",
    "url = r'http://api.comexstat.mdic.gov.br/cities?filter=%7B%22yearStart%22:%221997%22,%22yearEnd%22:%222022%22,%22typeForm%22:2,%22typeOrder%22:2,%22filterList%22:%5B%7B%22id%22:%22noMunMin%22,%22text%22:%22Munic%C3%ADpio%22,%22route%22:%22/pt/location/cities%22,%22type%22:%221%22,%22group%22:%22gerais%22,%22groupText%22:%22Gerais%22,%22hint%22:%22fieldsForm.city.noMunMin.description%22,%22placeholder%22:%22Munic%C3%ADpios%22%7D%5D,%22filterArray%22:%5B%7B%22item%22:%5B%221505536%22%5D,%22idInput%22:%22noMunMin%22%7D%5D,%22rangeFilter%22:%5B%5D,%22detailDatabase%22:%5B%7B%22id%22:%22noMunMin%22,%22text%22:%22Munic%C3%ADpio%22,%22concat%22:%22noMunMinsgUf%22%7D%5D,%22monthDetail%22:true,%22metricFOB%22:true,%22metricKG%22:false,%22monthStart%22:%2201%22,%22monthEnd%22:%2212%22,%22formQueue%22:%22city%22,%22langDefault%22:%22pt%22,%22monthStartName%22:%22Janeiro%22,%22monthEndName%22:%22Dezembro%22%7D'\n",
    "res = requests.get(url)\n",
    "print('Realizando a conversão dos dados para json')\n",
    "json = res.json()"
   ]
  },
  {
   "cell_type": "code",
   "execution_count": 3,
   "metadata": {
    "execution": {
     "iopub.execute_input": "2022-06-25T19:45:32.150132Z",
     "iopub.status.busy": "2022-06-25T19:45:32.148301Z",
     "iopub.status.idle": "2022-06-25T19:45:32.162636Z",
     "shell.execute_reply": "2022-06-25T19:45:32.160554Z"
    }
   },
   "outputs": [
    {
     "name": "stdout",
     "output_type": "stream",
     "text": [
      "Criando dataframe...\n"
     ]
    }
   ],
   "source": [
    "print('Criando dataframe...')\n",
    "importacao = pd.DataFrame(json['data']['list'])"
   ]
  },
  {
   "cell_type": "code",
   "execution_count": 4,
   "metadata": {
    "execution": {
     "iopub.execute_input": "2022-06-25T19:45:32.198286Z",
     "iopub.status.busy": "2022-06-25T19:45:32.197287Z",
     "iopub.status.idle": "2022-06-25T19:45:32.203052Z",
     "shell.execute_reply": "2022-06-25T19:45:32.202120Z"
    }
   },
   "outputs": [],
   "source": [
    "#importacao.head()"
   ]
  },
  {
   "cell_type": "code",
   "execution_count": 5,
   "metadata": {
    "execution": {
     "iopub.execute_input": "2022-06-25T19:45:32.225715Z",
     "iopub.status.busy": "2022-06-25T19:45:32.225374Z",
     "iopub.status.idle": "2022-06-25T19:45:32.237679Z",
     "shell.execute_reply": "2022-06-25T19:45:32.235644Z"
    }
   },
   "outputs": [
    {
     "name": "stdout",
     "output_type": "stream",
     "text": [
      "Renomeando o nome das colunas...\n",
      "Aplicando replace nos dados...\n"
     ]
    }
   ],
   "source": [
    "print('Renomeando o nome das colunas...')\n",
    "importacao = importacao.rename(columns={'coAno':'Ano', 'coMes':'Mês', 'noMunMinsgUf':'Município', 'vlFob':'Valor FOB (US$)'})\n",
    "\n",
    "print('Aplicando replace nos dados...')\n",
    "importacao['Município'] = importacao['Município'].apply(lambda x : str(x).replace(' - PA',''))"
   ]
  },
  {
   "cell_type": "code",
   "execution_count": 6,
   "metadata": {
    "execution": {
     "iopub.execute_input": "2022-06-25T19:45:32.262123Z",
     "iopub.status.busy": "2022-06-25T19:45:32.261796Z",
     "iopub.status.idle": "2022-06-25T19:45:32.267030Z",
     "shell.execute_reply": "2022-06-25T19:45:32.265787Z"
    }
   },
   "outputs": [],
   "source": [
    "#importacao.head()"
   ]
  },
  {
   "cell_type": "code",
   "execution_count": 7,
   "metadata": {
    "execution": {
     "iopub.execute_input": "2022-06-25T19:45:32.292496Z",
     "iopub.status.busy": "2022-06-25T19:45:32.291903Z",
     "iopub.status.idle": "2022-06-25T19:45:32.308315Z",
     "shell.execute_reply": "2022-06-25T19:45:32.307000Z"
    }
   },
   "outputs": [
    {
     "name": "stdout",
     "output_type": "stream",
     "text": [
      "Definindo o tipo correto dos dados...\n"
     ]
    }
   ],
   "source": [
    "print('Definindo o tipo correto dos dados...')\n",
    "importacao['Ano'] = importacao['Ano'].astype(int)\n",
    "importacao['Município'] = importacao['Município'].astype(str)\n",
    "importacao['Mês'] = importacao['Mês'].astype(int)\n",
    "importacao['Valor FOB (US$)'] = importacao['Valor FOB (US$)'].astype(int)"
   ]
  },
  {
   "cell_type": "code",
   "execution_count": 8,
   "metadata": {
    "execution": {
     "iopub.execute_input": "2022-06-25T19:45:32.336664Z",
     "iopub.status.busy": "2022-06-25T19:45:32.335492Z",
     "iopub.status.idle": "2022-06-25T19:45:32.342282Z",
     "shell.execute_reply": "2022-06-25T19:45:32.340925Z"
    }
   },
   "outputs": [],
   "source": [
    "#importacao.head()"
   ]
  },
  {
   "cell_type": "code",
   "execution_count": 9,
   "metadata": {
    "execution": {
     "iopub.execute_input": "2022-06-25T19:45:32.368184Z",
     "iopub.status.busy": "2022-06-25T19:45:32.367396Z",
     "iopub.status.idle": "2022-06-25T19:45:32.375603Z",
     "shell.execute_reply": "2022-06-25T19:45:32.374582Z"
    }
   },
   "outputs": [
    {
     "name": "stdout",
     "output_type": "stream",
     "text": [
      "Exportando os dados para o proximo step\n"
     ]
    }
   ],
   "source": [
    "print('Exportando os dados para o proximo step')\n",
    "orchest.output(importacao, \"importacao\")"
   ]
  },
  {
   "cell_type": "code",
   "execution_count": null,
   "metadata": {},
   "outputs": [],
   "source": [
    "print('Script executado com sucesso!')"
   ]
  }
 ],
 "metadata": {
  "interpreter": {
   "hash": "31c343df0307e317f338e13842f1848929a1168821279cd78d86c2cef5573c6f"
  },
  "kernelspec": {
   "display_name": "Python 3",
   "language": "python",
   "name": "orchest-kernel-6449305e-5170-4e80-84d9-5e9c3ca98522"
  },
  "language_info": {
   "codemirror_mode": {
    "name": "ipython",
    "version": 3
   },
   "file_extension": ".py",
   "mimetype": "text/x-python",
   "name": "python",
   "nbconvert_exporter": "python",
   "pygments_lexer": "ipython3",
   "version": "3.9.10"
  }
 },
 "nbformat": 4,
 "nbformat_minor": 4
}
