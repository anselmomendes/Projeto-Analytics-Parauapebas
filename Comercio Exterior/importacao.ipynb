{
 "cells": [
  {
   "cell_type": "code",
   "execution_count": 1,
   "metadata": {
    "execution": {
     "iopub.execute_input": "2022-06-25T19:50:21.679177Z",
     "iopub.status.busy": "2022-06-25T19:50:21.678482Z",
     "iopub.status.idle": "2022-06-25T19:50:22.679988Z",
     "shell.execute_reply": "2022-06-25T19:50:22.678766Z"
    }
   },
   "outputs": [
    {
     "name": "stdout",
     "output_type": "stream",
     "text": [
      "Importação das bibliotecas realizada com sucesso\n"
     ]
    }
   ],
   "source": [
    "import requests\n",
    "import orchest\n",
    "import pandas as pd\n",
    "\n",
    "print('Importação das bibliotecas realizada com sucesso')\n"
   ]
  },
  {
   "cell_type": "code",
   "execution_count": 2,
   "metadata": {
    "execution": {
     "iopub.execute_input": "2022-06-25T19:50:22.707693Z",
     "iopub.status.busy": "2022-06-25T19:50:22.706828Z",
     "iopub.status.idle": "2022-06-25T19:50:26.377780Z",
     "shell.execute_reply": "2022-06-25T19:50:26.375655Z"
    }
   },
   "outputs": [
    {
     "name": "stdout",
     "output_type": "stream",
     "text": [
      "Realizando o download dos dados...\n"
     ]
    },
    {
     "name": "stdout",
     "output_type": "stream",
     "text": [
      "Realizando a conversão dos dados para json\n"
     ]
    }
   ],
   "source": [
    "print('Realizando o download dos dados...')\n",
    "url = r'http://api.comexstat.mdic.gov.br/cities?filter=%7B%22yearStart%22:%221997%22,%22yearEnd%22:%222022%22,%22typeForm%22:2,%22typeOrder%22:2,%22filterList%22:%5B%7B%22id%22:%22noMunMin%22,%22text%22:%22Munic%C3%ADpio%22,%22route%22:%22/pt/location/cities%22,%22type%22:%221%22,%22group%22:%22gerais%22,%22groupText%22:%22Gerais%22,%22hint%22:%22fieldsForm.city.noMunMin.description%22,%22placeholder%22:%22Munic%C3%ADpios%22%7D%5D,%22filterArray%22:%5B%7B%22item%22:%5B%221505536%22%5D,%22idInput%22:%22noMunMin%22%7D%5D,%22rangeFilter%22:%5B%5D,%22detailDatabase%22:%5B%7B%22id%22:%22noMunMin%22,%22text%22:%22Munic%C3%ADpio%22,%22concat%22:%22noMunMinsgUf%22%7D%5D,%22monthDetail%22:true,%22metricFOB%22:true,%22metricKG%22:false,%22monthStart%22:%2201%22,%22monthEnd%22:%2212%22,%22formQueue%22:%22city%22,%22langDefault%22:%22pt%22,%22monthStartName%22:%22Janeiro%22,%22monthEndName%22:%22Dezembro%22%7D'\n",
    "res = requests.get(url)\n",
    "print('Realizando a conversão dos dados para json')\n",
    "json = res.json()"
   ]
  },
  {
   "cell_type": "code",
   "execution_count": 3,
   "metadata": {
    "execution": {
     "iopub.execute_input": "2022-06-25T19:50:26.418725Z",
     "iopub.status.busy": "2022-06-25T19:50:26.418328Z",
     "iopub.status.idle": "2022-06-25T19:50:26.426784Z",
     "shell.execute_reply": "2022-06-25T19:50:26.425900Z"
    }
   },
   "outputs": [
    {
     "name": "stdout",
     "output_type": "stream",
     "text": [
      "Criando dataframe...\n"
     ]
    }
   ],
   "source": [
    "print('Criando dataframe...')\n",
    "importacao = pd.DataFrame(json['data']['list'])"
   ]
  },
  {
   "cell_type": "code",
   "execution_count": 4,
   "metadata": {
    "execution": {
     "iopub.execute_input": "2022-06-25T19:50:26.462395Z",
     "iopub.status.busy": "2022-06-25T19:50:26.462013Z",
     "iopub.status.idle": "2022-06-25T19:50:26.467221Z",
     "shell.execute_reply": "2022-06-25T19:50:26.466337Z"
    }
   },
   "outputs": [],
   "source": [
    "#importacao.head()"
   ]
  },
  {
   "cell_type": "code",
   "execution_count": 5,
   "metadata": {
    "execution": {
     "iopub.execute_input": "2022-06-25T19:50:26.506046Z",
     "iopub.status.busy": "2022-06-25T19:50:26.505084Z",
     "iopub.status.idle": "2022-06-25T19:50:26.521895Z",
     "shell.execute_reply": "2022-06-25T19:50:26.520723Z"
    }
   },
   "outputs": [
    {
     "name": "stdout",
     "output_type": "stream",
     "text": [
      "Renomeando o nome das colunas...\n",
      "Aplicando replace nos dados...\n"
     ]
    }
   ],
   "source": [
    "print('Renomeando o nome das colunas...')\n",
    "importacao = importacao.rename(columns={'coAno':'Ano', 'coMes':'Mês', 'noMunMinsgUf':'Município', 'vlFob':'Valor FOB (US$)'})\n",
    "\n",
    "print('Aplicando replace nos dados...')\n",
    "importacao['Município'] = importacao['Município'].apply(lambda x : str(x).replace(' - PA',''))"
   ]
  },
  {
   "cell_type": "code",
   "execution_count": 6,
   "metadata": {
    "execution": {
     "iopub.execute_input": "2022-06-25T19:50:26.548007Z",
     "iopub.status.busy": "2022-06-25T19:50:26.547640Z",
     "iopub.status.idle": "2022-06-25T19:50:26.552404Z",
     "shell.execute_reply": "2022-06-25T19:50:26.551471Z"
    }
   },
   "outputs": [],
   "source": [
    "#importacao.head()"
   ]
  },
  {
   "cell_type": "code",
   "execution_count": 7,
   "metadata": {
    "execution": {
     "iopub.execute_input": "2022-06-25T19:50:26.589042Z",
     "iopub.status.busy": "2022-06-25T19:50:26.588477Z",
     "iopub.status.idle": "2022-06-25T19:50:26.604136Z",
     "shell.execute_reply": "2022-06-25T19:50:26.603114Z"
    }
   },
   "outputs": [
    {
     "name": "stdout",
     "output_type": "stream",
     "text": [
      "Definindo o tipo correto dos dados...\n"
     ]
    }
   ],
   "source": [
    "print('Definindo o tipo correto dos dados...')\n",
    "importacao['Ano'] = importacao['Ano'].astype(int)\n",
    "importacao['Município'] = importacao['Município'].astype(str)\n",
    "importacao['Mês'] = importacao['Mês'].astype(int)\n",
    "importacao['Valor FOB (US$)'] = importacao['Valor FOB (US$)'].astype(int)"
   ]
  },
  {
   "cell_type": "code",
   "execution_count": 8,
   "metadata": {
    "execution": {
     "iopub.execute_input": "2022-06-25T19:50:26.638266Z",
     "iopub.status.busy": "2022-06-25T19:50:26.637634Z",
     "iopub.status.idle": "2022-06-25T19:50:26.644417Z",
     "shell.execute_reply": "2022-06-25T19:50:26.642949Z"
    }
   },
   "outputs": [],
   "source": [
    "#importacao.head()"
   ]
  },
  {
   "cell_type": "code",
   "execution_count": 9,
   "metadata": {
    "execution": {
     "iopub.execute_input": "2022-06-25T19:50:26.669481Z",
     "iopub.status.busy": "2022-06-25T19:50:26.669059Z",
     "iopub.status.idle": "2022-06-25T19:50:26.685872Z",
     "shell.execute_reply": "2022-06-25T19:50:26.684391Z"
    }
   },
   "outputs": [
    {
     "name": "stdout",
     "output_type": "stream",
     "text": [
      "Exportando os dados para o proximo step\n"
     ]
    }
   ],
   "source": [
    "print('Exportando os dados para o proximo step')\n",
    "orchest.output(importacao, \"importacao\")"
   ]
  },
  {
   "cell_type": "code",
   "execution_count": 10,
   "metadata": {
    "execution": {
     "iopub.execute_input": "2022-06-25T19:50:26.711782Z",
     "iopub.status.busy": "2022-06-25T19:50:26.711451Z",
     "iopub.status.idle": "2022-06-25T19:50:26.717042Z",
     "shell.execute_reply": "2022-06-25T19:50:26.716134Z"
    }
   },
   "outputs": [
    {
     "name": "stdout",
     "output_type": "stream",
     "text": [
      "Script executado com sucesso!\n"
     ]
    }
   ],
   "source": [
    "print('Script executado com sucesso!')"
   ]
  }
 ],
 "metadata": {
  "interpreter": {
   "hash": "31c343df0307e317f338e13842f1848929a1168821279cd78d86c2cef5573c6f"
  },
  "kernelspec": {
   "display_name": "Python 3",
   "language": "python",
   "name": "orchest-kernel-6449305e-5170-4e80-84d9-5e9c3ca98522"
  },
  "language_info": {
   "codemirror_mode": {
    "name": "ipython",
    "version": 3
   },
   "file_extension": ".py",
   "mimetype": "text/x-python",
   "name": "python",
   "nbconvert_exporter": "python",
   "pygments_lexer": "ipython3",
   "version": "3.9.10"
  }
 },
 "nbformat": 4,
 "nbformat_minor": 4
}
