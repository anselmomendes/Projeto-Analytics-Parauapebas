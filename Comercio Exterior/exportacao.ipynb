{
 "cells": [
  {
   "cell_type": "code",
   "execution_count": 1,
   "metadata": {
    "execution": {
     "iopub.execute_input": "2022-06-25T19:50:05.451701Z",
     "iopub.status.busy": "2022-06-25T19:50:05.451016Z",
     "iopub.status.idle": "2022-06-25T19:50:06.461294Z",
     "shell.execute_reply": "2022-06-25T19:50:06.460273Z"
    },
    "tags": []
   },
   "outputs": [
    {
     "name": "stdout",
     "output_type": "stream",
     "text": [
      "Importação das bibliotecas realizada com sucesso\n"
     ]
    }
   ],
   "source": [
    "import requests\n",
    "import orchest\n",
    "import pandas as pd\n",
    "\n",
    "print('Importação das bibliotecas realizada com sucesso')"
   ]
  },
  {
   "cell_type": "code",
   "execution_count": 2,
   "metadata": {
    "execution": {
     "iopub.execute_input": "2022-06-25T19:50:06.490222Z",
     "iopub.status.busy": "2022-06-25T19:50:06.489759Z",
     "iopub.status.idle": "2022-06-25T19:50:09.092165Z",
     "shell.execute_reply": "2022-06-25T19:50:09.090503Z"
    },
    "tags": []
   },
   "outputs": [
    {
     "name": "stdout",
     "output_type": "stream",
     "text": [
      "Realizando o download dos dados...\n"
     ]
    },
    {
     "name": "stdout",
     "output_type": "stream",
     "text": [
      "Realizando a conversão dos dados para json\n"
     ]
    }
   ],
   "source": [
    "print('Realizando o download dos dados...')\n",
    "url = r'http://api.comexstat.mdic.gov.br/cities?filter=%7B%22yearStart%22:%221997%22,%22yearEnd%22:%222022%22,%22typeForm%22:1,%22typeOrder%22:1,%22filterList%22:%5B%7B%22id%22:%22noMunMin%22,%22text%22:%22Munic%C3%ADpio%22,%22route%22:%22/pt/location/cities%22,%22type%22:%221%22,%22group%22:%22gerais%22,%22groupText%22:%22Gerais%22,%22hint%22:%22fieldsForm.city.noMunMin.description%22,%22placeholder%22:%22Munic%C3%ADpios%22%7D%5D,%22filterArray%22:%5B%7B%22item%22:%5B%221505536%22%5D,%22idInput%22:%22noMunMin%22%7D%5D,%22rangeFilter%22:%5B%5D,%22detailDatabase%22:%5B%7B%22id%22:%22noMunMin%22,%22text%22:%22Munic%C3%ADpio%22,%22concat%22:%22noMunMinsgUf%22%7D%5D,%22monthDetail%22:true,%22metricFOB%22:true,%22metricKG%22:false,%22monthStart%22:%2201%22,%22monthEnd%22:%2212%22,%22formQueue%22:%22city%22,%22langDefault%22:%22pt%22,%22monthStartName%22:%22Janeiro%22,%22monthEndName%22:%22Dezembro%22%7D'\n",
    "res = requests.get(url)\n",
    "print('Realizando a conversão dos dados para json')\n",
    "json = res.json()"
   ]
  },
  {
   "cell_type": "code",
   "execution_count": 3,
   "metadata": {
    "execution": {
     "iopub.execute_input": "2022-06-25T19:50:09.144590Z",
     "iopub.status.busy": "2022-06-25T19:50:09.143970Z",
     "iopub.status.idle": "2022-06-25T19:50:09.158212Z",
     "shell.execute_reply": "2022-06-25T19:50:09.156468Z"
    },
    "tags": []
   },
   "outputs": [
    {
     "name": "stdout",
     "output_type": "stream",
     "text": [
      "Criando dataframe...\n"
     ]
    }
   ],
   "source": [
    "print('Criando dataframe...')\n",
    "exportacao = pd.DataFrame(json['data']['list'])"
   ]
  },
  {
   "cell_type": "code",
   "execution_count": 4,
   "metadata": {
    "execution": {
     "iopub.execute_input": "2022-06-25T19:50:09.198128Z",
     "iopub.status.busy": "2022-06-25T19:50:09.197573Z",
     "iopub.status.idle": "2022-06-25T19:50:09.205664Z",
     "shell.execute_reply": "2022-06-25T19:50:09.203849Z"
    },
    "tags": []
   },
   "outputs": [],
   "source": [
    "#exportacao.head()"
   ]
  },
  {
   "cell_type": "code",
   "execution_count": 5,
   "metadata": {
    "execution": {
     "iopub.execute_input": "2022-06-25T19:50:09.231384Z",
     "iopub.status.busy": "2022-06-25T19:50:09.230880Z",
     "iopub.status.idle": "2022-06-25T19:50:09.248493Z",
     "shell.execute_reply": "2022-06-25T19:50:09.246657Z"
    },
    "tags": []
   },
   "outputs": [
    {
     "name": "stdout",
     "output_type": "stream",
     "text": [
      "Renomeando o nome das colunas...\n",
      "Aplicando replace nos dados...\n"
     ]
    }
   ],
   "source": [
    "print('Renomeando o nome das colunas...')\n",
    "exportacao = exportacao.rename(columns={'coAno':'Ano', 'coMes':'Mês', 'noMunMinsgUf':'Município', 'vlFob':'Valor FOB (US$)'})\n",
    "\n",
    "print('Aplicando replace nos dados...')\n",
    "exportacao['Município'] = exportacao['Município'].apply(lambda x : str(x).replace(' - PA',''))"
   ]
  },
  {
   "cell_type": "code",
   "execution_count": 6,
   "metadata": {
    "execution": {
     "iopub.execute_input": "2022-06-25T19:50:09.287619Z",
     "iopub.status.busy": "2022-06-25T19:50:09.287027Z",
     "iopub.status.idle": "2022-06-25T19:50:09.294886Z",
     "shell.execute_reply": "2022-06-25T19:50:09.292742Z"
    },
    "tags": []
   },
   "outputs": [],
   "source": [
    "#exportacao.head()"
   ]
  },
  {
   "cell_type": "code",
   "execution_count": 7,
   "metadata": {
    "execution": {
     "iopub.execute_input": "2022-06-25T19:50:09.323500Z",
     "iopub.status.busy": "2022-06-25T19:50:09.322870Z",
     "iopub.status.idle": "2022-06-25T19:50:09.340586Z",
     "shell.execute_reply": "2022-06-25T19:50:09.338904Z"
    },
    "tags": []
   },
   "outputs": [
    {
     "name": "stdout",
     "output_type": "stream",
     "text": [
      "Definindo o tipo correto dos dados...\n"
     ]
    }
   ],
   "source": [
    "print('Definindo o tipo correto dos dados...')\n",
    "exportacao['Ano'] = exportacao['Ano'].astype(int)\n",
    "exportacao['Mês'] = exportacao['Mês'].astype(int)\n",
    "exportacao['Município'] = exportacao['Município'].astype(str)\n",
    "exportacao['Valor FOB (US$)'] = exportacao['Valor FOB (US$)'].astype(int)"
   ]
  },
  {
   "cell_type": "code",
   "execution_count": 8,
   "metadata": {
    "execution": {
     "iopub.execute_input": "2022-06-25T19:50:09.369794Z",
     "iopub.status.busy": "2022-06-25T19:50:09.368708Z",
     "iopub.status.idle": "2022-06-25T19:50:09.375767Z",
     "shell.execute_reply": "2022-06-25T19:50:09.374541Z"
    },
    "tags": []
   },
   "outputs": [],
   "source": [
    "#exportacao.head()"
   ]
  },
  {
   "cell_type": "code",
   "execution_count": 9,
   "metadata": {
    "execution": {
     "iopub.execute_input": "2022-06-25T19:50:09.405731Z",
     "iopub.status.busy": "2022-06-25T19:50:09.405299Z",
     "iopub.status.idle": "2022-06-25T19:50:09.413895Z",
     "shell.execute_reply": "2022-06-25T19:50:09.412883Z"
    },
    "tags": []
   },
   "outputs": [
    {
     "name": "stdout",
     "output_type": "stream",
     "text": [
      "Exportando os dados para o proximo step...\n"
     ]
    }
   ],
   "source": [
    "print('Exportando os dados para o proximo step...')\n",
    "orchest.output(exportacao, \"exportacao\")"
   ]
  },
  {
   "cell_type": "code",
   "execution_count": 10,
   "metadata": {
    "execution": {
     "iopub.execute_input": "2022-06-25T19:50:09.442836Z",
     "iopub.status.busy": "2022-06-25T19:50:09.442509Z",
     "iopub.status.idle": "2022-06-25T19:50:09.447975Z",
     "shell.execute_reply": "2022-06-25T19:50:09.447109Z"
    }
   },
   "outputs": [
    {
     "name": "stdout",
     "output_type": "stream",
     "text": [
      "Script executado com sucesso!\n"
     ]
    }
   ],
   "source": [
    "print('Script executado com sucesso!')"
   ]
  }
 ],
 "metadata": {
  "interpreter": {
   "hash": "31c343df0307e317f338e13842f1848929a1168821279cd78d86c2cef5573c6f"
  },
  "kernelspec": {
   "display_name": "Python 3",
   "language": "python",
   "name": "orchest-kernel-6449305e-5170-4e80-84d9-5e9c3ca98522"
  },
  "language_info": {
   "codemirror_mode": {
    "name": "ipython",
    "version": 3
   },
   "file_extension": ".py",
   "mimetype": "text/x-python",
   "name": "python",
   "nbconvert_exporter": "python",
   "pygments_lexer": "ipython3",
   "version": "3.9.10"
  }
 },
 "nbformat": 4,
 "nbformat_minor": 4
}
