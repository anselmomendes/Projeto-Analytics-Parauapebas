{
 "cells": [
  {
   "cell_type": "code",
   "execution_count": 1,
   "metadata": {
    "execution": {
     "iopub.execute_input": "2022-06-25T18:48:01.929638Z",
     "iopub.status.busy": "2022-06-25T18:48:01.929260Z",
     "iopub.status.idle": "2022-06-25T18:48:03.037520Z",
     "shell.execute_reply": "2022-06-25T18:48:03.036194Z"
    }
   },
   "outputs": [],
   "source": [
    "import requests\n",
    "import orchest\n",
    "import pandas as pd\n",
    "\n",
    "url = r'http://api.comexstat.mdic.gov.br/cities?filter=%7B%22yearStart%22:%221997%22,%22yearEnd%22:%222022%22,%22typeForm%22:1,%22typeOrder%22:1,%22filterList%22:%5B%7B%22id%22:%22noMunMin%22,%22text%22:%22Munic%C3%ADpio%22,%22route%22:%22/pt/location/cities%22,%22type%22:%221%22,%22group%22:%22gerais%22,%22groupText%22:%22Gerais%22,%22hint%22:%22fieldsForm.city.noMunMin.description%22,%22placeholder%22:%22Munic%C3%ADpios%22%7D%5D,%22filterArray%22:%5B%7B%22item%22:%5B%221505536%22%5D,%22idInput%22:%22noMunMin%22%7D%5D,%22rangeFilter%22:%5B%5D,%22detailDatabase%22:%5B%7B%22id%22:%22noMunMin%22,%22text%22:%22Munic%C3%ADpio%22,%22concat%22:%22noMunMinsgUf%22%7D%5D,%22monthDetail%22:true,%22metricFOB%22:true,%22metricKG%22:false,%22monthStart%22:%2201%22,%22monthEnd%22:%2212%22,%22formQueue%22:%22city%22,%22langDefault%22:%22pt%22,%22monthStartName%22:%22Janeiro%22,%22monthEndName%22:%22Dezembro%22%7D'"
   ]
  },
  {
   "cell_type": "code",
   "execution_count": 2,
   "metadata": {
    "execution": {
     "iopub.execute_input": "2022-06-25T18:48:03.069956Z",
     "iopub.status.busy": "2022-06-25T18:48:03.069379Z",
     "iopub.status.idle": "2022-06-25T18:48:05.971880Z",
     "shell.execute_reply": "2022-06-25T18:48:05.970103Z"
    }
   },
   "outputs": [],
   "source": [
    "res = requests.get(url)\n",
    "json = res.json()"
   ]
  },
  {
   "cell_type": "code",
   "execution_count": 3,
   "metadata": {
    "execution": {
     "iopub.execute_input": "2022-06-25T18:48:06.016417Z",
     "iopub.status.busy": "2022-06-25T18:48:06.015202Z",
     "iopub.status.idle": "2022-06-25T18:48:06.026210Z",
     "shell.execute_reply": "2022-06-25T18:48:06.024588Z"
    }
   },
   "outputs": [],
   "source": [
    "exportacao = pd.DataFrame(json['data']['list'])"
   ]
  },
  {
   "cell_type": "code",
   "execution_count": 4,
   "metadata": {
    "execution": {
     "iopub.execute_input": "2022-06-25T18:48:06.057823Z",
     "iopub.status.busy": "2022-06-25T18:48:06.057029Z",
     "iopub.status.idle": "2022-06-25T18:48:06.085903Z",
     "shell.execute_reply": "2022-06-25T18:48:06.084796Z"
    }
   },
   "outputs": [
    {
     "data": {
      "text/html": [
       "<div>\n",
       "<style scoped>\n",
       "    .dataframe tbody tr th:only-of-type {\n",
       "        vertical-align: middle;\n",
       "    }\n",
       "\n",
       "    .dataframe tbody tr th {\n",
       "        vertical-align: top;\n",
       "    }\n",
       "\n",
       "    .dataframe thead th {\n",
       "        text-align: right;\n",
       "    }\n",
       "</style>\n",
       "<table border=\"1\" class=\"dataframe\">\n",
       "  <thead>\n",
       "    <tr style=\"text-align: right;\">\n",
       "      <th></th>\n",
       "      <th>coAno</th>\n",
       "      <th>coMes</th>\n",
       "      <th>noMunMinsgUf</th>\n",
       "      <th>vlFob</th>\n",
       "    </tr>\n",
       "  </thead>\n",
       "  <tbody>\n",
       "    <tr>\n",
       "      <th>0</th>\n",
       "      <td>2022</td>\n",
       "      <td>03</td>\n",
       "      <td>Parauapebas - PA</td>\n",
       "      <td>609933760</td>\n",
       "    </tr>\n",
       "    <tr>\n",
       "      <th>1</th>\n",
       "      <td>2022</td>\n",
       "      <td>04</td>\n",
       "      <td>Parauapebas - PA</td>\n",
       "      <td>589055150</td>\n",
       "    </tr>\n",
       "    <tr>\n",
       "      <th>2</th>\n",
       "      <td>2022</td>\n",
       "      <td>01</td>\n",
       "      <td>Parauapebas - PA</td>\n",
       "      <td>512683657</td>\n",
       "    </tr>\n",
       "    <tr>\n",
       "      <th>3</th>\n",
       "      <td>2022</td>\n",
       "      <td>02</td>\n",
       "      <td>Parauapebas - PA</td>\n",
       "      <td>510647191</td>\n",
       "    </tr>\n",
       "    <tr>\n",
       "      <th>4</th>\n",
       "      <td>2022</td>\n",
       "      <td>05</td>\n",
       "      <td>Parauapebas - PA</td>\n",
       "      <td>496805798</td>\n",
       "    </tr>\n",
       "  </tbody>\n",
       "</table>\n",
       "</div>"
      ],
      "text/plain": [
       "  coAno coMes      noMunMinsgUf      vlFob\n",
       "0  2022    03  Parauapebas - PA  609933760\n",
       "1  2022    04  Parauapebas - PA  589055150\n",
       "2  2022    01  Parauapebas - PA  512683657\n",
       "3  2022    02  Parauapebas - PA  510647191\n",
       "4  2022    05  Parauapebas - PA  496805798"
      ]
     },
     "execution_count": 4,
     "metadata": {},
     "output_type": "execute_result"
    }
   ],
   "source": [
    "exportacao.head()"
   ]
  },
  {
   "cell_type": "code",
   "execution_count": 5,
   "metadata": {
    "execution": {
     "iopub.execute_input": "2022-06-25T18:48:06.110652Z",
     "iopub.status.busy": "2022-06-25T18:48:06.109884Z",
     "iopub.status.idle": "2022-06-25T18:48:06.118640Z",
     "shell.execute_reply": "2022-06-25T18:48:06.117717Z"
    }
   },
   "outputs": [],
   "source": [
    "exportacao = exportacao.rename(columns={'coAno':'Ano', 'coMes':'Mês', 'noMunMinsgUf':'Município', 'vlFob':'Valor FOB (US$)'})\n",
    "\n",
    "exportacao['Município'] = exportacao['Município'].apply(lambda x : str(x).replace(' - PA',''))"
   ]
  },
  {
   "cell_type": "code",
   "execution_count": 6,
   "metadata": {
    "execution": {
     "iopub.execute_input": "2022-06-25T18:48:06.140608Z",
     "iopub.status.busy": "2022-06-25T18:48:06.139928Z",
     "iopub.status.idle": "2022-06-25T18:48:06.154037Z",
     "shell.execute_reply": "2022-06-25T18:48:06.152739Z"
    }
   },
   "outputs": [
    {
     "data": {
      "text/html": [
       "<div>\n",
       "<style scoped>\n",
       "    .dataframe tbody tr th:only-of-type {\n",
       "        vertical-align: middle;\n",
       "    }\n",
       "\n",
       "    .dataframe tbody tr th {\n",
       "        vertical-align: top;\n",
       "    }\n",
       "\n",
       "    .dataframe thead th {\n",
       "        text-align: right;\n",
       "    }\n",
       "</style>\n",
       "<table border=\"1\" class=\"dataframe\">\n",
       "  <thead>\n",
       "    <tr style=\"text-align: right;\">\n",
       "      <th></th>\n",
       "      <th>Ano</th>\n",
       "      <th>Mês</th>\n",
       "      <th>Município</th>\n",
       "      <th>Valor FOB (US$)</th>\n",
       "    </tr>\n",
       "  </thead>\n",
       "  <tbody>\n",
       "    <tr>\n",
       "      <th>0</th>\n",
       "      <td>2022</td>\n",
       "      <td>03</td>\n",
       "      <td>Parauapebas</td>\n",
       "      <td>609933760</td>\n",
       "    </tr>\n",
       "    <tr>\n",
       "      <th>1</th>\n",
       "      <td>2022</td>\n",
       "      <td>04</td>\n",
       "      <td>Parauapebas</td>\n",
       "      <td>589055150</td>\n",
       "    </tr>\n",
       "    <tr>\n",
       "      <th>2</th>\n",
       "      <td>2022</td>\n",
       "      <td>01</td>\n",
       "      <td>Parauapebas</td>\n",
       "      <td>512683657</td>\n",
       "    </tr>\n",
       "    <tr>\n",
       "      <th>3</th>\n",
       "      <td>2022</td>\n",
       "      <td>02</td>\n",
       "      <td>Parauapebas</td>\n",
       "      <td>510647191</td>\n",
       "    </tr>\n",
       "    <tr>\n",
       "      <th>4</th>\n",
       "      <td>2022</td>\n",
       "      <td>05</td>\n",
       "      <td>Parauapebas</td>\n",
       "      <td>496805798</td>\n",
       "    </tr>\n",
       "  </tbody>\n",
       "</table>\n",
       "</div>"
      ],
      "text/plain": [
       "    Ano Mês    Município Valor FOB (US$)\n",
       "0  2022  03  Parauapebas       609933760\n",
       "1  2022  04  Parauapebas       589055150\n",
       "2  2022  01  Parauapebas       512683657\n",
       "3  2022  02  Parauapebas       510647191\n",
       "4  2022  05  Parauapebas       496805798"
      ]
     },
     "execution_count": 6,
     "metadata": {},
     "output_type": "execute_result"
    }
   ],
   "source": [
    "exportacao.head()"
   ]
  },
  {
   "cell_type": "code",
   "execution_count": 7,
   "metadata": {
    "execution": {
     "iopub.execute_input": "2022-06-25T18:48:06.176914Z",
     "iopub.status.busy": "2022-06-25T18:48:06.176007Z",
     "iopub.status.idle": "2022-06-25T18:48:06.184450Z",
     "shell.execute_reply": "2022-06-25T18:48:06.183454Z"
    }
   },
   "outputs": [],
   "source": [
    "exportacao['Ano'] = exportacao['Ano'].astype(int)\n",
    "exportacao['Mês'] = exportacao['Mês'].astype(int)\n",
    "exportacao['Valor FOB (US$)'] = exportacao['Valor FOB (US$)'].astype(int)"
   ]
  },
  {
   "cell_type": "code",
   "execution_count": 8,
   "metadata": {
    "execution": {
     "iopub.execute_input": "2022-06-25T18:48:06.211853Z",
     "iopub.status.busy": "2022-06-25T18:48:06.210895Z",
     "iopub.status.idle": "2022-06-25T18:48:06.224862Z",
     "shell.execute_reply": "2022-06-25T18:48:06.223837Z"
    }
   },
   "outputs": [
    {
     "data": {
      "text/html": [
       "<div>\n",
       "<style scoped>\n",
       "    .dataframe tbody tr th:only-of-type {\n",
       "        vertical-align: middle;\n",
       "    }\n",
       "\n",
       "    .dataframe tbody tr th {\n",
       "        vertical-align: top;\n",
       "    }\n",
       "\n",
       "    .dataframe thead th {\n",
       "        text-align: right;\n",
       "    }\n",
       "</style>\n",
       "<table border=\"1\" class=\"dataframe\">\n",
       "  <thead>\n",
       "    <tr style=\"text-align: right;\">\n",
       "      <th></th>\n",
       "      <th>Ano</th>\n",
       "      <th>Mês</th>\n",
       "      <th>Município</th>\n",
       "      <th>Valor FOB (US$)</th>\n",
       "    </tr>\n",
       "  </thead>\n",
       "  <tbody>\n",
       "    <tr>\n",
       "      <th>0</th>\n",
       "      <td>2022</td>\n",
       "      <td>3</td>\n",
       "      <td>Parauapebas</td>\n",
       "      <td>609933760</td>\n",
       "    </tr>\n",
       "    <tr>\n",
       "      <th>1</th>\n",
       "      <td>2022</td>\n",
       "      <td>4</td>\n",
       "      <td>Parauapebas</td>\n",
       "      <td>589055150</td>\n",
       "    </tr>\n",
       "    <tr>\n",
       "      <th>2</th>\n",
       "      <td>2022</td>\n",
       "      <td>1</td>\n",
       "      <td>Parauapebas</td>\n",
       "      <td>512683657</td>\n",
       "    </tr>\n",
       "    <tr>\n",
       "      <th>3</th>\n",
       "      <td>2022</td>\n",
       "      <td>2</td>\n",
       "      <td>Parauapebas</td>\n",
       "      <td>510647191</td>\n",
       "    </tr>\n",
       "    <tr>\n",
       "      <th>4</th>\n",
       "      <td>2022</td>\n",
       "      <td>5</td>\n",
       "      <td>Parauapebas</td>\n",
       "      <td>496805798</td>\n",
       "    </tr>\n",
       "  </tbody>\n",
       "</table>\n",
       "</div>"
      ],
      "text/plain": [
       "    Ano  Mês    Município  Valor FOB (US$)\n",
       "0  2022    3  Parauapebas        609933760\n",
       "1  2022    4  Parauapebas        589055150\n",
       "2  2022    1  Parauapebas        512683657\n",
       "3  2022    2  Parauapebas        510647191\n",
       "4  2022    5  Parauapebas        496805798"
      ]
     },
     "execution_count": 8,
     "metadata": {},
     "output_type": "execute_result"
    }
   ],
   "source": [
    "exportacao.head()"
   ]
  },
  {
   "cell_type": "code",
   "execution_count": 9,
   "metadata": {
    "execution": {
     "iopub.execute_input": "2022-06-25T18:48:06.247760Z",
     "iopub.status.busy": "2022-06-25T18:48:06.247358Z",
     "iopub.status.idle": "2022-06-25T18:48:06.253957Z",
     "shell.execute_reply": "2022-06-25T18:48:06.252948Z"
    }
   },
   "outputs": [],
   "source": [
    "orchest.output(exportacao, \"exportacao\")"
   ]
  },
  {
   "cell_type": "code",
   "execution_count": null,
   "metadata": {},
   "outputs": [],
   "source": []
  }
 ],
 "metadata": {
  "interpreter": {
   "hash": "31c343df0307e317f338e13842f1848929a1168821279cd78d86c2cef5573c6f"
  },
  "kernelspec": {
   "display_name": "Python 3",
   "language": "python",
   "name": "orchest-kernel-6449305e-5170-4e80-84d9-5e9c3ca98522"
  },
  "language_info": {
   "codemirror_mode": {
    "name": "ipython",
    "version": 3
   },
   "file_extension": ".py",
   "mimetype": "text/x-python",
   "name": "python",
   "nbconvert_exporter": "python",
   "pygments_lexer": "ipython3",
   "version": "3.9.10"
  }
 },
 "nbformat": 4,
 "nbformat_minor": 4
}
