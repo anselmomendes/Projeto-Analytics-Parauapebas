{
 "cells": [
  {
   "cell_type": "code",
   "execution_count": 5,
   "metadata": {
    "tags": []
   },
   "outputs": [
    {
     "name": "stdout",
     "output_type": "stream",
     "text": [
      "Importando Bibliotecas...\n",
      "Bibliotecas importadas\n"
     ]
    }
   ],
   "source": [
    "print('Importando Bibliotecas...')\n",
    "import psycopg2\n",
    "import orchest\n",
    "import pandas\n",
    "import sqlalchemy\n",
    "from sqlalchemy import create_engine\n",
    "import urllib.parse\n",
    "print('Bibliotecas importadas')"
   ]
  },
  {
   "cell_type": "code",
   "execution_count": 6,
   "metadata": {
    "tags": []
   },
   "outputs": [
    {
     "name": "stdout",
     "output_type": "stream",
     "text": [
      "carregando as credenciais do banco de dados...\n"
     ]
    }
   ],
   "source": [
    "print('carregando as credenciais do banco de dados...')\n",
    "SGBD = 'postgresql'\n",
    "SGBD_ = 'postgresql+pg8000'\n",
    "host = '69.64.34.252'\n",
    "port = '5432'\n",
    "database = 'parauapebas'\n",
    "user = 'dtwanalytics'\n",
    "password = 'dtw@2022'\n",
    "password_ = urllib.parse.quote_plus('dtw@2022')"
   ]
  },
  {
   "cell_type": "code",
   "execution_count": 7,
   "metadata": {
    "tags": []
   },
   "outputs": [
    {
     "name": "stdout",
     "output_type": "stream",
     "text": [
      "Carregando os dados dos steps anteriores...\n"
     ]
    }
   ],
   "source": [
    "print('Carregando os dados dos steps anteriores...')\n",
    "df = orchest.get_inputs()"
   ]
  },
  {
   "cell_type": "code",
   "execution_count": 8,
   "metadata": {
    "tags": []
   },
   "outputs": [],
   "source": [
    "#df.keys()"
   ]
  },
  {
   "cell_type": "code",
   "execution_count": 9,
   "metadata": {
    "tags": []
   },
   "outputs": [],
   "source": [
    "credor = df['credor']\n",
    "elementos_despesa = df['elementos_despesa']\n",
    "exercicios = df['exercicios']\n",
    "orgaos = df['orgaos']\n",
    "pagamento = df['pagamento']\n",
    "prevista = df['prevista']\n",
    "arrecadadada = df['arrecadadada']"
   ]
  },
  {
   "cell_type": "code",
   "execution_count": 10,
   "metadata": {
    "tags": []
   },
   "outputs": [],
   "source": [
    "def create_database(sql): \n",
    "    try:\n",
    "        con = psycopg2.connect(host=host, database=database,\n",
    "        user=user, password=password)\n",
    "        cur = con.cursor()\n",
    "        cur.execute(sql)\n",
    "        con.commit()\n",
    "        con.close()\n",
    "        print(\"Query executada!\")\n",
    "    except:\n",
    "        print(\"Erro ao criar o banco de dados.\")"
   ]
  },
  {
   "cell_type": "code",
   "execution_count": 11,
   "metadata": {
    "tags": []
   },
   "outputs": [
    {
     "name": "stdout",
     "output_type": "stream",
     "text": [
      "Criando a tabela de credor caso não exista...\n",
      "Query executada!\n"
     ]
    }
   ],
   "source": [
    "print('Criando a tabela de credor caso não exista...')\n",
    "create_database('''CREATE TABLE IF NOT EXISTS credor (\"id\" serial primary key, \n",
    "\"Nome da Empresa\" CHAR(150) NOT NULL, \"CNPJ\" CHAR(100) NOT NULL);''')"
   ]
  },
  {
   "cell_type": "code",
   "execution_count": 12,
   "metadata": {
    "tags": []
   },
   "outputs": [
    {
     "name": "stdout",
     "output_type": "stream",
     "text": [
      "Criando a tabela de elementos_despesa caso não exista...\n",
      "Query executada!\n"
     ]
    }
   ],
   "source": [
    "print('Criando a tabela de elementos_despesa caso não exista...')\n",
    "create_database('''CREATE TABLE IF NOT EXISTS elementos_despesa (\"id\" serial primary key, \n",
    "\"nome\" CHAR(250) NOT NULL);''')"
   ]
  },
  {
   "cell_type": "code",
   "execution_count": 13,
   "metadata": {
    "tags": []
   },
   "outputs": [
    {
     "name": "stdout",
     "output_type": "stream",
     "text": [
      "Criando a tabela de exercicios caso não exista...\n",
      "Query executada!\n"
     ]
    }
   ],
   "source": [
    "print('Criando a tabela de exercicios caso não exista...')\n",
    "create_database('''CREATE TABLE IF NOT EXISTS exercicios (\"id\" serial primary key, \n",
    "\"nome\" CHAR(250) NOT NULL);''')"
   ]
  },
  {
   "cell_type": "code",
   "execution_count": 14,
   "metadata": {
    "tags": []
   },
   "outputs": [
    {
     "name": "stdout",
     "output_type": "stream",
     "text": [
      "Criando a tabela de orgaos caso não exista...\n",
      "Query executada!\n"
     ]
    }
   ],
   "source": [
    "print('Criando a tabela de orgaos caso não exista...')\n",
    "create_database('''CREATE TABLE IF NOT EXISTS orgaos (\"id\" serial primary key, \"nome\" CHAR(250) NOT NULL, \n",
    "\"id_unidades_orcamentarias\" integer, \"nome_unidades_orcamentarias\" integer);''')"
   ]
  },
  {
   "cell_type": "code",
   "execution_count": 15,
   "metadata": {
    "tags": []
   },
   "outputs": [
    {
     "name": "stdout",
     "output_type": "stream",
     "text": [
      "Criando a tabela de pagamento caso não exista...\n",
      "Query executada!\n"
     ]
    }
   ],
   "source": [
    "print('Criando a tabela de pagamento caso não exista...')\n",
    "create_database('''CREATE TABLE IF NOT EXISTS pagamento (\"id\" serial primary key, \"numeroDocumento\" integer, \n",
    "\"dataMovimento\" DATE NOT NULL, \"numeroEmpenho\" integer, \"credor\" CHAR(250) NOT NULL, \n",
    "\"cnpjcpf\" CHAR(100) NOT NULL, \"naturezaDaDespesa\" CHAR(250) NOT NULL, \n",
    "\"modalidadeLicitacao\" CHAR(250) NOT NULL, \"registro\" CHAR(150) NOT NULL,\n",
    "\"valor\" float, \"idOrgao\" integer, \"idElem\" integer, \"idEmpenho\" integer);''')"
   ]
  },
  {
   "cell_type": "code",
   "execution_count": 16,
   "metadata": {
    "tags": []
   },
   "outputs": [
    {
     "name": "stdout",
     "output_type": "stream",
     "text": [
      "Criando a tabela de prevista caso não exista...\n",
      "Query executada!\n"
     ]
    }
   ],
   "source": [
    "print('Criando a tabela de prevista caso não exista...')\n",
    "create_database('''CREATE TABLE IF NOT EXISTS prevista (\"id\" serial primary key, \"codigo\" integer, \n",
    "\"especificacao\" CHAR(250) NOT NULL, \"previsao\" float  NOT NULL, \"arrecadado\" float NOT NULL);''')"
   ]
  },
  {
   "cell_type": "code",
   "execution_count": 17,
   "metadata": {
    "tags": []
   },
   "outputs": [
    {
     "name": "stdout",
     "output_type": "stream",
     "text": [
      "Criando a tabela de arrecadadada caso não exista...\n",
      "Query executada!\n"
     ]
    }
   ],
   "source": [
    "print('Criando a tabela de arrecadadada caso não exista...')\n",
    "create_database('''CREATE TABLE IF NOT EXISTS arrecadadada (\"id\" serial primary key, \"dataMovimento\" DATE NOT NULL, \n",
    "\"numeroDocumento\" integer NOT NULL, \"codigo\" varchar(150) NOT NULL, \"contribuinte\" varchar(250) NOT NULL, \n",
    "\"cnpjcpf\" varchar(150) NOT NULL, \"registro\" varchar(150) NOT NULL, \"valor\" float NOT NULL,\n",
    "\"especificacao\" varchar(350) NOT NULL);''')"
   ]
  },
  {
   "cell_type": "code",
   "execution_count": 18,
   "metadata": {
    "tags": []
   },
   "outputs": [
    {
     "name": "stdout",
     "output_type": "stream",
     "text": [
      "Conexão com banco de dados criada...\n"
     ]
    }
   ],
   "source": [
    "SQLALCHEMY = f\"{SGBD_}://{user}:{password_}@{host}:{port}/{database}\"\n",
    "try:\n",
    "    engine = create_engine(SQLALCHEMY)\n",
    "    conn = engine.connect()\n",
    "    print('Conexão com banco de dados criada...')\n",
    "except:\n",
    "    print('Falha na importação dos dados...')"
   ]
  },
  {
   "cell_type": "code",
   "execution_count": 19,
   "metadata": {
    "tags": []
   },
   "outputs": [
    {
     "name": "stdout",
     "output_type": "stream",
     "text": [
      "Realizando os Insert na tabela credor...\n",
      "Insert no banco de dados Realizado...\n"
     ]
    }
   ],
   "source": [
    "print('Realizando os Insert na tabela credor...')\n",
    "credor.to_sql('credor', con=conn, if_exists='replace', index=False)\n",
    "print('Insert no banco de dados Realizado...')"
   ]
  },
  {
   "cell_type": "code",
   "execution_count": 20,
   "metadata": {
    "tags": []
   },
   "outputs": [
    {
     "name": "stdout",
     "output_type": "stream",
     "text": [
      "Realizando os Insert na tabela elementos_despesa...\n",
      "Insert no banco de dados Realizado...\n"
     ]
    }
   ],
   "source": [
    "print('Realizando os Insert na tabela elementos_despesa...')\n",
    "elementos_despesa.to_sql('elementos_despesa', con=conn, if_exists='replace', index=False)\n",
    "print('Insert no banco de dados Realizado...')"
   ]
  },
  {
   "cell_type": "code",
   "execution_count": 21,
   "metadata": {
    "tags": []
   },
   "outputs": [
    {
     "name": "stdout",
     "output_type": "stream",
     "text": [
      "Realizando os Insert na tabela exercicios...\n",
      "Insert no banco de dados Realizado...\n"
     ]
    }
   ],
   "source": [
    "print('Realizando os Insert na tabela exercicios...')\n",
    "exercicios.to_sql('exercicios', con=conn, if_exists='replace', index=False)\n",
    "print('Insert no banco de dados Realizado...')"
   ]
  },
  {
   "cell_type": "code",
   "execution_count": 22,
   "metadata": {
    "tags": []
   },
   "outputs": [
    {
     "name": "stdout",
     "output_type": "stream",
     "text": [
      "Realizando os Insert na tabela orgaos...\n",
      "Insert no banco de dados Realizado...\n"
     ]
    }
   ],
   "source": [
    "print('Realizando os Insert na tabela orgaos...')\n",
    "orgaos.to_sql('orgaos', con=conn, if_exists='replace', index=False)\n",
    "print('Insert no banco de dados Realizado...')"
   ]
  },
  {
   "cell_type": "code",
   "execution_count": 23,
   "metadata": {
    "tags": []
   },
   "outputs": [
    {
     "name": "stdout",
     "output_type": "stream",
     "text": [
      "Realizando os Insert na tabela pagamento...\n",
      "Insert no banco de dados Realizado...\n"
     ]
    }
   ],
   "source": [
    "print('Realizando os Insert na tabela pagamento...')\n",
    "pagamento.to_sql('pagamento', con=conn, if_exists='replace', index=False)\n",
    "print('Insert no banco de dados Realizado...')"
   ]
  },
  {
   "cell_type": "code",
   "execution_count": 24,
   "metadata": {
    "tags": []
   },
   "outputs": [
    {
     "name": "stdout",
     "output_type": "stream",
     "text": [
      "Realizando os Insert na tabela prevista...\n",
      "Insert no banco de dados Realizado...\n"
     ]
    }
   ],
   "source": [
    "print('Realizando os Insert na tabela prevista...')\n",
    "prevista.to_sql('prevista', con=conn, if_exists='replace', index=False)\n",
    "print('Insert no banco de dados Realizado...')"
   ]
  },
  {
   "cell_type": "code",
   "execution_count": 25,
   "metadata": {
    "tags": []
   },
   "outputs": [
    {
     "name": "stdout",
     "output_type": "stream",
     "text": [
      "Realizando os Insert na tabela arrecadadada...\n",
      "Insert no banco de dados Realizado...\n"
     ]
    }
   ],
   "source": [
    "print('Realizando os Insert na tabela arrecadadada...')\n",
    "arrecadadada.to_sql('arrecadadada', con=conn, if_exists='replace', index=False)\n",
    "print('Insert no banco de dados Realizado...')"
   ]
  },
  {
   "cell_type": "code",
   "execution_count": 26,
   "metadata": {
    "tags": []
   },
   "outputs": [
    {
     "name": "stdout",
     "output_type": "stream",
     "text": [
      "Script executado com sucesso!\n"
     ]
    }
   ],
   "source": [
    "print('Script executado com sucesso!')"
   ]
  },
  {
   "cell_type": "code",
   "execution_count": null,
   "metadata": {},
   "outputs": [],
   "source": []
  }
 ],
 "metadata": {
  "kernelspec": {
   "display_name": "Python 3",
   "language": "python",
   "name": "orchest-kernel-6449305e-5170-4e80-84d9-5e9c3ca98522"
  },
  "language_info": {
   "codemirror_mode": {
    "name": "ipython",
    "version": 3
   },
   "file_extension": ".py",
   "mimetype": "text/x-python",
   "name": "python",
   "nbconvert_exporter": "python",
   "pygments_lexer": "ipython3",
   "version": "3.9.10"
  }
 },
 "nbformat": 4,
 "nbformat_minor": 4
}
