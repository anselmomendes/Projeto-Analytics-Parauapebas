{
 "cells": [
  {
   "cell_type": "code",
   "execution_count": 1,
   "metadata": {
    "execution": {
     "iopub.execute_input": "2022-06-26T19:08:41.581425Z",
     "iopub.status.busy": "2022-06-26T19:08:41.580921Z",
     "iopub.status.idle": "2022-06-26T19:08:42.729730Z",
     "shell.execute_reply": "2022-06-26T19:08:42.728523Z"
    }
   },
   "outputs": [
    {
     "name": "stdout",
     "output_type": "stream",
     "text": [
      "Importando Bibliotecas...\n"
     ]
    },
    {
     "name": "stdout",
     "output_type": "stream",
     "text": [
      "Bibliotecas importadas\n"
     ]
    }
   ],
   "source": [
    "print('Importando Bibliotecas...')\n",
    "import psycopg2\n",
    "import orchest\n",
    "import pandas\n",
    "import sqlalchemy\n",
    "from sqlalchemy import create_engine\n",
    "import urllib.parse\n",
    "print('Bibliotecas importadas')"
   ]
  },
  {
   "cell_type": "code",
   "execution_count": 2,
   "metadata": {
    "execution": {
     "iopub.execute_input": "2022-06-26T19:08:42.794325Z",
     "iopub.status.busy": "2022-06-26T19:08:42.793750Z",
     "iopub.status.idle": "2022-06-26T19:08:42.801512Z",
     "shell.execute_reply": "2022-06-26T19:08:42.800422Z"
    }
   },
   "outputs": [
    {
     "name": "stdout",
     "output_type": "stream",
     "text": [
      "carregando as credenciais do banco de dados...\n"
     ]
    }
   ],
   "source": [
    "print('carregando as credenciais do banco de dados...')\n",
    "SGBD = 'postgresql'\n",
    "SGBD_ = 'postgresql+pg8000'\n",
    "host = '69.64.34.252'\n",
    "port = '5432'\n",
    "database = 'parauapebas'\n",
    "user = 'dtwanalytics'\n",
    "password = 'dtw@2022'\n",
    "password_ = urllib.parse.quote_plus('dtw@2022')"
   ]
  },
  {
   "cell_type": "code",
   "execution_count": 3,
   "metadata": {
    "execution": {
     "iopub.execute_input": "2022-06-26T19:08:42.862621Z",
     "iopub.status.busy": "2022-06-26T19:08:42.862290Z",
     "iopub.status.idle": "2022-06-26T19:08:43.064217Z",
     "shell.execute_reply": "2022-06-26T19:08:43.062681Z"
    }
   },
   "outputs": [
    {
     "name": "stdout",
     "output_type": "stream",
     "text": [
      "Carregando os dados dos steps anteriores...\n"
     ]
    }
   ],
   "source": [
    "print('Carregando os dados dos steps anteriores...')\n",
    "df = orchest.get_inputs()"
   ]
  },
  {
   "cell_type": "code",
   "execution_count": 4,
   "metadata": {
    "execution": {
     "iopub.execute_input": "2022-06-26T19:08:43.153917Z",
     "iopub.status.busy": "2022-06-26T19:08:43.152991Z",
     "iopub.status.idle": "2022-06-26T19:08:43.157920Z",
     "shell.execute_reply": "2022-06-26T19:08:43.156940Z"
    }
   },
   "outputs": [],
   "source": [
    "#df.keys()"
   ]
  },
  {
   "cell_type": "code",
   "execution_count": 5,
   "metadata": {
    "execution": {
     "iopub.execute_input": "2022-06-26T19:08:43.219584Z",
     "iopub.status.busy": "2022-06-26T19:08:43.219233Z",
     "iopub.status.idle": "2022-06-26T19:08:43.226090Z",
     "shell.execute_reply": "2022-06-26T19:08:43.225180Z"
    }
   },
   "outputs": [],
   "source": [
    "credor = df['credor']\n",
    "elementos_despesa = df['elementos_despesa']\n",
    "exercicios = df['exercicios']\n",
    "orgaos = df['orgaos']\n",
    "pagamento = df['pagamento']\n",
    "prevista = df['prevista']\n",
    "arrecadadada = df['arrecadadada']"
   ]
  },
  {
   "cell_type": "code",
   "execution_count": 6,
   "metadata": {
    "execution": {
     "iopub.execute_input": "2022-06-26T19:08:43.283005Z",
     "iopub.status.busy": "2022-06-26T19:08:43.282689Z",
     "iopub.status.idle": "2022-06-26T19:08:43.290625Z",
     "shell.execute_reply": "2022-06-26T19:08:43.289423Z"
    }
   },
   "outputs": [],
   "source": [
    "def create_database(sql): \n",
    "    try:\n",
    "        con = psycopg2.connect(host=host, database=database,\n",
    "        user=user, password=password)\n",
    "        cur = con.cursor()\n",
    "        cur.execute(sql)\n",
    "        con.commit()\n",
    "        con.close()\n",
    "        print(\"Query executada!\")\n",
    "    except:\n",
    "        print(\"Erro ao criar o banco de dados.\")"
   ]
  },
  {
   "cell_type": "code",
   "execution_count": 7,
   "metadata": {
    "execution": {
     "iopub.execute_input": "2022-06-26T19:08:43.349442Z",
     "iopub.status.busy": "2022-06-26T19:08:43.349051Z",
     "iopub.status.idle": "2022-06-26T19:08:43.379776Z",
     "shell.execute_reply": "2022-06-26T19:08:43.378635Z"
    }
   },
   "outputs": [
    {
     "name": "stdout",
     "output_type": "stream",
     "text": [
      "Criando a tabela de credor caso não exista...\n",
      "Query executada!\n"
     ]
    }
   ],
   "source": [
    "print('Criando a tabela de credor caso não exista...')\n",
    "create_database('''CREATE TABLE IF NOT EXISTS credor (\"id\" serial primary key, \n",
    "\"Nome da Empresa\" CHAR(150) NOT NULL, \"CNPJ\" CHAR(100) NOT NULL);''')"
   ]
  },
  {
   "cell_type": "code",
   "execution_count": 8,
   "metadata": {
    "execution": {
     "iopub.execute_input": "2022-06-26T19:08:43.438517Z",
     "iopub.status.busy": "2022-06-26T19:08:43.437775Z",
     "iopub.status.idle": "2022-06-26T19:08:43.470464Z",
     "shell.execute_reply": "2022-06-26T19:08:43.469456Z"
    }
   },
   "outputs": [
    {
     "name": "stdout",
     "output_type": "stream",
     "text": [
      "Criando a tabela de elementos_despesa caso não exista...\n",
      "Query executada!\n"
     ]
    }
   ],
   "source": [
    "print('Criando a tabela de elementos_despesa caso não exista...')\n",
    "create_database('''CREATE TABLE IF NOT EXISTS elementos_despesa (\"id\" serial primary key, \n",
    "\"nome\" CHAR(250) NOT NULL);''')"
   ]
  },
  {
   "cell_type": "code",
   "execution_count": 9,
   "metadata": {
    "execution": {
     "iopub.execute_input": "2022-06-26T19:08:43.542505Z",
     "iopub.status.busy": "2022-06-26T19:08:43.542159Z",
     "iopub.status.idle": "2022-06-26T19:08:43.572236Z",
     "shell.execute_reply": "2022-06-26T19:08:43.570794Z"
    }
   },
   "outputs": [
    {
     "name": "stdout",
     "output_type": "stream",
     "text": [
      "Criando a tabela de exercicios caso não exista...\n"
     ]
    },
    {
     "name": "stdout",
     "output_type": "stream",
     "text": [
      "Query executada!\n"
     ]
    }
   ],
   "source": [
    "print('Criando a tabela de exercicios caso não exista...')\n",
    "create_database('''CREATE TABLE IF NOT EXISTS exercicios (\"id\" serial primary key, \n",
    "\"nome\" CHAR(250) NOT NULL);''')"
   ]
  },
  {
   "cell_type": "code",
   "execution_count": 10,
   "metadata": {
    "execution": {
     "iopub.execute_input": "2022-06-26T19:08:43.631976Z",
     "iopub.status.busy": "2022-06-26T19:08:43.631651Z",
     "iopub.status.idle": "2022-06-26T19:08:43.661652Z",
     "shell.execute_reply": "2022-06-26T19:08:43.660592Z"
    }
   },
   "outputs": [
    {
     "name": "stdout",
     "output_type": "stream",
     "text": [
      "Criando a tabela de orgaos caso não exista...\n"
     ]
    },
    {
     "name": "stdout",
     "output_type": "stream",
     "text": [
      "Query executada!\n"
     ]
    }
   ],
   "source": [
    "print('Criando a tabela de orgaos caso não exista...')\n",
    "create_database('''CREATE TABLE IF NOT EXISTS orgaos (\"id\" serial primary key, \"nome\" CHAR(250) NOT NULL, \n",
    "\"id_unidades_orcamentarias\" integer, \"nome_unidades_orcamentarias\" integer);''')"
   ]
  },
  {
   "cell_type": "code",
   "execution_count": 11,
   "metadata": {
    "execution": {
     "iopub.execute_input": "2022-06-26T19:08:43.723498Z",
     "iopub.status.busy": "2022-06-26T19:08:43.723124Z",
     "iopub.status.idle": "2022-06-26T19:08:43.753565Z",
     "shell.execute_reply": "2022-06-26T19:08:43.751938Z"
    }
   },
   "outputs": [
    {
     "name": "stdout",
     "output_type": "stream",
     "text": [
      "Criando a tabela de pagamento caso não exista...\n"
     ]
    },
    {
     "name": "stdout",
     "output_type": "stream",
     "text": [
      "Query executada!\n"
     ]
    }
   ],
   "source": [
    "print('Criando a tabela de pagamento caso não exista...')\n",
    "create_database('''CREATE TABLE IF NOT EXISTS pagamento (\"id\" serial primary key, \"numeroDocumento\" integer, \n",
    "\"dataMovimento\" DATE NOT NULL, \"numeroEmpenho\" integer, \"credor\" CHAR(250) NOT NULL, \n",
    "\"cnpjcpf\" CHAR(100) NOT NULL, \"naturezaDaDespesa\" CHAR(250) NOT NULL, \n",
    "\"modalidadeLicitacao\" CHAR(250) NOT NULL, \"registro\" CHAR(150) NOT NULL,\n",
    "\"valor\" float, \"idOrgao\" integer, \"idElem\" integer, \"idEmpenho\" integer);''')"
   ]
  },
  {
   "cell_type": "code",
   "execution_count": 12,
   "metadata": {
    "execution": {
     "iopub.execute_input": "2022-06-26T19:08:43.823590Z",
     "iopub.status.busy": "2022-06-26T19:08:43.823190Z",
     "iopub.status.idle": "2022-06-26T19:08:43.853153Z",
     "shell.execute_reply": "2022-06-26T19:08:43.852137Z"
    }
   },
   "outputs": [
    {
     "name": "stdout",
     "output_type": "stream",
     "text": [
      "Criando a tabela de prevista caso não exista...\n"
     ]
    },
    {
     "name": "stdout",
     "output_type": "stream",
     "text": [
      "Query executada!\n"
     ]
    }
   ],
   "source": [
    "print('Criando a tabela de prevista caso não exista...')\n",
    "create_database('''CREATE TABLE IF NOT EXISTS prevista (\"id\" serial primary key, \"codigo\" integer, \n",
    "\"especificacao\" CHAR(250) NOT NULL, \"previsao\" float  NOT NULL, \"arrecadado\" float NOT NULL);''')"
   ]
  },
  {
   "cell_type": "code",
   "execution_count": 13,
   "metadata": {
    "execution": {
     "iopub.execute_input": "2022-06-26T19:08:43.910893Z",
     "iopub.status.busy": "2022-06-26T19:08:43.910441Z",
     "iopub.status.idle": "2022-06-26T19:08:43.940070Z",
     "shell.execute_reply": "2022-06-26T19:08:43.938991Z"
    }
   },
   "outputs": [
    {
     "name": "stdout",
     "output_type": "stream",
     "text": [
      "Criando a tabela de arrecadadada caso não exista...\n"
     ]
    },
    {
     "name": "stdout",
     "output_type": "stream",
     "text": [
      "Query executada!\n"
     ]
    }
   ],
   "source": [
    "print('Criando a tabela de arrecadadada caso não exista...')\n",
    "create_database('''CREATE TABLE IF NOT EXISTS arrecadadada (\"id\" serial primary key, \"dataMovimento\" DATE NOT NULL, \n",
    "\"numeroDocumento\" integer NOT NULL, \"codigo\" varchar(150) NOT NULL, \"contribuinte\" varchar(250) NOT NULL, \n",
    "\"cnpjcpf\" varchar(150) NOT NULL, \"registro\" varchar(150) NOT NULL, \"valor\" float NOT NULL,\n",
    "\"especificacao\" varchar(350) NOT NULL);''')"
   ]
  },
  {
   "cell_type": "code",
   "execution_count": 14,
   "metadata": {
    "execution": {
     "iopub.execute_input": "2022-06-26T19:08:44.003467Z",
     "iopub.status.busy": "2022-06-26T19:08:44.003141Z",
     "iopub.status.idle": "2022-06-26T19:08:44.181485Z",
     "shell.execute_reply": "2022-06-26T19:08:44.180190Z"
    }
   },
   "outputs": [
    {
     "name": "stdout",
     "output_type": "stream",
     "text": [
      "Conexão com banco de dados criada...\n"
     ]
    }
   ],
   "source": [
    "SQLALCHEMY = f\"{SGBD_}://{user}:{password_}@{host}:{port}/{database}\"\n",
    "\n",
    "engine = create_engine(SQLALCHEMY)\n",
    "conn = engine.connect()\n",
    "print('Conexão com banco de dados criada...')"
   ]
  },
  {
   "cell_type": "code",
   "execution_count": 15,
   "metadata": {
    "execution": {
     "iopub.execute_input": "2022-06-26T19:08:44.250981Z",
     "iopub.status.busy": "2022-06-26T19:08:44.250418Z",
     "iopub.status.idle": "2022-06-26T19:10:01.375159Z",
     "shell.execute_reply": "2022-06-26T19:10:01.373402Z"
    }
   },
   "outputs": [
    {
     "name": "stdout",
     "output_type": "stream",
     "text": [
      "Realizando os Insert na tabela credor...\n"
     ]
    },
    {
     "name": "stdout",
     "output_type": "stream",
     "text": [
      "Insert no banco de dados Realizado...\n"
     ]
    }
   ],
   "source": [
    "print('Realizando os Insert na tabela credor...')\n",
    "credor.to_sql('credor', con=conn, if_exists='replace', index=False)\n",
    "print('Insert no banco de dados Realizado...')"
   ]
  },
  {
   "cell_type": "code",
   "execution_count": 16,
   "metadata": {
    "execution": {
     "iopub.execute_input": "2022-06-26T19:10:01.460296Z",
     "iopub.status.busy": "2022-06-26T19:10:01.459541Z",
     "iopub.status.idle": "2022-06-26T19:10:02.528896Z",
     "shell.execute_reply": "2022-06-26T19:10:02.527567Z"
    }
   },
   "outputs": [
    {
     "name": "stdout",
     "output_type": "stream",
     "text": [
      "Realizando os Insert na tabela elementos_despesa...\n"
     ]
    },
    {
     "name": "stdout",
     "output_type": "stream",
     "text": [
      "Insert no banco de dados Realizado...\n"
     ]
    }
   ],
   "source": [
    "print('Realizando os Insert na tabela elementos_despesa...')\n",
    "elementos_despesa.to_sql('elementos_despesa', con=conn, if_exists='replace', index=False)\n",
    "print('Insert no banco de dados Realizado...')"
   ]
  },
  {
   "cell_type": "code",
   "execution_count": 17,
   "metadata": {
    "execution": {
     "iopub.execute_input": "2022-06-26T19:10:02.628358Z",
     "iopub.status.busy": "2022-06-26T19:10:02.627997Z",
     "iopub.status.idle": "2022-06-26T19:10:02.777059Z",
     "shell.execute_reply": "2022-06-26T19:10:02.775760Z"
    }
   },
   "outputs": [
    {
     "name": "stdout",
     "output_type": "stream",
     "text": [
      "Realizando os Insert na tabela exercicios...\n"
     ]
    },
    {
     "name": "stdout",
     "output_type": "stream",
     "text": [
      "Insert no banco de dados Realizado...\n"
     ]
    }
   ],
   "source": [
    "print('Realizando os Insert na tabela exercicios...')\n",
    "exercicios.to_sql('exercicios', con=conn, if_exists='replace', index=False)\n",
    "print('Insert no banco de dados Realizado...')"
   ]
  },
  {
   "cell_type": "code",
   "execution_count": 18,
   "metadata": {
    "execution": {
     "iopub.execute_input": "2022-06-26T19:10:02.839970Z",
     "iopub.status.busy": "2022-06-26T19:10:02.839589Z",
     "iopub.status.idle": "2022-06-26T19:10:03.999011Z",
     "shell.execute_reply": "2022-06-26T19:10:03.997386Z"
    }
   },
   "outputs": [
    {
     "name": "stdout",
     "output_type": "stream",
     "text": [
      "Realizando os Insert na tabela orgaos...\n"
     ]
    },
    {
     "name": "stdout",
     "output_type": "stream",
     "text": [
      "Insert no banco de dados Realizado...\n"
     ]
    }
   ],
   "source": [
    "print('Realizando os Insert na tabela orgaos...')\n",
    "orgaos.to_sql('orgaos', con=conn, if_exists='replace', index=False)\n",
    "print('Insert no banco de dados Realizado...')"
   ]
  },
  {
   "cell_type": "code",
   "execution_count": 19,
   "metadata": {
    "execution": {
     "iopub.execute_input": "2022-06-26T19:10:04.102985Z",
     "iopub.status.busy": "2022-06-26T19:10:04.102401Z",
     "iopub.status.idle": "2022-06-26T19:13:36.380522Z",
     "shell.execute_reply": "2022-06-26T19:13:36.379048Z"
    }
   },
   "outputs": [
    {
     "name": "stdout",
     "output_type": "stream",
     "text": [
      "Realizando os Insert na tabela pagamento...\n"
     ]
    },
    {
     "name": "stdout",
     "output_type": "stream",
     "text": [
      "Insert no banco de dados Realizado...\n"
     ]
    }
   ],
   "source": [
    "print('Realizando os Insert na tabela pagamento...')\n",
    "pagamento.to_sql('pagamento', con=conn, if_exists='replace', index=False)\n",
    "print('Insert no banco de dados Realizado...')"
   ]
  },
  {
   "cell_type": "code",
   "execution_count": 20,
   "metadata": {
    "execution": {
     "iopub.execute_input": "2022-06-26T19:13:36.482190Z",
     "iopub.status.busy": "2022-06-26T19:13:36.481682Z",
     "iopub.status.idle": "2022-06-26T19:13:37.150229Z",
     "shell.execute_reply": "2022-06-26T19:13:37.148816Z"
    }
   },
   "outputs": [
    {
     "name": "stdout",
     "output_type": "stream",
     "text": [
      "Realizando os Insert na tabela prevista...\n"
     ]
    },
    {
     "name": "stdout",
     "output_type": "stream",
     "text": [
      "Insert no banco de dados Realizado...\n"
     ]
    }
   ],
   "source": [
    "print('Realizando os Insert na tabela prevista...')\n",
    "prevista.to_sql('prevista', con=conn, if_exists='replace', index=False)\n",
    "print('Insert no banco de dados Realizado...')"
   ]
  },
  {
   "cell_type": "code",
   "execution_count": 21,
   "metadata": {
    "execution": {
     "iopub.execute_input": "2022-06-26T19:13:37.233605Z",
     "iopub.status.busy": "2022-06-26T19:13:37.232930Z",
     "iopub.status.idle": "2022-06-26T19:15:22.336393Z",
     "shell.execute_reply": "2022-06-26T19:15:22.334611Z"
    }
   },
   "outputs": [
    {
     "name": "stdout",
     "output_type": "stream",
     "text": [
      "Realizando os Insert na tabela arrecadadada...\n"
     ]
    },
    {
     "name": "stdout",
     "output_type": "stream",
     "text": [
      "Insert no banco de dados Realizado...\n"
     ]
    }
   ],
   "source": [
    "print('Realizando os Insert na tabela arrecadadada...')\n",
    "arrecadadada.to_sql('arrecadadada', con=conn, if_exists='replace', index=False)\n",
    "print('Insert no banco de dados Realizado...')"
   ]
  },
  {
   "cell_type": "code",
   "execution_count": 22,
   "metadata": {
    "execution": {
     "iopub.execute_input": "2022-06-26T19:15:22.432966Z",
     "iopub.status.busy": "2022-06-26T19:15:22.432390Z",
     "iopub.status.idle": "2022-06-26T19:15:22.441830Z",
     "shell.execute_reply": "2022-06-26T19:15:22.440442Z"
    }
   },
   "outputs": [
    {
     "name": "stdout",
     "output_type": "stream",
     "text": [
      "Script executado com sucesso!\n"
     ]
    }
   ],
   "source": [
    "print('Script executado com sucesso!')"
   ]
  },
  {
   "cell_type": "code",
   "execution_count": null,
   "metadata": {},
   "outputs": [],
   "source": []
  }
 ],
 "metadata": {
  "kernelspec": {
   "display_name": "Python 3",
   "language": "python",
   "name": "orchest-kernel-6449305e-5170-4e80-84d9-5e9c3ca98522"
  },
  "language_info": {
   "codemirror_mode": {
    "name": "ipython",
    "version": 3
   },
   "file_extension": ".py",
   "mimetype": "text/x-python",
   "name": "python",
   "nbconvert_exporter": "python",
   "pygments_lexer": "ipython3",
   "version": "3.9.10"
  }
 },
 "nbformat": 4,
 "nbformat_minor": 4
}
