{
 "cells": [
  {
   "cell_type": "code",
   "execution_count": 1,
   "metadata": {
    "execution": {
     "iopub.execute_input": "2022-06-26T04:13:02.600991Z",
     "iopub.status.busy": "2022-06-26T04:13:02.599619Z",
     "iopub.status.idle": "2022-06-26T04:13:03.740475Z",
     "shell.execute_reply": "2022-06-26T04:13:03.739572Z"
    }
   },
   "outputs": [
    {
     "name": "stdout",
     "output_type": "stream",
     "text": [
      "Importando Bibliotecas...\n"
     ]
    },
    {
     "name": "stdout",
     "output_type": "stream",
     "text": [
      "Bibliotecas importadas\n"
     ]
    }
   ],
   "source": [
    "print('Importando Bibliotecas...')\n",
    "import psycopg2\n",
    "import orchest\n",
    "import pandas\n",
    "import sqlalchemy\n",
    "from sqlalchemy import create_engine\n",
    "import urllib.parse\n",
    "print('Bibliotecas importadas')"
   ]
  },
  {
   "cell_type": "code",
   "execution_count": 2,
   "metadata": {
    "execution": {
     "iopub.execute_input": "2022-06-26T04:13:03.802728Z",
     "iopub.status.busy": "2022-06-26T04:13:03.801115Z",
     "iopub.status.idle": "2022-06-26T04:13:03.815461Z",
     "shell.execute_reply": "2022-06-26T04:13:03.813784Z"
    }
   },
   "outputs": [
    {
     "name": "stdout",
     "output_type": "stream",
     "text": [
      "carregando as credenciais do banco de dados...\n"
     ]
    }
   ],
   "source": [
    "print('carregando as credenciais do banco de dados...')\n",
    "SGBD = 'postgresql'\n",
    "SGBD_ = 'postgresql+pg8000'\n",
    "host = '69.64.34.252'\n",
    "port = '5432'\n",
    "database = 'parauapebas'\n",
    "user = 'dtwanalytics'\n",
    "password = 'dtw@2022'\n",
    "password_ = urllib.parse.quote_plus('dtw@2022')"
   ]
  },
  {
   "cell_type": "code",
   "execution_count": 3,
   "metadata": {
    "execution": {
     "iopub.execute_input": "2022-06-26T04:13:03.888524Z",
     "iopub.status.busy": "2022-06-26T04:13:03.887940Z",
     "iopub.status.idle": "2022-06-26T04:13:04.101456Z",
     "shell.execute_reply": "2022-06-26T04:13:04.100262Z"
    }
   },
   "outputs": [
    {
     "name": "stdout",
     "output_type": "stream",
     "text": [
      "Carregando os dados dos steps anteriores...\n"
     ]
    }
   ],
   "source": [
    "print('Carregando os dados dos steps anteriores...')\n",
    "df = orchest.get_inputs()"
   ]
  },
  {
   "cell_type": "code",
   "execution_count": 4,
   "metadata": {
    "execution": {
     "iopub.execute_input": "2022-06-26T04:13:04.174584Z",
     "iopub.status.busy": "2022-06-26T04:13:04.174161Z",
     "iopub.status.idle": "2022-06-26T04:13:04.180640Z",
     "shell.execute_reply": "2022-06-26T04:13:04.179290Z"
    }
   },
   "outputs": [],
   "source": [
    "#df.keys()"
   ]
  },
  {
   "cell_type": "code",
   "execution_count": 5,
   "metadata": {
    "execution": {
     "iopub.execute_input": "2022-06-26T04:13:04.236048Z",
     "iopub.status.busy": "2022-06-26T04:13:04.235500Z",
     "iopub.status.idle": "2022-06-26T04:13:04.247215Z",
     "shell.execute_reply": "2022-06-26T04:13:04.245484Z"
    }
   },
   "outputs": [],
   "source": [
    "credor = df['credor']\n",
    "elementos_despesa = df['elementos_despesa']\n",
    "exercicios = df['exercicios']\n",
    "orgaos = df['orgaos']\n",
    "pagamento = df['pagamento']\n",
    "prevista = df['prevista']\n",
    "arrecadadada = df['arrecadadada']"
   ]
  },
  {
   "cell_type": "code",
   "execution_count": 6,
   "metadata": {
    "execution": {
     "iopub.execute_input": "2022-06-26T04:13:04.304599Z",
     "iopub.status.busy": "2022-06-26T04:13:04.304224Z",
     "iopub.status.idle": "2022-06-26T04:13:04.313646Z",
     "shell.execute_reply": "2022-06-26T04:13:04.311966Z"
    }
   },
   "outputs": [],
   "source": [
    "def create_database(sql): \n",
    "    try:\n",
    "        con = psycopg2.connect(host=host, database=database,\n",
    "        user=user, password=password)\n",
    "        cur = con.cursor()\n",
    "        cur.execute(sql)\n",
    "        con.commit()\n",
    "        con.close()\n",
    "        print(\"Query executada!\")\n",
    "    except:\n",
    "        print(\"Erro ao criar o banco de dados.\")"
   ]
  },
  {
   "cell_type": "code",
   "execution_count": 7,
   "metadata": {
    "execution": {
     "iopub.execute_input": "2022-06-26T04:13:04.371050Z",
     "iopub.status.busy": "2022-06-26T04:13:04.370617Z",
     "iopub.status.idle": "2022-06-26T04:13:04.404995Z",
     "shell.execute_reply": "2022-06-26T04:13:04.403906Z"
    }
   },
   "outputs": [
    {
     "name": "stdout",
     "output_type": "stream",
     "text": [
      "Criando a tabela de credor caso não exista...\n",
      "Query executada!\n"
     ]
    }
   ],
   "source": [
    "print('Criando a tabela de credor caso não exista...')\n",
    "create_database('''CREATE TABLE IF NOT EXISTS credor (\"id\" serial primary key, \n",
    "\"Nome da Empresa\" CHAR(150) NOT NULL, \"CNPJ\" CHAR(100) NOT NULL);''')"
   ]
  },
  {
   "cell_type": "code",
   "execution_count": 8,
   "metadata": {
    "execution": {
     "iopub.execute_input": "2022-06-26T04:13:04.464582Z",
     "iopub.status.busy": "2022-06-26T04:13:04.464238Z",
     "iopub.status.idle": "2022-06-26T04:13:04.499003Z",
     "shell.execute_reply": "2022-06-26T04:13:04.497100Z"
    }
   },
   "outputs": [
    {
     "name": "stdout",
     "output_type": "stream",
     "text": [
      "Criando a tabela de elementos_despesa caso não exista...\n",
      "Query executada!\n"
     ]
    }
   ],
   "source": [
    "print('Criando a tabela de elementos_despesa caso não exista...')\n",
    "create_database('''CREATE TABLE IF NOT EXISTS elementos_despesa (\"id\" serial primary key, \n",
    "\"nome\" CHAR(250) NOT NULL);''')"
   ]
  },
  {
   "cell_type": "code",
   "execution_count": 9,
   "metadata": {
    "execution": {
     "iopub.execute_input": "2022-06-26T04:13:04.559746Z",
     "iopub.status.busy": "2022-06-26T04:13:04.559118Z",
     "iopub.status.idle": "2022-06-26T04:13:04.602931Z",
     "shell.execute_reply": "2022-06-26T04:13:04.600963Z"
    }
   },
   "outputs": [
    {
     "name": "stdout",
     "output_type": "stream",
     "text": [
      "Criando a tabela de exercicios caso não exista...\n"
     ]
    },
    {
     "name": "stdout",
     "output_type": "stream",
     "text": [
      "Query executada!\n"
     ]
    }
   ],
   "source": [
    "print('Criando a tabela de exercicios caso não exista...')\n",
    "create_database('''CREATE TABLE IF NOT EXISTS exercicios (\"id\" serial primary key, \n",
    "\"nome\" CHAR(250) NOT NULL);''')"
   ]
  },
  {
   "cell_type": "code",
   "execution_count": 10,
   "metadata": {
    "execution": {
     "iopub.execute_input": "2022-06-26T04:13:04.660287Z",
     "iopub.status.busy": "2022-06-26T04:13:04.659677Z",
     "iopub.status.idle": "2022-06-26T04:13:04.693056Z",
     "shell.execute_reply": "2022-06-26T04:13:04.691972Z"
    }
   },
   "outputs": [
    {
     "name": "stdout",
     "output_type": "stream",
     "text": [
      "Criando a tabela de orgaos caso não exista...\n"
     ]
    },
    {
     "name": "stdout",
     "output_type": "stream",
     "text": [
      "Query executada!\n"
     ]
    }
   ],
   "source": [
    "print('Criando a tabela de orgaos caso não exista...')\n",
    "create_database('''CREATE TABLE IF NOT EXISTS orgaos (\"id\" serial primary key, \"nome\" CHAR(250) NOT NULL, \n",
    "\"id_unidades_orcamentarias\" integer, \"nome_unidades_orcamentarias\" integer);''')"
   ]
  },
  {
   "cell_type": "code",
   "execution_count": 11,
   "metadata": {
    "execution": {
     "iopub.execute_input": "2022-06-26T04:13:04.751203Z",
     "iopub.status.busy": "2022-06-26T04:13:04.750884Z",
     "iopub.status.idle": "2022-06-26T04:13:04.783585Z",
     "shell.execute_reply": "2022-06-26T04:13:04.782707Z"
    }
   },
   "outputs": [
    {
     "name": "stdout",
     "output_type": "stream",
     "text": [
      "Criando a tabela de pagamento caso não exista...\n"
     ]
    },
    {
     "name": "stdout",
     "output_type": "stream",
     "text": [
      "Query executada!\n"
     ]
    }
   ],
   "source": [
    "print('Criando a tabela de pagamento caso não exista...')\n",
    "create_database('''CREATE TABLE IF NOT EXISTS pagamento (\"id\" serial primary key, \"numeroDocumento\" integer, \n",
    "\"dataMovimento\" DATE NOT NULL, \"numeroEmpenho\" integer, \"credor\" CHAR(250) NOT NULL, \n",
    "\"cnpjcpf\" CHAR(100) NOT NULL, \"naturezaDaDespesa\" CHAR(250) NOT NULL, \n",
    "\"modalidadeLicitacao\" CHAR(250) NOT NULL, \"registro\" CHAR(150) NOT NULL,\n",
    "\"valor\" float, \"idOrgao\" integer, \"idElem\" integer, \"idEmpenho\" integer);''')"
   ]
  },
  {
   "cell_type": "code",
   "execution_count": 12,
   "metadata": {
    "execution": {
     "iopub.execute_input": "2022-06-26T04:13:04.846960Z",
     "iopub.status.busy": "2022-06-26T04:13:04.846618Z",
     "iopub.status.idle": "2022-06-26T04:13:04.877474Z",
     "shell.execute_reply": "2022-06-26T04:13:04.876089Z"
    }
   },
   "outputs": [
    {
     "name": "stdout",
     "output_type": "stream",
     "text": [
      "Criando a tabela de prevista caso não exista...\n"
     ]
    },
    {
     "name": "stdout",
     "output_type": "stream",
     "text": [
      "Query executada!\n"
     ]
    }
   ],
   "source": [
    "print('Criando a tabela de prevista caso não exista...')\n",
    "create_database('''CREATE TABLE IF NOT EXISTS prevista (\"id\" serial primary key, \"codigo\" integer, \n",
    "\"especificacao\" CHAR(250) NOT NULL, \"previsao\" float  NOT NULL, \"arrecadado\" float NOT NULL);''')"
   ]
  },
  {
   "cell_type": "code",
   "execution_count": 13,
   "metadata": {
    "execution": {
     "iopub.execute_input": "2022-06-26T04:13:04.937333Z",
     "iopub.status.busy": "2022-06-26T04:13:04.936795Z",
     "iopub.status.idle": "2022-06-26T04:13:04.968743Z",
     "shell.execute_reply": "2022-06-26T04:13:04.967722Z"
    }
   },
   "outputs": [
    {
     "name": "stdout",
     "output_type": "stream",
     "text": [
      "Criando a tabela de arrecadadada caso não exista...\n"
     ]
    },
    {
     "name": "stdout",
     "output_type": "stream",
     "text": [
      "Query executada!\n"
     ]
    }
   ],
   "source": [
    "print('Criando a tabela de arrecadadada caso não exista...')\n",
    "create_database('''CREATE TABLE IF NOT EXISTS arrecadadada (\"id\" serial primary key, \"dataMovimento\" DATE NOT NULL, \n",
    "\"numeroDocumento\" integer NOT NULL, \"codigo\" varchar(150) NOT NULL, \"contribuinte\" varchar(250) NOT NULL, \n",
    "\"cnpjcpf\" varchar(150) NOT NULL, \"registro\" varchar(150) NOT NULL, \"valor\" float NOT NULL,\n",
    "\"especificacao\" varchar(350) NOT NULL);''')"
   ]
  },
  {
   "cell_type": "code",
   "execution_count": 14,
   "metadata": {
    "execution": {
     "iopub.execute_input": "2022-06-26T04:13:05.040873Z",
     "iopub.status.busy": "2022-06-26T04:13:05.040119Z",
     "iopub.status.idle": "2022-06-26T04:13:05.239266Z",
     "shell.execute_reply": "2022-06-26T04:13:05.237957Z"
    }
   },
   "outputs": [
    {
     "name": "stdout",
     "output_type": "stream",
     "text": [
      "Conexão com banco de dados criada...\n"
     ]
    }
   ],
   "source": [
    "SQLALCHEMY = f\"{SGBD_}://{user}:{password_}@{host}:{port}/{database}\"\n",
    "\n",
    "engine = create_engine(SQLALCHEMY)\n",
    "conn = engine.connect()\n",
    "print('Conexão com banco de dados criada...')"
   ]
  },
  {
   "cell_type": "code",
   "execution_count": 15,
   "metadata": {
    "execution": {
     "iopub.execute_input": "2022-06-26T04:13:05.330974Z",
     "iopub.status.busy": "2022-06-26T04:13:05.330364Z",
     "iopub.status.idle": "2022-06-26T04:14:31.226353Z",
     "shell.execute_reply": "2022-06-26T04:14:31.225294Z"
    }
   },
   "outputs": [
    {
     "name": "stdout",
     "output_type": "stream",
     "text": [
      "Realizando os Insert na tabela credor...\n"
     ]
    },
    {
     "name": "stdout",
     "output_type": "stream",
     "text": [
      "Insert no banco de dados Realizado...\n"
     ]
    }
   ],
   "source": [
    "print('Realizando os Insert na tabela credor...')\n",
    "credor.to_sql('credor', con=conn, if_exists='replace', index=False)\n",
    "print('Insert no banco de dados Realizado...')"
   ]
  },
  {
   "cell_type": "code",
   "execution_count": 16,
   "metadata": {
    "execution": {
     "iopub.execute_input": "2022-06-26T04:14:31.287000Z",
     "iopub.status.busy": "2022-06-26T04:14:31.286398Z",
     "iopub.status.idle": "2022-06-26T04:14:32.401822Z",
     "shell.execute_reply": "2022-06-26T04:14:32.400142Z"
    }
   },
   "outputs": [
    {
     "name": "stdout",
     "output_type": "stream",
     "text": [
      "Realizando os Insert na tabela elementos_despesa...\n"
     ]
    },
    {
     "name": "stdout",
     "output_type": "stream",
     "text": [
      "Insert no banco de dados Realizado...\n"
     ]
    }
   ],
   "source": [
    "print('Realizando os Insert na tabela elementos_despesa...')\n",
    "elementos_despesa.to_sql('elementos_despesa', con=conn, if_exists='replace', index=False)\n",
    "print('Insert no banco de dados Realizado...')"
   ]
  },
  {
   "cell_type": "code",
   "execution_count": 17,
   "metadata": {
    "execution": {
     "iopub.execute_input": "2022-06-26T04:14:32.489806Z",
     "iopub.status.busy": "2022-06-26T04:14:32.488688Z",
     "iopub.status.idle": "2022-06-26T04:14:32.633476Z",
     "shell.execute_reply": "2022-06-26T04:14:32.632009Z"
    }
   },
   "outputs": [
    {
     "name": "stdout",
     "output_type": "stream",
     "text": [
      "Realizando os Insert na tabela exercicios...\n"
     ]
    },
    {
     "name": "stdout",
     "output_type": "stream",
     "text": [
      "Insert no banco de dados Realizado...\n"
     ]
    }
   ],
   "source": [
    "print('Realizando os Insert na tabela exercicios...')\n",
    "exercicios.to_sql('exercicios', con=conn, if_exists='replace', index=False)\n",
    "print('Insert no banco de dados Realizado...')"
   ]
  },
  {
   "cell_type": "code",
   "execution_count": 18,
   "metadata": {
    "execution": {
     "iopub.execute_input": "2022-06-26T04:14:32.728659Z",
     "iopub.status.busy": "2022-06-26T04:14:32.728322Z",
     "iopub.status.idle": "2022-06-26T04:14:33.829897Z",
     "shell.execute_reply": "2022-06-26T04:14:33.828137Z"
    }
   },
   "outputs": [
    {
     "name": "stdout",
     "output_type": "stream",
     "text": [
      "Realizando os Insert na tabela orgaos...\n"
     ]
    },
    {
     "name": "stdout",
     "output_type": "stream",
     "text": [
      "Insert no banco de dados Realizado...\n"
     ]
    }
   ],
   "source": [
    "print('Realizando os Insert na tabela orgaos...')\n",
    "orgaos.to_sql('orgaos', con=conn, if_exists='replace', index=False)\n",
    "print('Insert no banco de dados Realizado...')"
   ]
  },
  {
   "cell_type": "code",
   "execution_count": 19,
   "metadata": {
    "execution": {
     "iopub.execute_input": "2022-06-26T04:14:33.934187Z",
     "iopub.status.busy": "2022-06-26T04:14:33.933599Z",
     "iopub.status.idle": "2022-06-26T04:18:09.989557Z",
     "shell.execute_reply": "2022-06-26T04:18:09.987856Z"
    }
   },
   "outputs": [
    {
     "name": "stdout",
     "output_type": "stream",
     "text": [
      "Realizando os Insert na tabela pagamento...\n"
     ]
    },
    {
     "name": "stdout",
     "output_type": "stream",
     "text": [
      "Insert no banco de dados Realizado...\n"
     ]
    }
   ],
   "source": [
    "print('Realizando os Insert na tabela pagamento...')\n",
    "pagamento.to_sql('pagamento', con=conn, if_exists='replace', index=False)\n",
    "print('Insert no banco de dados Realizado...')"
   ]
  },
  {
   "cell_type": "code",
   "execution_count": 20,
   "metadata": {
    "execution": {
     "iopub.execute_input": "2022-06-26T04:18:10.086003Z",
     "iopub.status.busy": "2022-06-26T04:18:10.085494Z",
     "iopub.status.idle": "2022-06-26T04:18:10.793402Z",
     "shell.execute_reply": "2022-06-26T04:18:10.792390Z"
    }
   },
   "outputs": [
    {
     "name": "stdout",
     "output_type": "stream",
     "text": [
      "Realizando os Insert na tabela prevista...\n"
     ]
    },
    {
     "name": "stdout",
     "output_type": "stream",
     "text": [
      "Insert no banco de dados Realizado...\n"
     ]
    }
   ],
   "source": [
    "print('Realizando os Insert na tabela prevista...')\n",
    "prevista.to_sql('prevista', con=conn, if_exists='replace', index=False)\n",
    "print('Insert no banco de dados Realizado...')"
   ]
  },
  {
   "cell_type": "code",
   "execution_count": 21,
   "metadata": {
    "execution": {
     "iopub.execute_input": "2022-06-26T04:18:10.873870Z",
     "iopub.status.busy": "2022-06-26T04:18:10.873180Z",
     "iopub.status.idle": "2022-06-26T04:20:04.330687Z",
     "shell.execute_reply": "2022-06-26T04:20:04.328911Z"
    }
   },
   "outputs": [
    {
     "name": "stdout",
     "output_type": "stream",
     "text": [
      "Realizando os Insert na tabela arrecadadada...\n"
     ]
    },
    {
     "name": "stdout",
     "output_type": "stream",
     "text": [
      "Insert no banco de dados Realizado...\n"
     ]
    }
   ],
   "source": [
    "print('Realizando os Insert na tabela arrecadadada...')\n",
    "arrecadadada.to_sql('arrecadadada', con=conn, if_exists='replace', index=False)\n",
    "print('Insert no banco de dados Realizado...')"
   ]
  },
  {
   "cell_type": "code",
   "execution_count": 22,
   "metadata": {
    "execution": {
     "iopub.execute_input": "2022-06-26T04:20:04.396354Z",
     "iopub.status.busy": "2022-06-26T04:20:04.396030Z",
     "iopub.status.idle": "2022-06-26T04:20:04.402784Z",
     "shell.execute_reply": "2022-06-26T04:20:04.401629Z"
    }
   },
   "outputs": [
    {
     "name": "stdout",
     "output_type": "stream",
     "text": [
      "Script executado com sucesso!\n"
     ]
    }
   ],
   "source": [
    "print('Script executado com sucesso!')"
   ]
  },
  {
   "cell_type": "code",
   "execution_count": null,
   "metadata": {},
   "outputs": [],
   "source": []
  }
 ],
 "metadata": {
  "kernelspec": {
   "display_name": "Python 3",
   "language": "python",
   "name": "orchest-kernel-6449305e-5170-4e80-84d9-5e9c3ca98522"
  },
  "language_info": {
   "codemirror_mode": {
    "name": "ipython",
    "version": 3
   },
   "file_extension": ".py",
   "mimetype": "text/x-python",
   "name": "python",
   "nbconvert_exporter": "python",
   "pygments_lexer": "ipython3",
   "version": "3.9.10"
  }
 },
 "nbformat": 4,
 "nbformat_minor": 4
}
