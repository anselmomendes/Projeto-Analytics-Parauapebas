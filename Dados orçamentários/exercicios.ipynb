{
 "cells": [
  {
   "cell_type": "code",
   "execution_count": 1,
   "metadata": {
    "execution": {
     "iopub.execute_input": "2022-06-25T23:02:46.467232Z",
     "iopub.status.busy": "2022-06-25T23:02:46.466866Z",
     "iopub.status.idle": "2022-06-25T23:02:47.443956Z",
     "shell.execute_reply": "2022-06-25T23:02:47.442921Z"
    }
   },
   "outputs": [
    {
     "name": "stdout",
     "output_type": "stream",
     "text": [
      "Importação das bibliotecas realizada com sucesso\n"
     ]
    }
   ],
   "source": [
    "import orchest\n",
    "import pandas as pd\n",
    "print('Importação das bibliotecas realizada com sucesso')"
   ]
  },
  {
   "cell_type": "code",
   "execution_count": 2,
   "metadata": {
    "execution": {
     "iopub.execute_input": "2022-06-25T23:02:47.467179Z",
     "iopub.status.busy": "2022-06-25T23:02:47.466784Z",
     "iopub.status.idle": "2022-06-25T23:02:47.472912Z",
     "shell.execute_reply": "2022-06-25T23:02:47.471906Z"
    }
   },
   "outputs": [
    {
     "name": "stdout",
     "output_type": "stream",
     "text": [
      "definindo os parametros para API...\n"
     ]
    }
   ],
   "source": [
    "print('definindo os parametros para API...')\n",
    "\n",
    "versao = 'v1'\n",
    "codigo = '4507490'"
   ]
  },
  {
   "cell_type": "code",
   "execution_count": 3,
   "metadata": {
    "execution": {
     "iopub.execute_input": "2022-06-25T23:02:47.495600Z",
     "iopub.status.busy": "2022-06-25T23:02:47.495170Z",
     "iopub.status.idle": "2022-06-25T23:02:47.710548Z",
     "shell.execute_reply": "2022-06-25T23:02:47.708504Z"
    }
   },
   "outputs": [
    {
     "name": "stdout",
     "output_type": "stream",
     "text": [
      "Realizando o download dos dados...\n"
     ]
    }
   ],
   "source": [
    "print('Realizando o download dos dados...')\n",
    "url = f'https://www.governotransparente.com.br/transparencia/api/{versao}/json/exercicios/{codigo}'\n",
    "exercicios = pd.read_json(url)"
   ]
  },
  {
   "cell_type": "code",
   "execution_count": 4,
   "metadata": {
    "execution": {
     "iopub.execute_input": "2022-06-25T23:02:47.731253Z",
     "iopub.status.busy": "2022-06-25T23:02:47.730911Z",
     "iopub.status.idle": "2022-06-25T23:02:47.736633Z",
     "shell.execute_reply": "2022-06-25T23:02:47.735366Z"
    }
   },
   "outputs": [],
   "source": [
    "#exercicios.head()"
   ]
  },
  {
   "cell_type": "code",
   "execution_count": 5,
   "metadata": {
    "execution": {
     "iopub.execute_input": "2022-06-25T23:02:47.756691Z",
     "iopub.status.busy": "2022-06-25T23:02:47.756098Z",
     "iopub.status.idle": "2022-06-25T23:02:47.768947Z",
     "shell.execute_reply": "2022-06-25T23:02:47.767640Z"
    }
   },
   "outputs": [
    {
     "name": "stdout",
     "output_type": "stream",
     "text": [
      "Exportando os dados para o proximo step...\n"
     ]
    }
   ],
   "source": [
    "print('Exportando os dados para o proximo step...')\n",
    "orchest.output(exercicios,\"exercicios\")"
   ]
  },
  {
   "cell_type": "code",
   "execution_count": 6,
   "metadata": {
    "execution": {
     "iopub.execute_input": "2022-06-25T23:02:47.790992Z",
     "iopub.status.busy": "2022-06-25T23:02:47.790054Z",
     "iopub.status.idle": "2022-06-25T23:02:47.795862Z",
     "shell.execute_reply": "2022-06-25T23:02:47.794749Z"
    }
   },
   "outputs": [
    {
     "name": "stdout",
     "output_type": "stream",
     "text": [
      "Script executado com sucesso!\n"
     ]
    }
   ],
   "source": [
    "print('Script executado com sucesso!')"
   ]
  },
  {
   "cell_type": "code",
   "execution_count": null,
   "metadata": {},
   "outputs": [],
   "source": []
  }
 ],
 "metadata": {
  "interpreter": {
   "hash": "31c343df0307e317f338e13842f1848929a1168821279cd78d86c2cef5573c6f"
  },
  "kernelspec": {
   "display_name": "Python 3",
   "language": "python",
   "name": "orchest-kernel-6449305e-5170-4e80-84d9-5e9c3ca98522"
  },
  "language_info": {
   "codemirror_mode": {
    "name": "ipython",
    "version": 3
   },
   "file_extension": ".py",
   "mimetype": "text/x-python",
   "name": "python",
   "nbconvert_exporter": "python",
   "pygments_lexer": "ipython3",
   "version": "3.9.10"
  }
 },
 "nbformat": 4,
 "nbformat_minor": 4
}
