{
 "cells": [
  {
   "cell_type": "code",
   "execution_count": 1,
   "metadata": {
    "execution": {
     "iopub.execute_input": "2022-06-26T04:04:03.423281Z",
     "iopub.status.busy": "2022-06-26T04:04:03.422485Z",
     "iopub.status.idle": "2022-06-26T04:04:05.074932Z",
     "shell.execute_reply": "2022-06-26T04:04:05.073603Z"
    },
    "tags": []
   },
   "outputs": [
    {
     "name": "stdout",
     "output_type": "stream",
     "text": [
      "Importação das bibliotecas realizada com sucesso\n"
     ]
    }
   ],
   "source": [
    "import orchest\n",
    "import pandas as pd\n",
    "print('Importação das bibliotecas realizada com sucesso')"
   ]
  },
  {
   "cell_type": "code",
   "execution_count": 2,
   "metadata": {
    "execution": {
     "iopub.execute_input": "2022-06-26T04:04:05.135134Z",
     "iopub.status.busy": "2022-06-26T04:04:05.134774Z",
     "iopub.status.idle": "2022-06-26T04:04:05.162581Z",
     "shell.execute_reply": "2022-06-26T04:04:05.161396Z"
    },
    "tags": []
   },
   "outputs": [
    {
     "name": "stdout",
     "output_type": "stream",
     "text": [
      "definindo os parametros para API...\n"
     ]
    }
   ],
   "source": [
    "print('definindo os parametros para API...')\n",
    "\n",
    "versao = 'v1'\n",
    "codigo = '4507490'"
   ]
  },
  {
   "cell_type": "code",
   "execution_count": 3,
   "metadata": {
    "execution": {
     "iopub.execute_input": "2022-06-26T04:04:05.234659Z",
     "iopub.status.busy": "2022-06-26T04:04:05.234223Z",
     "iopub.status.idle": "2022-06-26T04:04:05.456005Z",
     "shell.execute_reply": "2022-06-26T04:04:05.454754Z"
    },
    "tags": []
   },
   "outputs": [
    {
     "name": "stdout",
     "output_type": "stream",
     "text": [
      "Realizando o download dos dados...\n"
     ]
    }
   ],
   "source": [
    "print('Realizando o download dos dados...')\n",
    "url = f'https://www.governotransparente.com.br/transparencia/api/{versao}/json/exercicios/{codigo}'\n",
    "exercicios = pd.read_json(url)"
   ]
  },
  {
   "cell_type": "code",
   "execution_count": 4,
   "metadata": {
    "execution": {
     "iopub.execute_input": "2022-06-26T04:04:05.521240Z",
     "iopub.status.busy": "2022-06-26T04:04:05.520550Z",
     "iopub.status.idle": "2022-06-26T04:04:05.555883Z",
     "shell.execute_reply": "2022-06-26T04:04:05.554088Z"
    },
    "tags": []
   },
   "outputs": [
    {
     "name": "stdout",
     "output_type": "stream",
     "text": [
      "Definindo o tipo dos dados...\n"
     ]
    }
   ],
   "source": [
    "print('Definindo o tipo dos dados...')\n",
    "\n",
    "exercicios['id'].astype(int);\n",
    "exercicios['nome'].astype(int);"
   ]
  },
  {
   "cell_type": "code",
   "execution_count": 5,
   "metadata": {
    "execution": {
     "iopub.execute_input": "2022-06-26T04:04:05.590143Z",
     "iopub.status.busy": "2022-06-26T04:04:05.588933Z",
     "iopub.status.idle": "2022-06-26T04:04:05.595504Z",
     "shell.execute_reply": "2022-06-26T04:04:05.594511Z"
    }
   },
   "outputs": [],
   "source": [
    "#exercicios.dtypes"
   ]
  },
  {
   "cell_type": "code",
   "execution_count": 6,
   "metadata": {
    "execution": {
     "iopub.execute_input": "2022-06-26T04:04:05.628781Z",
     "iopub.status.busy": "2022-06-26T04:04:05.628353Z",
     "iopub.status.idle": "2022-06-26T04:04:05.640072Z",
     "shell.execute_reply": "2022-06-26T04:04:05.639184Z"
    }
   },
   "outputs": [],
   "source": [
    "#exercicios.head()"
   ]
  },
  {
   "cell_type": "code",
   "execution_count": 7,
   "metadata": {
    "execution": {
     "iopub.execute_input": "2022-06-26T04:04:05.680077Z",
     "iopub.status.busy": "2022-06-26T04:04:05.679674Z",
     "iopub.status.idle": "2022-06-26T04:04:05.721347Z",
     "shell.execute_reply": "2022-06-26T04:04:05.704595Z"
    },
    "tags": []
   },
   "outputs": [
    {
     "name": "stdout",
     "output_type": "stream",
     "text": [
      "Exportando os dados para o proximo step...\n"
     ]
    }
   ],
   "source": [
    "print('Exportando os dados para o proximo step...')\n",
    "orchest.output(exercicios,\"exercicios\")"
   ]
  },
  {
   "cell_type": "code",
   "execution_count": 8,
   "metadata": {
    "execution": {
     "iopub.execute_input": "2022-06-26T04:04:05.767293Z",
     "iopub.status.busy": "2022-06-26T04:04:05.766739Z",
     "iopub.status.idle": "2022-06-26T04:04:05.776388Z",
     "shell.execute_reply": "2022-06-26T04:04:05.775106Z"
    }
   },
   "outputs": [
    {
     "name": "stdout",
     "output_type": "stream",
     "text": [
      "Script executado com sucesso!\n"
     ]
    }
   ],
   "source": [
    "print('Script executado com sucesso!')"
   ]
  },
  {
   "cell_type": "code",
   "execution_count": null,
   "metadata": {},
   "outputs": [],
   "source": []
  }
 ],
 "metadata": {
  "interpreter": {
   "hash": "31c343df0307e317f338e13842f1848929a1168821279cd78d86c2cef5573c6f"
  },
  "kernelspec": {
   "display_name": "Python 3",
   "language": "python",
   "name": "orchest-kernel-6449305e-5170-4e80-84d9-5e9c3ca98522"
  },
  "language_info": {
   "codemirror_mode": {
    "name": "ipython",
    "version": 3
   },
   "file_extension": ".py",
   "mimetype": "text/x-python",
   "name": "python",
   "nbconvert_exporter": "python",
   "pygments_lexer": "ipython3",
   "version": "3.9.10"
  }
 },
 "nbformat": 4,
 "nbformat_minor": 4
}
