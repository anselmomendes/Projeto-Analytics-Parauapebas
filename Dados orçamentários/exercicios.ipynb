{
 "cells": [
  {
   "cell_type": "code",
   "execution_count": 1,
   "metadata": {
    "execution": {
     "iopub.execute_input": "2022-06-26T19:07:39.338479Z",
     "iopub.status.busy": "2022-06-26T19:07:39.337687Z",
     "iopub.status.idle": "2022-06-26T19:07:40.713673Z",
     "shell.execute_reply": "2022-06-26T19:07:40.709425Z"
    },
    "tags": []
   },
   "outputs": [
    {
     "name": "stdout",
     "output_type": "stream",
     "text": [
      "Importação das bibliotecas realizada com sucesso\n"
     ]
    }
   ],
   "source": [
    "import orchest\n",
    "import pandas as pd\n",
    "print('Importação das bibliotecas realizada com sucesso')"
   ]
  },
  {
   "cell_type": "code",
   "execution_count": 2,
   "metadata": {
    "execution": {
     "iopub.execute_input": "2022-06-26T19:07:40.750726Z",
     "iopub.status.busy": "2022-06-26T19:07:40.749851Z",
     "iopub.status.idle": "2022-06-26T19:07:40.757186Z",
     "shell.execute_reply": "2022-06-26T19:07:40.755988Z"
    },
    "tags": []
   },
   "outputs": [
    {
     "name": "stdout",
     "output_type": "stream",
     "text": [
      "definindo os parametros para API...\n"
     ]
    }
   ],
   "source": [
    "print('definindo os parametros para API...')\n",
    "\n",
    "versao = 'v1'\n",
    "codigo = '4507490'"
   ]
  },
  {
   "cell_type": "code",
   "execution_count": 3,
   "metadata": {
    "execution": {
     "iopub.execute_input": "2022-06-26T19:07:40.793928Z",
     "iopub.status.busy": "2022-06-26T19:07:40.793113Z",
     "iopub.status.idle": "2022-06-26T19:07:41.007880Z",
     "shell.execute_reply": "2022-06-26T19:07:41.006632Z"
    },
    "tags": []
   },
   "outputs": [
    {
     "name": "stdout",
     "output_type": "stream",
     "text": [
      "Realizando o download dos dados...\n"
     ]
    }
   ],
   "source": [
    "print('Realizando o download dos dados...')\n",
    "url = f'https://www.governotransparente.com.br/transparencia/api/{versao}/json/exercicios/{codigo}'\n",
    "exercicios = pd.read_json(url)"
   ]
  },
  {
   "cell_type": "code",
   "execution_count": 4,
   "metadata": {
    "execution": {
     "iopub.execute_input": "2022-06-26T19:07:41.042252Z",
     "iopub.status.busy": "2022-06-26T19:07:41.041770Z",
     "iopub.status.idle": "2022-06-26T19:07:41.064044Z",
     "shell.execute_reply": "2022-06-26T19:07:41.062549Z"
    },
    "tags": []
   },
   "outputs": [
    {
     "name": "stdout",
     "output_type": "stream",
     "text": [
      "Definindo o tipo dos dados...\n"
     ]
    }
   ],
   "source": [
    "print('Definindo o tipo dos dados...')\n",
    "\n",
    "exercicios['id'].astype(int);\n",
    "exercicios['nome'].astype(int);"
   ]
  },
  {
   "cell_type": "code",
   "execution_count": 5,
   "metadata": {
    "execution": {
     "iopub.execute_input": "2022-06-26T19:07:41.096635Z",
     "iopub.status.busy": "2022-06-26T19:07:41.095670Z",
     "iopub.status.idle": "2022-06-26T19:07:41.102639Z",
     "shell.execute_reply": "2022-06-26T19:07:41.101301Z"
    }
   },
   "outputs": [],
   "source": [
    "#exercicios.dtypes"
   ]
  },
  {
   "cell_type": "code",
   "execution_count": 6,
   "metadata": {
    "execution": {
     "iopub.execute_input": "2022-06-26T19:07:41.139565Z",
     "iopub.status.busy": "2022-06-26T19:07:41.139148Z",
     "iopub.status.idle": "2022-06-26T19:07:41.144822Z",
     "shell.execute_reply": "2022-06-26T19:07:41.143595Z"
    }
   },
   "outputs": [],
   "source": [
    "#exercicios.head()"
   ]
  },
  {
   "cell_type": "code",
   "execution_count": 7,
   "metadata": {
    "execution": {
     "iopub.execute_input": "2022-06-26T19:07:41.178759Z",
     "iopub.status.busy": "2022-06-26T19:07:41.178147Z",
     "iopub.status.idle": "2022-06-26T19:07:41.187905Z",
     "shell.execute_reply": "2022-06-26T19:07:41.186726Z"
    },
    "tags": []
   },
   "outputs": [
    {
     "name": "stdout",
     "output_type": "stream",
     "text": [
      "Exportando os dados para o proximo step...\n"
     ]
    }
   ],
   "source": [
    "print('Exportando os dados para o proximo step...')\n",
    "orchest.output(exercicios,\"exercicios\")"
   ]
  },
  {
   "cell_type": "code",
   "execution_count": 8,
   "metadata": {
    "execution": {
     "iopub.execute_input": "2022-06-26T19:07:41.227252Z",
     "iopub.status.busy": "2022-06-26T19:07:41.226780Z",
     "iopub.status.idle": "2022-06-26T19:07:41.245522Z",
     "shell.execute_reply": "2022-06-26T19:07:41.244204Z"
    }
   },
   "outputs": [
    {
     "name": "stdout",
     "output_type": "stream",
     "text": [
      "Script executado com sucesso!\n"
     ]
    }
   ],
   "source": [
    "print('Script executado com sucesso!')"
   ]
  },
  {
   "cell_type": "code",
   "execution_count": null,
   "metadata": {},
   "outputs": [],
   "source": []
  }
 ],
 "metadata": {
  "interpreter": {
   "hash": "31c343df0307e317f338e13842f1848929a1168821279cd78d86c2cef5573c6f"
  },
  "kernelspec": {
   "display_name": "Python 3",
   "language": "python",
   "name": "orchest-kernel-6449305e-5170-4e80-84d9-5e9c3ca98522"
  },
  "language_info": {
   "codemirror_mode": {
    "name": "ipython",
    "version": 3
   },
   "file_extension": ".py",
   "mimetype": "text/x-python",
   "name": "python",
   "nbconvert_exporter": "python",
   "pygments_lexer": "ipython3",
   "version": "3.9.10"
  }
 },
 "nbformat": 4,
 "nbformat_minor": 4
}
