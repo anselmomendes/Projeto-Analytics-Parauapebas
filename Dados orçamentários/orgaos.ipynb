{
 "cells": [
  {
   "cell_type": "code",
   "execution_count": 1,
   "metadata": {
    "execution": {
     "iopub.execute_input": "2022-06-25T23:02:57.428435Z",
     "iopub.status.busy": "2022-06-25T23:02:57.427522Z",
     "iopub.status.idle": "2022-06-25T23:02:58.438091Z",
     "shell.execute_reply": "2022-06-25T23:02:58.436908Z"
    }
   },
   "outputs": [
    {
     "name": "stdout",
     "output_type": "stream",
     "text": [
      "Importação das bibliotecas realizada com sucesso\n"
     ]
    }
   ],
   "source": [
    "import orchest\n",
    "import pandas as pd\n",
    "import warnings\n",
    "warnings.filterwarnings('ignore')\n",
    "print('Importação das bibliotecas realizada com sucesso')"
   ]
  },
  {
   "cell_type": "code",
   "execution_count": 2,
   "metadata": {
    "execution": {
     "iopub.execute_input": "2022-06-25T23:02:58.459735Z",
     "iopub.status.busy": "2022-06-25T23:02:58.459314Z",
     "iopub.status.idle": "2022-06-25T23:02:58.466026Z",
     "shell.execute_reply": "2022-06-25T23:02:58.464885Z"
    }
   },
   "outputs": [
    {
     "name": "stdout",
     "output_type": "stream",
     "text": [
      "definindo os parametros para API...\n"
     ]
    }
   ],
   "source": [
    "print('definindo os parametros para API...')\n",
    "\n",
    "versao = 'v1'\n",
    "codigo = '4507490'"
   ]
  },
  {
   "cell_type": "code",
   "execution_count": 3,
   "metadata": {
    "execution": {
     "iopub.execute_input": "2022-06-25T23:02:58.485341Z",
     "iopub.status.busy": "2022-06-25T23:02:58.484644Z",
     "iopub.status.idle": "2022-06-25T23:03:00.770505Z",
     "shell.execute_reply": "2022-06-25T23:03:00.768810Z"
    }
   },
   "outputs": [
    {
     "name": "stdout",
     "output_type": "stream",
     "text": [
      "Realizando o download dos dados...\n"
     ]
    }
   ],
   "source": [
    "print('Realizando o download dos dados...')\n",
    "orgaos = pd.DataFrame()\n",
    "for i in range(10):\n",
    "    url = 'https://www.governotransparente.com.br/transparencia/api/v1/json/4507490/orgaosdoexercicio/{}'.format(i)\n",
    "    data = pd.read_json(url)\n",
    "    orgaos = orgaos.append(data)\n"
   ]
  },
  {
   "cell_type": "code",
   "execution_count": 4,
   "metadata": {
    "execution": {
     "iopub.execute_input": "2022-06-25T23:03:00.810084Z",
     "iopub.status.busy": "2022-06-25T23:03:00.809500Z",
     "iopub.status.idle": "2022-06-25T23:03:00.818359Z",
     "shell.execute_reply": "2022-06-25T23:03:00.816234Z"
    }
   },
   "outputs": [],
   "source": [
    "#orgaos.head()"
   ]
  },
  {
   "cell_type": "code",
   "execution_count": 5,
   "metadata": {
    "execution": {
     "iopub.execute_input": "2022-06-25T23:03:00.889515Z",
     "iopub.status.busy": "2022-06-25T23:03:00.862483Z",
     "iopub.status.idle": "2022-06-25T23:03:00.904965Z",
     "shell.execute_reply": "2022-06-25T23:03:00.903102Z"
    }
   },
   "outputs": [
    {
     "name": "stdout",
     "output_type": "stream",
     "text": [
      "Realizando o tratamento dos campos dos dados JSON...\n"
     ]
    }
   ],
   "source": [
    "print('Realizando o tratamento dos campos dos dados JSON...')\n",
    "\n",
    "orgaos['id_unidades_orcamentarias'] = orgaos['unidadesOrcamentarias'].apply(lambda x:x[0]['id'])\n",
    "orgaos['nome_unidades_orcamentarias'] = orgaos['unidadesOrcamentarias'].apply(lambda x:x[0]['nome'])\n",
    "orgaos = orgaos.drop(labels = ['unidadesOrcamentarias'], axis=1)"
   ]
  },
  {
   "cell_type": "code",
   "execution_count": 6,
   "metadata": {
    "execution": {
     "iopub.execute_input": "2022-06-25T23:03:00.928050Z",
     "iopub.status.busy": "2022-06-25T23:03:00.927726Z",
     "iopub.status.idle": "2022-06-25T23:03:00.935515Z",
     "shell.execute_reply": "2022-06-25T23:03:00.934455Z"
    }
   },
   "outputs": [
    {
     "name": "stdout",
     "output_type": "stream",
     "text": [
      "Exportando os dados para o proximo step...\n"
     ]
    }
   ],
   "source": [
    "print('Exportando os dados para o proximo step...')\n",
    "orchest.output(orgaos,\"orgaos\")"
   ]
  },
  {
   "cell_type": "code",
   "execution_count": 7,
   "metadata": {
    "execution": {
     "iopub.execute_input": "2022-06-25T23:03:00.956691Z",
     "iopub.status.busy": "2022-06-25T23:03:00.956370Z",
     "iopub.status.idle": "2022-06-25T23:03:00.962341Z",
     "shell.execute_reply": "2022-06-25T23:03:00.961294Z"
    }
   },
   "outputs": [
    {
     "name": "stdout",
     "output_type": "stream",
     "text": [
      "Script executado com sucesso!\n"
     ]
    }
   ],
   "source": [
    "print('Script executado com sucesso!')"
   ]
  },
  {
   "cell_type": "code",
   "execution_count": null,
   "metadata": {},
   "outputs": [],
   "source": []
  }
 ],
 "metadata": {
  "interpreter": {
   "hash": "31c343df0307e317f338e13842f1848929a1168821279cd78d86c2cef5573c6f"
  },
  "kernelspec": {
   "display_name": "Python 3",
   "language": "python",
   "name": "orchest-kernel-6449305e-5170-4e80-84d9-5e9c3ca98522"
  },
  "language_info": {
   "codemirror_mode": {
    "name": "ipython",
    "version": 3
   },
   "file_extension": ".py",
   "mimetype": "text/x-python",
   "name": "python",
   "nbconvert_exporter": "python",
   "pygments_lexer": "ipython3",
   "version": "3.9.10"
  }
 },
 "nbformat": 4,
 "nbformat_minor": 4
}
