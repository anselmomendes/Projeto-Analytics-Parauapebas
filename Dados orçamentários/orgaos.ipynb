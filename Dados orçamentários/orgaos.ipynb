{
 "cells": [
  {
   "cell_type": "code",
   "execution_count": 1,
   "metadata": {
    "execution": {
     "iopub.execute_input": "2022-06-26T19:07:43.065948Z",
     "iopub.status.busy": "2022-06-26T19:07:43.064850Z",
     "iopub.status.idle": "2022-06-26T19:07:44.264273Z",
     "shell.execute_reply": "2022-06-26T19:07:44.263185Z"
    }
   },
   "outputs": [
    {
     "name": "stdout",
     "output_type": "stream",
     "text": [
      "Importação das bibliotecas realizada com sucesso\n"
     ]
    }
   ],
   "source": [
    "import orchest\n",
    "import pandas as pd\n",
    "import warnings\n",
    "warnings.filterwarnings('ignore')\n",
    "print('Importação das bibliotecas realizada com sucesso')"
   ]
  },
  {
   "cell_type": "code",
   "execution_count": 2,
   "metadata": {
    "execution": {
     "iopub.execute_input": "2022-06-26T19:07:44.297435Z",
     "iopub.status.busy": "2022-06-26T19:07:44.296451Z",
     "iopub.status.idle": "2022-06-26T19:07:44.303210Z",
     "shell.execute_reply": "2022-06-26T19:07:44.302068Z"
    }
   },
   "outputs": [
    {
     "name": "stdout",
     "output_type": "stream",
     "text": [
      "definindo os parametros para API...\n"
     ]
    }
   ],
   "source": [
    "print('definindo os parametros para API...')\n",
    "\n",
    "versao = 'v1'\n",
    "codigo = '4507490'"
   ]
  },
  {
   "cell_type": "code",
   "execution_count": 3,
   "metadata": {
    "execution": {
     "iopub.execute_input": "2022-06-26T19:07:44.330702Z",
     "iopub.status.busy": "2022-06-26T19:07:44.329815Z",
     "iopub.status.idle": "2022-06-26T19:07:46.618377Z",
     "shell.execute_reply": "2022-06-26T19:07:46.617177Z"
    }
   },
   "outputs": [
    {
     "name": "stdout",
     "output_type": "stream",
     "text": [
      "Realizando o download dos dados...\n"
     ]
    }
   ],
   "source": [
    "print('Realizando o download dos dados...')\n",
    "orgaos = pd.DataFrame()\n",
    "for i in range(10):\n",
    "    url = 'https://www.governotransparente.com.br/transparencia/api/v1/json/4507490/orgaosdoexercicio/{}'.format(i)\n",
    "    data = pd.read_json(url)\n",
    "    orgaos = orgaos.append(data)\n"
   ]
  },
  {
   "cell_type": "code",
   "execution_count": 4,
   "metadata": {
    "execution": {
     "iopub.execute_input": "2022-06-26T19:07:46.660396Z",
     "iopub.status.busy": "2022-06-26T19:07:46.660025Z",
     "iopub.status.idle": "2022-06-26T19:07:46.665163Z",
     "shell.execute_reply": "2022-06-26T19:07:46.664170Z"
    }
   },
   "outputs": [],
   "source": [
    "#orgaos.head()"
   ]
  },
  {
   "cell_type": "code",
   "execution_count": 5,
   "metadata": {
    "execution": {
     "iopub.execute_input": "2022-06-26T19:07:46.688550Z",
     "iopub.status.busy": "2022-06-26T19:07:46.688149Z",
     "iopub.status.idle": "2022-06-26T19:07:46.704620Z",
     "shell.execute_reply": "2022-06-26T19:07:46.703306Z"
    }
   },
   "outputs": [
    {
     "name": "stdout",
     "output_type": "stream",
     "text": [
      "Realizando o tratamento dos campos dos dados JSON...\n"
     ]
    }
   ],
   "source": [
    "print('Realizando o tratamento dos campos dos dados JSON...')\n",
    "\n",
    "orgaos['id_unidades_orcamentarias'] = orgaos['unidadesOrcamentarias'].apply(lambda x:x[0]['id'])\n",
    "orgaos['nome_unidades_orcamentarias'] = orgaos['unidadesOrcamentarias'].apply(lambda x:x[0]['nome'])\n",
    "orgaos = orgaos.drop(labels = ['unidadesOrcamentarias'], axis=1)"
   ]
  },
  {
   "cell_type": "code",
   "execution_count": 6,
   "metadata": {
    "execution": {
     "iopub.execute_input": "2022-06-26T19:07:46.735806Z",
     "iopub.status.busy": "2022-06-26T19:07:46.735391Z",
     "iopub.status.idle": "2022-06-26T19:07:46.739591Z",
     "shell.execute_reply": "2022-06-26T19:07:46.738535Z"
    }
   },
   "outputs": [],
   "source": [
    "#orgaos.dtypes"
   ]
  },
  {
   "cell_type": "code",
   "execution_count": 7,
   "metadata": {
    "execution": {
     "iopub.execute_input": "2022-06-26T19:07:46.766292Z",
     "iopub.status.busy": "2022-06-26T19:07:46.765970Z",
     "iopub.status.idle": "2022-06-26T19:07:46.774635Z",
     "shell.execute_reply": "2022-06-26T19:07:46.773558Z"
    }
   },
   "outputs": [
    {
     "name": "stdout",
     "output_type": "stream",
     "text": [
      "Exportando os dados para o proximo step...\n"
     ]
    }
   ],
   "source": [
    "print('Exportando os dados para o proximo step...')\n",
    "orchest.output(orgaos,\"orgaos\")"
   ]
  },
  {
   "cell_type": "code",
   "execution_count": 8,
   "metadata": {
    "execution": {
     "iopub.execute_input": "2022-06-26T19:07:46.801140Z",
     "iopub.status.busy": "2022-06-26T19:07:46.800708Z",
     "iopub.status.idle": "2022-06-26T19:07:46.806079Z",
     "shell.execute_reply": "2022-06-26T19:07:46.804989Z"
    }
   },
   "outputs": [
    {
     "name": "stdout",
     "output_type": "stream",
     "text": [
      "Script executado com sucesso!\n"
     ]
    }
   ],
   "source": [
    "print('Script executado com sucesso!')"
   ]
  },
  {
   "cell_type": "code",
   "execution_count": null,
   "metadata": {},
   "outputs": [],
   "source": []
  }
 ],
 "metadata": {
  "interpreter": {
   "hash": "31c343df0307e317f338e13842f1848929a1168821279cd78d86c2cef5573c6f"
  },
  "kernelspec": {
   "display_name": "Python 3",
   "language": "python",
   "name": "orchest-kernel-6449305e-5170-4e80-84d9-5e9c3ca98522"
  },
  "language_info": {
   "codemirror_mode": {
    "name": "ipython",
    "version": 3
   },
   "file_extension": ".py",
   "mimetype": "text/x-python",
   "name": "python",
   "nbconvert_exporter": "python",
   "pygments_lexer": "ipython3",
   "version": "3.9.10"
  }
 },
 "nbformat": 4,
 "nbformat_minor": 4
}
