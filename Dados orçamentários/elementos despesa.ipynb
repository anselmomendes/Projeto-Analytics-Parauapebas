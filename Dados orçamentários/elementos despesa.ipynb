{
 "cells": [
  {
   "cell_type": "code",
   "execution_count": 1,
   "metadata": {
    "execution": {
     "iopub.execute_input": "2022-06-26T04:04:08.683013Z",
     "iopub.status.busy": "2022-06-26T04:04:08.682614Z",
     "iopub.status.idle": "2022-06-26T04:04:09.816347Z",
     "shell.execute_reply": "2022-06-26T04:04:09.815398Z"
    },
    "tags": []
   },
   "outputs": [
    {
     "name": "stdout",
     "output_type": "stream",
     "text": [
      "Importação das bibliotecas realizada com sucesso\n"
     ]
    }
   ],
   "source": [
    "import pandas as pd\n",
    "import orchest\n",
    "import warnings\n",
    "warnings.filterwarnings('ignore')\n",
    "print('Importação das bibliotecas realizada com sucesso')"
   ]
  },
  {
   "cell_type": "code",
   "execution_count": 2,
   "metadata": {
    "execution": {
     "iopub.execute_input": "2022-06-26T04:04:09.839428Z",
     "iopub.status.busy": "2022-06-26T04:04:09.839037Z",
     "iopub.status.idle": "2022-06-26T04:04:09.844959Z",
     "shell.execute_reply": "2022-06-26T04:04:09.844091Z"
    },
    "tags": []
   },
   "outputs": [
    {
     "name": "stdout",
     "output_type": "stream",
     "text": [
      "definindo os parametros para API...\n"
     ]
    }
   ],
   "source": [
    "print('definindo os parametros para API...')\n",
    "versao = 'v1'\n",
    "codigo = '4507490'"
   ]
  },
  {
   "cell_type": "code",
   "execution_count": 3,
   "metadata": {
    "execution": {
     "iopub.execute_input": "2022-06-26T04:04:09.869325Z",
     "iopub.status.busy": "2022-06-26T04:04:09.868320Z",
     "iopub.status.idle": "2022-06-26T04:04:11.692262Z",
     "shell.execute_reply": "2022-06-26T04:04:11.690997Z"
    },
    "tags": []
   },
   "outputs": [
    {
     "name": "stdout",
     "output_type": "stream",
     "text": [
      "Realizando o download dos dados...\n"
     ]
    }
   ],
   "source": [
    "print('Realizando o download dos dados...')\n",
    "elementos_despesa = pd.DataFrame()\n",
    "for i in range(10):\n",
    "    string = f'https://www.governotransparente.com.br/transparencia/api/{versao}/json/{codigo}/elementosdegastosdoexercicio/'\n",
    "    url = string + str(format(i))\n",
    "    data = pd.read_json(url)\n",
    "    elementos_despesa = elementos_despesa.append(data, ignore_index=True)"
   ]
  },
  {
   "cell_type": "code",
   "execution_count": 4,
   "metadata": {
    "execution": {
     "iopub.execute_input": "2022-06-26T04:04:11.724824Z",
     "iopub.status.busy": "2022-06-26T04:04:11.724379Z",
     "iopub.status.idle": "2022-06-26T04:04:11.729729Z",
     "shell.execute_reply": "2022-06-26T04:04:11.728625Z"
    }
   },
   "outputs": [],
   "source": [
    "#elementos_despesa.head()"
   ]
  },
  {
   "cell_type": "code",
   "execution_count": 5,
   "metadata": {
    "execution": {
     "iopub.execute_input": "2022-06-26T04:04:11.753336Z",
     "iopub.status.busy": "2022-06-26T04:04:11.752892Z",
     "iopub.status.idle": "2022-06-26T04:04:11.777505Z",
     "shell.execute_reply": "2022-06-26T04:04:11.776357Z"
    }
   },
   "outputs": [
    {
     "data": {
      "text/plain": [
       "id       int64\n",
       "nome    object\n",
       "dtype: object"
      ]
     },
     "execution_count": 5,
     "metadata": {},
     "output_type": "execute_result"
    }
   ],
   "source": [
    "elementos_despesa.dtypes"
   ]
  },
  {
   "cell_type": "code",
   "execution_count": 6,
   "metadata": {
    "execution": {
     "iopub.execute_input": "2022-06-26T04:04:11.802959Z",
     "iopub.status.busy": "2022-06-26T04:04:11.802365Z",
     "iopub.status.idle": "2022-06-26T04:04:11.812895Z",
     "shell.execute_reply": "2022-06-26T04:04:11.811725Z"
    },
    "tags": []
   },
   "outputs": [
    {
     "name": "stdout",
     "output_type": "stream",
     "text": [
      "Exportando os dados para o proximo step...\n"
     ]
    }
   ],
   "source": [
    "print('Exportando os dados para o proximo step...')\n",
    "orchest.output(elementos_despesa,\"elementos_despesa\")"
   ]
  },
  {
   "cell_type": "code",
   "execution_count": 7,
   "metadata": {
    "execution": {
     "iopub.execute_input": "2022-06-26T04:04:11.842610Z",
     "iopub.status.busy": "2022-06-26T04:04:11.841587Z",
     "iopub.status.idle": "2022-06-26T04:04:11.847947Z",
     "shell.execute_reply": "2022-06-26T04:04:11.846979Z"
    }
   },
   "outputs": [
    {
     "name": "stdout",
     "output_type": "stream",
     "text": [
      "Script executado com sucesso!\n"
     ]
    }
   ],
   "source": [
    "print('Script executado com sucesso!')"
   ]
  },
  {
   "cell_type": "code",
   "execution_count": null,
   "metadata": {},
   "outputs": [],
   "source": []
  }
 ],
 "metadata": {
  "interpreter": {
   "hash": "31c343df0307e317f338e13842f1848929a1168821279cd78d86c2cef5573c6f"
  },
  "kernelspec": {
   "display_name": "Python 3",
   "language": "python",
   "name": "orchest-kernel-6449305e-5170-4e80-84d9-5e9c3ca98522"
  },
  "language_info": {
   "codemirror_mode": {
    "name": "ipython",
    "version": 3
   },
   "file_extension": ".py",
   "mimetype": "text/x-python",
   "name": "python",
   "nbconvert_exporter": "python",
   "pygments_lexer": "ipython3",
   "version": "3.9.10"
  }
 },
 "nbformat": 4,
 "nbformat_minor": 4
}
