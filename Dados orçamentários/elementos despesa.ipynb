{
 "cells": [
  {
   "cell_type": "code",
   "execution_count": 1,
   "metadata": {
    "execution": {
     "iopub.execute_input": "2022-06-26T19:07:37.777623Z",
     "iopub.status.busy": "2022-06-26T19:07:37.777204Z",
     "iopub.status.idle": "2022-06-26T19:07:39.413212Z",
     "shell.execute_reply": "2022-06-26T19:07:39.412228Z"
    },
    "tags": []
   },
   "outputs": [
    {
     "name": "stdout",
     "output_type": "stream",
     "text": [
      "Importação das bibliotecas realizada com sucesso\n"
     ]
    }
   ],
   "source": [
    "import pandas as pd\n",
    "import orchest\n",
    "import warnings\n",
    "warnings.filterwarnings('ignore')\n",
    "print('Importação das bibliotecas realizada com sucesso')"
   ]
  },
  {
   "cell_type": "code",
   "execution_count": 2,
   "metadata": {
    "execution": {
     "iopub.execute_input": "2022-06-26T19:07:39.481707Z",
     "iopub.status.busy": "2022-06-26T19:07:39.476430Z",
     "iopub.status.idle": "2022-06-26T19:07:39.492867Z",
     "shell.execute_reply": "2022-06-26T19:07:39.491577Z"
    },
    "tags": []
   },
   "outputs": [
    {
     "name": "stdout",
     "output_type": "stream",
     "text": [
      "definindo os parametros para API...\n"
     ]
    }
   ],
   "source": [
    "print('definindo os parametros para API...')\n",
    "versao = 'v1'\n",
    "codigo = '4507490'"
   ]
  },
  {
   "cell_type": "code",
   "execution_count": 3,
   "metadata": {
    "execution": {
     "iopub.execute_input": "2022-06-26T19:07:39.528598Z",
     "iopub.status.busy": "2022-06-26T19:07:39.528116Z",
     "iopub.status.idle": "2022-06-26T19:07:41.397879Z",
     "shell.execute_reply": "2022-06-26T19:07:41.396360Z"
    },
    "tags": []
   },
   "outputs": [
    {
     "name": "stdout",
     "output_type": "stream",
     "text": [
      "Realizando o download dos dados...\n"
     ]
    }
   ],
   "source": [
    "print('Realizando o download dos dados...')\n",
    "elementos_despesa = pd.DataFrame()\n",
    "for i in range(10):\n",
    "    string = f'https://www.governotransparente.com.br/transparencia/api/{versao}/json/{codigo}/elementosdegastosdoexercicio/'\n",
    "    url = string + str(format(i))\n",
    "    data = pd.read_json(url)\n",
    "    elementos_despesa = elementos_despesa.append(data, ignore_index=True)"
   ]
  },
  {
   "cell_type": "code",
   "execution_count": 4,
   "metadata": {
    "execution": {
     "iopub.execute_input": "2022-06-26T19:07:41.455833Z",
     "iopub.status.busy": "2022-06-26T19:07:41.454870Z",
     "iopub.status.idle": "2022-06-26T19:07:41.460947Z",
     "shell.execute_reply": "2022-06-26T19:07:41.459657Z"
    }
   },
   "outputs": [],
   "source": [
    "#elementos_despesa.head()"
   ]
  },
  {
   "cell_type": "code",
   "execution_count": 5,
   "metadata": {
    "execution": {
     "iopub.execute_input": "2022-06-26T19:07:41.495141Z",
     "iopub.status.busy": "2022-06-26T19:07:41.494066Z",
     "iopub.status.idle": "2022-06-26T19:07:41.519788Z",
     "shell.execute_reply": "2022-06-26T19:07:41.518690Z"
    }
   },
   "outputs": [
    {
     "data": {
      "text/plain": [
       "id       int64\n",
       "nome    object\n",
       "dtype: object"
      ]
     },
     "execution_count": 5,
     "metadata": {},
     "output_type": "execute_result"
    }
   ],
   "source": [
    "elementos_despesa.dtypes"
   ]
  },
  {
   "cell_type": "code",
   "execution_count": 6,
   "metadata": {
    "execution": {
     "iopub.execute_input": "2022-06-26T19:07:41.555765Z",
     "iopub.status.busy": "2022-06-26T19:07:41.555252Z",
     "iopub.status.idle": "2022-06-26T19:07:41.571780Z",
     "shell.execute_reply": "2022-06-26T19:07:41.567729Z"
    },
    "tags": []
   },
   "outputs": [
    {
     "name": "stdout",
     "output_type": "stream",
     "text": [
      "Exportando os dados para o proximo step...\n"
     ]
    }
   ],
   "source": [
    "print('Exportando os dados para o proximo step...')\n",
    "orchest.output(elementos_despesa,\"elementos_despesa\")"
   ]
  },
  {
   "cell_type": "code",
   "execution_count": 7,
   "metadata": {
    "execution": {
     "iopub.execute_input": "2022-06-26T19:07:41.606773Z",
     "iopub.status.busy": "2022-06-26T19:07:41.606351Z",
     "iopub.status.idle": "2022-06-26T19:07:41.612869Z",
     "shell.execute_reply": "2022-06-26T19:07:41.611853Z"
    }
   },
   "outputs": [
    {
     "name": "stdout",
     "output_type": "stream",
     "text": [
      "Script executado com sucesso!\n"
     ]
    }
   ],
   "source": [
    "print('Script executado com sucesso!')"
   ]
  },
  {
   "cell_type": "code",
   "execution_count": null,
   "metadata": {},
   "outputs": [],
   "source": []
  }
 ],
 "metadata": {
  "interpreter": {
   "hash": "31c343df0307e317f338e13842f1848929a1168821279cd78d86c2cef5573c6f"
  },
  "kernelspec": {
   "display_name": "Python 3",
   "language": "python",
   "name": "orchest-kernel-6449305e-5170-4e80-84d9-5e9c3ca98522"
  },
  "language_info": {
   "codemirror_mode": {
    "name": "ipython",
    "version": 3
   },
   "file_extension": ".py",
   "mimetype": "text/x-python",
   "name": "python",
   "nbconvert_exporter": "python",
   "pygments_lexer": "ipython3",
   "version": "3.9.10"
  }
 },
 "nbformat": 4,
 "nbformat_minor": 4
}
