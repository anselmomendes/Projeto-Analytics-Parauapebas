{
 "cells": [
  {
   "cell_type": "code",
   "execution_count": 1,
   "metadata": {
    "execution": {
     "iopub.execute_input": "2022-06-25T22:50:53.773701Z",
     "iopub.status.busy": "2022-06-25T22:50:53.773142Z",
     "iopub.status.idle": "2022-06-25T22:50:54.740493Z",
     "shell.execute_reply": "2022-06-25T22:50:54.739396Z"
    },
    "tags": []
   },
   "outputs": [
    {
     "name": "stdout",
     "output_type": "stream",
     "text": [
      "Importação das bibliotecas realizada com sucesso\n"
     ]
    }
   ],
   "source": [
    "import pandas as pd\n",
    "import orchest\n",
    "import warnings\n",
    "warnings.filterwarnings('ignore')\n",
    "print('Importação das bibliotecas realizada com sucesso')"
   ]
  },
  {
   "cell_type": "code",
   "execution_count": 2,
   "metadata": {
    "execution": {
     "iopub.execute_input": "2022-06-25T22:50:54.759218Z",
     "iopub.status.busy": "2022-06-25T22:50:54.758908Z",
     "iopub.status.idle": "2022-06-25T22:50:54.763723Z",
     "shell.execute_reply": "2022-06-25T22:50:54.762679Z"
    },
    "tags": []
   },
   "outputs": [],
   "source": [
    "print('definindo os parametros para API...')\n",
    "versao = 'v1'\n",
    "codigo = '4507490'"
   ]
  },
  {
   "cell_type": "code",
   "execution_count": 3,
   "metadata": {
    "execution": {
     "iopub.execute_input": "2022-06-25T22:50:54.780042Z",
     "iopub.status.busy": "2022-06-25T22:50:54.779750Z",
     "iopub.status.idle": "2022-06-25T22:50:56.763732Z",
     "shell.execute_reply": "2022-06-25T22:50:56.762218Z"
    },
    "tags": []
   },
   "outputs": [
    {
     "name": "stdout",
     "output_type": "stream",
     "text": [
      "Realizando o download dos dados...\n"
     ]
    }
   ],
   "source": [
    "print('Realizando o download dos dados...')\n",
    "elementos_despesa = pd.DataFrame()\n",
    "for i in range(10):\n",
    "    string = f'https://www.governotransparente.com.br/transparencia/api/{versao}/json/{codigo}/elementosdegastosdoexercicio/'\n",
    "    url = string + str(format(i))\n",
    "    data = pd.read_json(url)\n",
    "    elementos_despesa = elementos_despesa.append(data, ignore_index=True)"
   ]
  },
  {
   "cell_type": "code",
   "execution_count": 4,
   "metadata": {
    "execution": {
     "iopub.execute_input": "2022-06-25T22:50:56.791408Z",
     "iopub.status.busy": "2022-06-25T22:50:56.790507Z",
     "iopub.status.idle": "2022-06-25T22:50:56.797799Z",
     "shell.execute_reply": "2022-06-25T22:50:56.796259Z"
    }
   },
   "outputs": [],
   "source": [
    "#elementos_despesa.head()"
   ]
  },
  {
   "cell_type": "code",
   "execution_count": 5,
   "metadata": {
    "execution": {
     "iopub.execute_input": "2022-06-25T22:50:56.817892Z",
     "iopub.status.busy": "2022-06-25T22:50:56.817088Z",
     "iopub.status.idle": "2022-06-25T22:50:56.827998Z",
     "shell.execute_reply": "2022-06-25T22:50:56.826698Z"
    },
    "tags": []
   },
   "outputs": [
    {
     "name": "stdout",
     "output_type": "stream",
     "text": [
      "Exportando os dados para o proximo step...\n"
     ]
    }
   ],
   "source": [
    "print('Exportando os dados para o proximo step...')\n",
    "orchest.output(elementos_despesa,\"elementos_despesa\")"
   ]
  },
  {
   "cell_type": "code",
   "execution_count": 6,
   "metadata": {
    "execution": {
     "iopub.execute_input": "2022-06-25T22:50:56.854045Z",
     "iopub.status.busy": "2022-06-25T22:50:56.853725Z",
     "iopub.status.idle": "2022-06-25T22:50:56.861926Z",
     "shell.execute_reply": "2022-06-25T22:50:56.860600Z"
    }
   },
   "outputs": [
    {
     "name": "stdout",
     "output_type": "stream",
     "text": [
      "Script executado com sucesso!\n"
     ]
    }
   ],
   "source": [
    "print('Script executado com sucesso!')"
   ]
  },
  {
   "cell_type": "code",
   "execution_count": null,
   "metadata": {},
   "outputs": [],
   "source": []
  }
 ],
 "metadata": {
  "interpreter": {
   "hash": "31c343df0307e317f338e13842f1848929a1168821279cd78d86c2cef5573c6f"
  },
  "kernelspec": {
   "display_name": "Python 3",
   "language": "python",
   "name": "orchest-kernel-6449305e-5170-4e80-84d9-5e9c3ca98522"
  },
  "language_info": {
   "codemirror_mode": {
    "name": "ipython",
    "version": 3
   },
   "file_extension": ".py",
   "mimetype": "text/x-python",
   "name": "python",
   "nbconvert_exporter": "python",
   "pygments_lexer": "ipython3",
   "version": "3.9.10"
  }
 },
 "nbformat": 4,
 "nbformat_minor": 4
}
