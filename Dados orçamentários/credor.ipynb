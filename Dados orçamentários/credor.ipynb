{
 "cells": [
  {
   "cell_type": "code",
   "execution_count": 1,
   "metadata": {
    "execution": {
     "iopub.execute_input": "2022-06-26T19:07:40.364162Z",
     "iopub.status.busy": "2022-06-26T19:07:40.363661Z",
     "iopub.status.idle": "2022-06-26T19:07:41.735489Z",
     "shell.execute_reply": "2022-06-26T19:07:41.733383Z"
    },
    "tags": []
   },
   "outputs": [
    {
     "name": "stdout",
     "output_type": "stream",
     "text": [
      "Importação das bibliotecas realizada com sucesso\n"
     ]
    }
   ],
   "source": [
    "import pandas as pd\n",
    "import orchest\n",
    "print('Importação das bibliotecas realizada com sucesso')"
   ]
  },
  {
   "cell_type": "code",
   "execution_count": 2,
   "metadata": {
    "execution": {
     "iopub.execute_input": "2022-06-26T19:07:41.797897Z",
     "iopub.status.busy": "2022-06-26T19:07:41.797464Z",
     "iopub.status.idle": "2022-06-26T19:07:41.805165Z",
     "shell.execute_reply": "2022-06-26T19:07:41.803589Z"
    }
   },
   "outputs": [
    {
     "name": "stdout",
     "output_type": "stream",
     "text": [
      "definindo os parametros para API...\n"
     ]
    }
   ],
   "source": [
    "print('definindo os parametros para API...')\n",
    "versao = 'v2'\n",
    "codigo = '4507490'"
   ]
  },
  {
   "cell_type": "code",
   "execution_count": 3,
   "metadata": {
    "execution": {
     "iopub.execute_input": "2022-06-26T19:07:41.852479Z",
     "iopub.status.busy": "2022-06-26T19:07:41.852059Z",
     "iopub.status.idle": "2022-06-26T19:07:42.746370Z",
     "shell.execute_reply": "2022-06-26T19:07:42.745039Z"
    },
    "tags": []
   },
   "outputs": [
    {
     "name": "stdout",
     "output_type": "stream",
     "text": [
      "Realizando o download dos dados...\n"
     ]
    }
   ],
   "source": [
    "print('Realizando o download dos dados...')\n",
    "url = f'https://www.governotransparente.com.br/transparencia/api/{versao}/json/{codigo}/pessoas'\n",
    "credor = pd.read_json(url)"
   ]
  },
  {
   "cell_type": "code",
   "execution_count": 4,
   "metadata": {
    "execution": {
     "iopub.execute_input": "2022-06-26T19:07:42.784051Z",
     "iopub.status.busy": "2022-06-26T19:07:42.783388Z",
     "iopub.status.idle": "2022-06-26T19:07:42.934896Z",
     "shell.execute_reply": "2022-06-26T19:07:42.933640Z"
    },
    "tags": []
   },
   "outputs": [
    {
     "name": "stdout",
     "output_type": "stream",
     "text": [
      "Realizando a split nos dados...\n"
     ]
    }
   ],
   "source": [
    "print('Realizando a split nos dados...')\n",
    "credor[['Nome da Empresa', 'CNPJ']] = credor['nome'].str.split(' - ', 1, expand=True)\n",
    "credor.drop(columns=['nome'], inplace=True)"
   ]
  },
  {
   "cell_type": "code",
   "execution_count": 5,
   "metadata": {
    "execution": {
     "iopub.execute_input": "2022-06-26T19:07:42.964503Z",
     "iopub.status.busy": "2022-06-26T19:07:42.964048Z",
     "iopub.status.idle": "2022-06-26T19:07:42.987069Z",
     "shell.execute_reply": "2022-06-26T19:07:42.985840Z"
    },
    "tags": []
   },
   "outputs": [
    {
     "name": "stdout",
     "output_type": "stream",
     "text": [
      "Realizando formatação dos dados de CNPJ...\n"
     ]
    }
   ],
   "source": [
    "print('Realizando formatação dos dados de CNPJ...')\n",
    "credor['CNPJ'] = credor['CNPJ'].apply(lambda x: x.replace('CNPJ: ', ''))"
   ]
  },
  {
   "cell_type": "code",
   "execution_count": 6,
   "metadata": {
    "execution": {
     "iopub.execute_input": "2022-06-26T19:07:43.019061Z",
     "iopub.status.busy": "2022-06-26T19:07:43.018601Z",
     "iopub.status.idle": "2022-06-26T19:07:43.032047Z",
     "shell.execute_reply": "2022-06-26T19:07:43.030967Z"
    },
    "tags": []
   },
   "outputs": [],
   "source": [
    "#credor.head()"
   ]
  },
  {
   "cell_type": "code",
   "execution_count": 7,
   "metadata": {
    "execution": {
     "iopub.execute_input": "2022-06-26T19:07:43.064733Z",
     "iopub.status.busy": "2022-06-26T19:07:43.064296Z",
     "iopub.status.idle": "2022-06-26T19:07:43.080906Z",
     "shell.execute_reply": "2022-06-26T19:07:43.079793Z"
    }
   },
   "outputs": [
    {
     "name": "stdout",
     "output_type": "stream",
     "text": [
      "Definindo o tipo dos dados...\n"
     ]
    }
   ],
   "source": [
    "print('Definindo o tipo dos dados...')\n",
    "\n",
    "credor['id'].astype(int);\n",
    "credor['Nome da Empresa'].astype(str);\n",
    "credor['CNPJ'].astype(str);"
   ]
  },
  {
   "cell_type": "code",
   "execution_count": 8,
   "metadata": {
    "execution": {
     "iopub.execute_input": "2022-06-26T19:07:43.113954Z",
     "iopub.status.busy": "2022-06-26T19:07:43.112993Z",
     "iopub.status.idle": "2022-06-26T19:07:43.147397Z",
     "shell.execute_reply": "2022-06-26T19:07:43.146327Z"
    }
   },
   "outputs": [
    {
     "data": {
      "text/plain": [
       "id                  int64\n",
       "Nome da Empresa    object\n",
       "CNPJ               object\n",
       "dtype: object"
      ]
     },
     "execution_count": 8,
     "metadata": {},
     "output_type": "execute_result"
    }
   ],
   "source": [
    "credor.dtypes"
   ]
  },
  {
   "cell_type": "code",
   "execution_count": 9,
   "metadata": {
    "execution": {
     "iopub.execute_input": "2022-06-26T19:07:43.189035Z",
     "iopub.status.busy": "2022-06-26T19:07:43.188282Z",
     "iopub.status.idle": "2022-06-26T19:07:43.239170Z",
     "shell.execute_reply": "2022-06-26T19:07:43.238105Z"
    },
    "tags": []
   },
   "outputs": [
    {
     "name": "stdout",
     "output_type": "stream",
     "text": [
      "Exportando os dados para o proximo step...\n"
     ]
    }
   ],
   "source": [
    "print('Exportando os dados para o proximo step...')\n",
    "orchest.output(credor, \"credor\")"
   ]
  },
  {
   "cell_type": "code",
   "execution_count": 10,
   "metadata": {
    "execution": {
     "iopub.execute_input": "2022-06-26T19:07:43.278911Z",
     "iopub.status.busy": "2022-06-26T19:07:43.278115Z",
     "iopub.status.idle": "2022-06-26T19:07:43.286568Z",
     "shell.execute_reply": "2022-06-26T19:07:43.283470Z"
    },
    "tags": []
   },
   "outputs": [
    {
     "name": "stdout",
     "output_type": "stream",
     "text": [
      "Script executado com sucesso!\n"
     ]
    }
   ],
   "source": [
    "print('Script executado com sucesso!')"
   ]
  },
  {
   "cell_type": "code",
   "execution_count": null,
   "metadata": {},
   "outputs": [],
   "source": []
  }
 ],
 "metadata": {
  "interpreter": {
   "hash": "31c343df0307e317f338e13842f1848929a1168821279cd78d86c2cef5573c6f"
  },
  "kernelspec": {
   "display_name": "Python 3",
   "language": "python",
   "name": "orchest-kernel-6449305e-5170-4e80-84d9-5e9c3ca98522"
  },
  "language_info": {
   "codemirror_mode": {
    "name": "ipython",
    "version": 3
   },
   "file_extension": ".py",
   "mimetype": "text/x-python",
   "name": "python",
   "nbconvert_exporter": "python",
   "pygments_lexer": "ipython3",
   "version": "3.9.10"
  }
 },
 "nbformat": 4,
 "nbformat_minor": 4
}
