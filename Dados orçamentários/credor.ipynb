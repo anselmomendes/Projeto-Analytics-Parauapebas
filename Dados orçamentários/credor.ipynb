{
 "cells": [
  {
   "cell_type": "code",
   "execution_count": 1,
   "metadata": {
    "execution": {
     "iopub.execute_input": "2022-06-25T22:25:26.610464Z",
     "iopub.status.busy": "2022-06-25T22:25:26.609684Z",
     "iopub.status.idle": "2022-06-25T22:25:27.605602Z",
     "shell.execute_reply": "2022-06-25T22:25:27.604657Z"
    },
    "tags": []
   },
   "outputs": [
    {
     "name": "stdout",
     "output_type": "stream",
     "text": [
      "Importação das bibliotecas realizada com sucesso\n"
     ]
    }
   ],
   "source": [
    "import pandas as pd\n",
    "import orchest\n",
    "print('Importação das bibliotecas realizada com sucesso')"
   ]
  },
  {
   "cell_type": "code",
   "execution_count": 2,
   "metadata": {
    "execution": {
     "iopub.execute_input": "2022-06-25T22:25:27.638326Z",
     "iopub.status.busy": "2022-06-25T22:25:27.637986Z",
     "iopub.status.idle": "2022-06-25T22:25:28.561986Z",
     "shell.execute_reply": "2022-06-25T22:25:28.560550Z"
    },
    "tags": []
   },
   "outputs": [
    {
     "name": "stdout",
     "output_type": "stream",
     "text": [
      "Realizando o download dos dados...\n"
     ]
    }
   ],
   "source": [
    "print('Realizando o download dos dados...')\n",
    "url = 'https://www.governotransparente.com.br/transparencia/api/v2/json/4507490/pessoas'\n",
    "credor = pd.read_json(url)"
   ]
  },
  {
   "cell_type": "code",
   "execution_count": 3,
   "metadata": {
    "execution": {
     "iopub.execute_input": "2022-06-25T22:25:28.604333Z",
     "iopub.status.busy": "2022-06-25T22:25:28.603885Z",
     "iopub.status.idle": "2022-06-25T22:25:28.735350Z",
     "shell.execute_reply": "2022-06-25T22:25:28.734236Z"
    }
   },
   "outputs": [
    {
     "name": "stdout",
     "output_type": "stream",
     "text": [
      "Realizando a split nos dados...\n"
     ]
    }
   ],
   "source": [
    "print('Realizando a split nos dados...')\n",
    "credor[['Nome da Empresa', 'CNPJ']] = credor['nome'].str.split(' - ', 1, expand=True)\n",
    "credor.drop(columns=['nome'], inplace=True)"
   ]
  },
  {
   "cell_type": "code",
   "execution_count": 4,
   "metadata": {
    "execution": {
     "iopub.execute_input": "2022-06-25T22:25:28.756996Z",
     "iopub.status.busy": "2022-06-25T22:25:28.756682Z",
     "iopub.status.idle": "2022-06-25T22:25:28.781142Z",
     "shell.execute_reply": "2022-06-25T22:25:28.779952Z"
    },
    "tags": []
   },
   "outputs": [
    {
     "name": "stdout",
     "output_type": "stream",
     "text": [
      "Realizando formatação dos dados de CNPJ...\n"
     ]
    }
   ],
   "source": [
    "print('Realizando formatação dos dados de CNPJ...')\n",
    "credor['CNPJ'] = credor['CNPJ'].apply(lambda x: x.replace('CNPJ: ', ''))"
   ]
  },
  {
   "cell_type": "code",
   "execution_count": 5,
   "metadata": {
    "execution": {
     "iopub.execute_input": "2022-06-25T22:25:28.803767Z",
     "iopub.status.busy": "2022-06-25T22:25:28.802683Z",
     "iopub.status.idle": "2022-06-25T22:25:28.808070Z",
     "shell.execute_reply": "2022-06-25T22:25:28.807040Z"
    },
    "tags": []
   },
   "outputs": [],
   "source": [
    "#df.head(5)"
   ]
  },
  {
   "cell_type": "code",
   "execution_count": 6,
   "metadata": {
    "execution": {
     "iopub.execute_input": "2022-06-25T22:25:28.836387Z",
     "iopub.status.busy": "2022-06-25T22:25:28.835518Z",
     "iopub.status.idle": "2022-06-25T22:25:28.871738Z",
     "shell.execute_reply": "2022-06-25T22:25:28.870752Z"
    }
   },
   "outputs": [
    {
     "name": "stdout",
     "output_type": "stream",
     "text": [
      "Exportando os dados para o proximo step...\n"
     ]
    }
   ],
   "source": [
    "print('Exportando os dados para o proximo step...')\n",
    "orchest.output(credor, \"credor\")"
   ]
  },
  {
   "cell_type": "code",
   "execution_count": 7,
   "metadata": {
    "execution": {
     "iopub.execute_input": "2022-06-25T22:25:28.898638Z",
     "iopub.status.busy": "2022-06-25T22:25:28.898291Z",
     "iopub.status.idle": "2022-06-25T22:25:28.903605Z",
     "shell.execute_reply": "2022-06-25T22:25:28.902753Z"
    }
   },
   "outputs": [
    {
     "name": "stdout",
     "output_type": "stream",
     "text": [
      "Script executado com sucesso!\n"
     ]
    }
   ],
   "source": [
    "print('Script executado com sucesso!')"
   ]
  },
  {
   "cell_type": "code",
   "execution_count": null,
   "metadata": {},
   "outputs": [],
   "source": []
  }
 ],
 "metadata": {
  "interpreter": {
   "hash": "31c343df0307e317f338e13842f1848929a1168821279cd78d86c2cef5573c6f"
  },
  "kernelspec": {
   "display_name": "Python 3",
   "language": "python",
   "name": "orchest-kernel-6449305e-5170-4e80-84d9-5e9c3ca98522"
  },
  "language_info": {
   "codemirror_mode": {
    "name": "ipython",
    "version": 3
   },
   "file_extension": ".py",
   "mimetype": "text/x-python",
   "name": "python",
   "nbconvert_exporter": "python",
   "pygments_lexer": "ipython3",
   "version": "3.9.10"
  }
 },
 "nbformat": 4,
 "nbformat_minor": 4
}
