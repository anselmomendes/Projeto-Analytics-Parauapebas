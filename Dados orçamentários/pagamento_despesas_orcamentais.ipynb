{
 "cells": [
  {
   "cell_type": "code",
   "execution_count": 1,
   "metadata": {
    "execution": {
     "iopub.execute_input": "2022-06-26T04:04:02.265970Z",
     "iopub.status.busy": "2022-06-26T04:04:02.265327Z",
     "iopub.status.idle": "2022-06-26T04:04:03.813141Z",
     "shell.execute_reply": "2022-06-26T04:04:03.812028Z"
    }
   },
   "outputs": [
    {
     "name": "stdout",
     "output_type": "stream",
     "text": [
      "Importação das bibliotecas realizada com sucesso\n"
     ]
    }
   ],
   "source": [
    "import orchest\n",
    "import pandas as pd\n",
    "import warnings\n",
    "warnings.filterwarnings('ignore')\n",
    "print('Importação das bibliotecas realizada com sucesso')"
   ]
  },
  {
   "cell_type": "code",
   "execution_count": 2,
   "metadata": {
    "execution": {
     "iopub.execute_input": "2022-06-26T04:04:03.888786Z",
     "iopub.status.busy": "2022-06-26T04:04:03.880806Z",
     "iopub.status.idle": "2022-06-26T04:04:04.235059Z",
     "shell.execute_reply": "2022-06-26T04:04:04.233632Z"
    }
   },
   "outputs": [
    {
     "name": "stdout",
     "output_type": "stream",
     "text": [
      "definindo os parametros para API...\n"
     ]
    }
   ],
   "source": [
    "print('definindo os parametros para API...')\n",
    "\n",
    "Ano_exercicio = 2019\n",
    "url = 'https://www.governotransparente.com.br/transparencia/api/v1/json/exercicios/4507490'\n",
    "exercicio = pd.read_json(url)\n",
    "\n",
    "versao = 'v1'\n",
    "codigo = '4507490'\n",
    "page = '1'\n",
    "pagesize = '100000'\n",
    "exercicio = str(exercicio[exercicio['nome'] == Ano_exercicio]['id'][1])\n",
    "inicio = '01/01/2019'\n",
    "fim = '01/01/2020'\n",
    "covid = 'False'"
   ]
  },
  {
   "cell_type": "code",
   "execution_count": 3,
   "metadata": {
    "execution": {
     "iopub.execute_input": "2022-06-26T04:04:04.274368Z",
     "iopub.status.busy": "2022-06-26T04:04:04.273879Z",
     "iopub.status.idle": "2022-06-26T04:04:11.832121Z",
     "shell.execute_reply": "2022-06-26T04:04:11.830936Z"
    },
    "tags": []
   },
   "outputs": [
    {
     "name": "stdout",
     "output_type": "stream",
     "text": [
      "Realizando o download dos dados...\n"
     ]
    }
   ],
   "source": [
    "print('Realizando o download dos dados...')\n",
    "url = f'https://www.governotransparente.com.br/transparencia/api/{versao}/json/pagamentos/{codigo}?page={page}&pagesize={pagesize}&exer={exercicio}&inicio={inicio}&fim={fim}&covid={covid}'#.format(versao, codigo, page, pagesize, exercicio, inicio, fim, covid)\n",
    "pagamento = pd.read_json(url)"
   ]
  },
  {
   "cell_type": "code",
   "execution_count": 4,
   "metadata": {
    "execution": {
     "iopub.execute_input": "2022-06-26T04:04:11.862818Z",
     "iopub.status.busy": "2022-06-26T04:04:11.862327Z",
     "iopub.status.idle": "2022-06-26T04:04:12.832357Z",
     "shell.execute_reply": "2022-06-26T04:04:12.830500Z"
    }
   },
   "outputs": [],
   "source": [
    "pagamento['dataMovimento'] = pagamento['dataMovimento'].apply(lambda x:pd.Timestamp(x))\n",
    "pagamento['valor'] = pagamento['valor'].apply(lambda x:str(x).replace('.','').replace(',','.'))\n",
    "\n",
    "types = {'numeroDocumento':'int64', 'numeroEmpenho':'int64', 'idOrgao':'int64', 'idElem':'int64','idEmpenho':'int64', 'valor':'float'}\n",
    "\n",
    "pagamento = pagamento.astype(types);"
   ]
  },
  {
   "cell_type": "code",
   "execution_count": 5,
   "metadata": {
    "execution": {
     "iopub.execute_input": "2022-06-26T04:04:12.866919Z",
     "iopub.status.busy": "2022-06-26T04:04:12.866050Z",
     "iopub.status.idle": "2022-06-26T04:04:12.908953Z",
     "shell.execute_reply": "2022-06-26T04:04:12.907866Z"
    },
    "tags": []
   },
   "outputs": [
    {
     "data": {
      "text/html": [
       "<div>\n",
       "<style scoped>\n",
       "    .dataframe tbody tr th:only-of-type {\n",
       "        vertical-align: middle;\n",
       "    }\n",
       "\n",
       "    .dataframe tbody tr th {\n",
       "        vertical-align: top;\n",
       "    }\n",
       "\n",
       "    .dataframe thead th {\n",
       "        text-align: right;\n",
       "    }\n",
       "</style>\n",
       "<table border=\"1\" class=\"dataframe\">\n",
       "  <thead>\n",
       "    <tr style=\"text-align: right;\">\n",
       "      <th></th>\n",
       "      <th>dataMovimento</th>\n",
       "      <th>numeroDocumento</th>\n",
       "      <th>numeroEmpenho</th>\n",
       "      <th>credor</th>\n",
       "      <th>cnpjcpf</th>\n",
       "      <th>naturezaDaDespesa</th>\n",
       "      <th>modalidadeLicitacao</th>\n",
       "      <th>registro</th>\n",
       "      <th>valor</th>\n",
       "      <th>idOrgao</th>\n",
       "      <th>idElem</th>\n",
       "      <th>idEmpenho</th>\n",
       "    </tr>\n",
       "  </thead>\n",
       "  <tbody>\n",
       "    <tr>\n",
       "      <th>0</th>\n",
       "      <td>2019-02-01</td>\n",
       "      <td>2010004</td>\n",
       "      <td>2010161</td>\n",
       "      <td>BANCO BRADESCO\\n S/A</td>\n",
       "      <td>XX.X46.948/\\n0001-12</td>\n",
       "      <td>3.3.90.39.00 -\\n Outros serv. \\nde terc. pesso...</td>\n",
       "      <td>Outros/não se aplica</td>\n",
       "      <td>Realizado</td>\n",
       "      <td>64.84</td>\n",
       "      <td>142</td>\n",
       "      <td>3719</td>\n",
       "      <td>235019</td>\n",
       "    </tr>\n",
       "    <tr>\n",
       "      <th>1</th>\n",
       "      <td>2019-02-01</td>\n",
       "      <td>2010005</td>\n",
       "      <td>2010155</td>\n",
       "      <td>BANCO DA AMAZÔ\\nNIA S.A</td>\n",
       "      <td>XX.X02.979/\\n0001-44</td>\n",
       "      <td>3.3.90.39.00 -\\n Outros serv. \\nde terc. pesso...</td>\n",
       "      <td>Outros/não se aplica</td>\n",
       "      <td>Realizado</td>\n",
       "      <td>3787.80</td>\n",
       "      <td>142</td>\n",
       "      <td>3719</td>\n",
       "      <td>234219</td>\n",
       "    </tr>\n",
       "    <tr>\n",
       "      <th>2</th>\n",
       "      <td>2019-02-01</td>\n",
       "      <td>2010002</td>\n",
       "      <td>2010160</td>\n",
       "      <td>BANCO DO BRASI\\nL S/A</td>\n",
       "      <td>XX.X00.000/\\n3691-95</td>\n",
       "      <td>3.3.90.39.00 -\\n Outros serv. \\nde terc. pesso...</td>\n",
       "      <td>Outros/não se aplica</td>\n",
       "      <td>Realizado</td>\n",
       "      <td>168.00</td>\n",
       "      <td>142</td>\n",
       "      <td>3719</td>\n",
       "      <td>235319</td>\n",
       "    </tr>\n",
       "    <tr>\n",
       "      <th>3</th>\n",
       "      <td>2019-02-01</td>\n",
       "      <td>2010007</td>\n",
       "      <td>2010150</td>\n",
       "      <td>BANCO DO BRASI\\nL S/A</td>\n",
       "      <td>XX.X00.000/\\n3691-95</td>\n",
       "      <td>3.3.90.39.00 -\\n Outros serv. \\nde terc. pesso...</td>\n",
       "      <td>Outros/não se aplica</td>\n",
       "      <td>Realizado</td>\n",
       "      <td>190.00</td>\n",
       "      <td>142</td>\n",
       "      <td>3719</td>\n",
       "      <td>233619</td>\n",
       "    </tr>\n",
       "    <tr>\n",
       "      <th>4</th>\n",
       "      <td>2019-02-01</td>\n",
       "      <td>2010003</td>\n",
       "      <td>2010167</td>\n",
       "      <td>BANCO DO ESTAD\\nO DO PARÁ S.A</td>\n",
       "      <td>XX.X13.711/\\n0043-67</td>\n",
       "      <td>3.3.90.39.00 -\\n Outros serv. \\nde terc. pesso...</td>\n",
       "      <td>Outros/não se aplica</td>\n",
       "      <td>Realizado</td>\n",
       "      <td>6.00</td>\n",
       "      <td>142</td>\n",
       "      <td>3719</td>\n",
       "      <td>235819</td>\n",
       "    </tr>\n",
       "  </tbody>\n",
       "</table>\n",
       "</div>"
      ],
      "text/plain": [
       "  dataMovimento  numeroDocumento  numeroEmpenho  \\\n",
       "0    2019-02-01          2010004        2010161   \n",
       "1    2019-02-01          2010005        2010155   \n",
       "2    2019-02-01          2010002        2010160   \n",
       "3    2019-02-01          2010007        2010150   \n",
       "4    2019-02-01          2010003        2010167   \n",
       "\n",
       "                          credor               cnpjcpf  \\\n",
       "0           BANCO BRADESCO\\n S/A  XX.X46.948/\\n0001-12   \n",
       "1        BANCO DA AMAZÔ\\nNIA S.A  XX.X02.979/\\n0001-44   \n",
       "2          BANCO DO BRASI\\nL S/A  XX.X00.000/\\n3691-95   \n",
       "3          BANCO DO BRASI\\nL S/A  XX.X00.000/\\n3691-95   \n",
       "4  BANCO DO ESTAD\\nO DO PARÁ S.A  XX.X13.711/\\n0043-67   \n",
       "\n",
       "                                   naturezaDaDespesa   modalidadeLicitacao  \\\n",
       "0  3.3.90.39.00 -\\n Outros serv. \\nde terc. pesso...  Outros/não se aplica   \n",
       "1  3.3.90.39.00 -\\n Outros serv. \\nde terc. pesso...  Outros/não se aplica   \n",
       "2  3.3.90.39.00 -\\n Outros serv. \\nde terc. pesso...  Outros/não se aplica   \n",
       "3  3.3.90.39.00 -\\n Outros serv. \\nde terc. pesso...  Outros/não se aplica   \n",
       "4  3.3.90.39.00 -\\n Outros serv. \\nde terc. pesso...  Outros/não se aplica   \n",
       "\n",
       "    registro    valor  idOrgao  idElem  idEmpenho  \n",
       "0  Realizado    64.84      142    3719     235019  \n",
       "1  Realizado  3787.80      142    3719     234219  \n",
       "2  Realizado   168.00      142    3719     235319  \n",
       "3  Realizado   190.00      142    3719     233619  \n",
       "4  Realizado     6.00      142    3719     235819  "
      ]
     },
     "execution_count": 5,
     "metadata": {},
     "output_type": "execute_result"
    }
   ],
   "source": [
    "#pagamento.head()"
   ]
  },
  {
   "cell_type": "code",
   "execution_count": 6,
   "metadata": {
    "execution": {
     "iopub.execute_input": "2022-06-26T04:04:12.947050Z",
     "iopub.status.busy": "2022-06-26T04:04:12.946562Z",
     "iopub.status.idle": "2022-06-26T04:04:12.957160Z",
     "shell.execute_reply": "2022-06-26T04:04:12.955982Z"
    }
   },
   "outputs": [
    {
     "data": {
      "text/plain": [
       "dataMovimento          datetime64[ns]\n",
       "numeroDocumento                 int64\n",
       "numeroEmpenho                   int64\n",
       "credor                         object\n",
       "cnpjcpf                        object\n",
       "naturezaDaDespesa              object\n",
       "modalidadeLicitacao            object\n",
       "registro                       object\n",
       "valor                         float64\n",
       "idOrgao                         int64\n",
       "idElem                          int64\n",
       "idEmpenho                       int64\n",
       "dtype: object"
      ]
     },
     "execution_count": 6,
     "metadata": {},
     "output_type": "execute_result"
    }
   ],
   "source": [
    "#pagamento.dtypes"
   ]
  },
  {
   "cell_type": "code",
   "execution_count": 7,
   "metadata": {
    "execution": {
     "iopub.execute_input": "2022-06-26T04:04:12.987769Z",
     "iopub.status.busy": "2022-06-26T04:04:12.987031Z",
     "iopub.status.idle": "2022-06-26T04:04:13.893988Z",
     "shell.execute_reply": "2022-06-26T04:04:13.892732Z"
    }
   },
   "outputs": [
    {
     "name": "stdout",
     "output_type": "stream",
     "text": [
      "Realizando a limpesa nos dados...\n"
     ]
    }
   ],
   "source": [
    "print('Realizando a limpesa nos dados...')\n",
    "\n",
    "colunas = pagamento.columns\n",
    "\n",
    "for c in colunas:\n",
    "    pagamento[c] = pagamento[c].apply(lambda x:str(x).replace('\\n',''))"
   ]
  },
  {
   "cell_type": "code",
   "execution_count": 8,
   "metadata": {
    "execution": {
     "iopub.execute_input": "2022-06-26T04:04:13.923671Z",
     "iopub.status.busy": "2022-06-26T04:04:13.923162Z",
     "iopub.status.idle": "2022-06-26T04:04:13.927972Z",
     "shell.execute_reply": "2022-06-26T04:04:13.926821Z"
    }
   },
   "outputs": [],
   "source": [
    "#pagamento.head()"
   ]
  },
  {
   "cell_type": "code",
   "execution_count": 9,
   "metadata": {
    "execution": {
     "iopub.execute_input": "2022-06-26T04:04:13.958013Z",
     "iopub.status.busy": "2022-06-26T04:04:13.957667Z",
     "iopub.status.idle": "2022-06-26T04:04:14.235575Z",
     "shell.execute_reply": "2022-06-26T04:04:14.234257Z"
    }
   },
   "outputs": [
    {
     "name": "stdout",
     "output_type": "stream",
     "text": [
      "Exportando os dados para o proximo step...\n"
     ]
    }
   ],
   "source": [
    "print('Exportando os dados para o proximo step...')\n",
    "orchest.output(pagamento, \"pagamento\")"
   ]
  },
  {
   "cell_type": "code",
   "execution_count": 10,
   "metadata": {
    "execution": {
     "iopub.execute_input": "2022-06-26T04:04:14.264817Z",
     "iopub.status.busy": "2022-06-26T04:04:14.263946Z",
     "iopub.status.idle": "2022-06-26T04:04:14.269923Z",
     "shell.execute_reply": "2022-06-26T04:04:14.268607Z"
    }
   },
   "outputs": [
    {
     "name": "stdout",
     "output_type": "stream",
     "text": [
      "Script executado com sucesso!\n"
     ]
    }
   ],
   "source": [
    "print('Script executado com sucesso!')"
   ]
  },
  {
   "cell_type": "code",
   "execution_count": null,
   "metadata": {},
   "outputs": [],
   "source": []
  }
 ],
 "metadata": {
  "interpreter": {
   "hash": "31c343df0307e317f338e13842f1848929a1168821279cd78d86c2cef5573c6f"
  },
  "kernelspec": {
   "display_name": "Python 3",
   "language": "python",
   "name": "orchest-kernel-6449305e-5170-4e80-84d9-5e9c3ca98522"
  },
  "language_info": {
   "codemirror_mode": {
    "name": "ipython",
    "version": 3
   },
   "file_extension": ".py",
   "mimetype": "text/x-python",
   "name": "python",
   "nbconvert_exporter": "python",
   "pygments_lexer": "ipython3",
   "version": "3.9.10"
  }
 },
 "nbformat": 4,
 "nbformat_minor": 4
}
