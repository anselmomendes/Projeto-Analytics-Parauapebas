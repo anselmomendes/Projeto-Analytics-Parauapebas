{
 "cells": [
  {
   "cell_type": "code",
   "execution_count": 1,
   "metadata": {
    "execution": {
     "iopub.execute_input": "2022-06-26T00:35:03.855643Z",
     "iopub.status.busy": "2022-06-26T00:35:03.853476Z",
     "iopub.status.idle": "2022-06-26T00:35:04.927147Z",
     "shell.execute_reply": "2022-06-26T00:35:04.925691Z"
    }
   },
   "outputs": [
    {
     "name": "stdout",
     "output_type": "stream",
     "text": [
      "Importação das bibliotecas realizada com sucesso\n"
     ]
    }
   ],
   "source": [
    "import orchest\n",
    "import pandas as pd\n",
    "import warnings\n",
    "warnings.filterwarnings('ignore')\n",
    "print('Importação das bibliotecas realizada com sucesso')"
   ]
  },
  {
   "cell_type": "code",
   "execution_count": 2,
   "metadata": {
    "execution": {
     "iopub.execute_input": "2022-06-26T00:35:04.946864Z",
     "iopub.status.busy": "2022-06-26T00:35:04.945583Z",
     "iopub.status.idle": "2022-06-26T00:35:05.174582Z",
     "shell.execute_reply": "2022-06-26T00:35:05.173378Z"
    }
   },
   "outputs": [
    {
     "name": "stdout",
     "output_type": "stream",
     "text": [
      "definindo os parametros para API...\n"
     ]
    }
   ],
   "source": [
    "print('definindo os parametros para API...')\n",
    "\n",
    "Ano_exercicio = 2019\n",
    "url = 'https://www.governotransparente.com.br/transparencia/api/v1/json/exercicios/4507490'\n",
    "exercicio = pd.read_json(url)\n",
    "\n",
    "versao = 'v1'\n",
    "codigo = '4507490'\n",
    "page = '1'\n",
    "pagesize = '100000'\n",
    "exercicio = str(exercicio[exercicio['nome'] == Ano_exercicio]['id'][1])\n",
    "inicio = '01/01/2019'\n",
    "fim = '01/01/2020'\n",
    "covid = 'False'"
   ]
  },
  {
   "cell_type": "code",
   "execution_count": 3,
   "metadata": {
    "execution": {
     "iopub.execute_input": "2022-06-26T00:35:05.193951Z",
     "iopub.status.busy": "2022-06-26T00:35:05.193629Z",
     "iopub.status.idle": "2022-06-26T00:35:11.503355Z",
     "shell.execute_reply": "2022-06-26T00:35:11.502376Z"
    }
   },
   "outputs": [
    {
     "name": "stdout",
     "output_type": "stream",
     "text": [
      "Realizando o download dos dados...\n"
     ]
    }
   ],
   "source": [
    "print('Realizando o download dos dados...')\n",
    "url = f'https://www.governotransparente.com.br/transparencia/api/{versao}/json/pagamentos/{codigo}?page={page}&pagesize={pagesize}&exer={exercicio}&inicio={inicio}&fim={fim}&covid={covid}'#.format(versao, codigo, page, pagesize, exercicio, inicio, fim, covid)\n",
    "pagamento = pd.read_json(url)"
   ]
  },
  {
   "cell_type": "code",
   "execution_count": 4,
   "metadata": {
    "execution": {
     "iopub.execute_input": "2022-06-26T00:35:11.533766Z",
     "iopub.status.busy": "2022-06-26T00:35:11.533344Z",
     "iopub.status.idle": "2022-06-26T00:35:11.539080Z",
     "shell.execute_reply": "2022-06-26T00:35:11.537765Z"
    }
   },
   "outputs": [],
   "source": [
    "#pagamento.head()"
   ]
  },
  {
   "cell_type": "code",
   "execution_count": 5,
   "metadata": {
    "execution": {
     "iopub.execute_input": "2022-06-26T00:35:11.563778Z",
     "iopub.status.busy": "2022-06-26T00:35:11.563439Z",
     "iopub.status.idle": "2022-06-26T00:35:12.063675Z",
     "shell.execute_reply": "2022-06-26T00:35:12.062194Z"
    }
   },
   "outputs": [
    {
     "name": "stdout",
     "output_type": "stream",
     "text": [
      "Realizando a limpesa nos dados...\n"
     ]
    }
   ],
   "source": [
    "print('Realizando a limpesa nos dados...')\n",
    "\n",
    "colunas = pagamento.columns\n",
    "\n",
    "for c in colunas:\n",
    "    pagamento[c] = pagamento[c].apply(lambda x:str(x).replace('\\n',''))"
   ]
  },
  {
   "cell_type": "code",
   "execution_count": 6,
   "metadata": {
    "execution": {
     "iopub.execute_input": "2022-06-26T00:35:12.106630Z",
     "iopub.status.busy": "2022-06-26T00:35:12.106201Z",
     "iopub.status.idle": "2022-06-26T00:35:12.111776Z",
     "shell.execute_reply": "2022-06-26T00:35:12.110438Z"
    }
   },
   "outputs": [],
   "source": [
    "#pagamento.head()"
   ]
  },
  {
   "cell_type": "code",
   "execution_count": 7,
   "metadata": {
    "execution": {
     "iopub.execute_input": "2022-06-26T00:35:12.149162Z",
     "iopub.status.busy": "2022-06-26T00:35:12.148731Z",
     "iopub.status.idle": "2022-06-26T00:35:12.382125Z",
     "shell.execute_reply": "2022-06-26T00:35:12.380785Z"
    }
   },
   "outputs": [
    {
     "name": "stdout",
     "output_type": "stream",
     "text": [
      "Exportando os dados para o proximo step...\n"
     ]
    }
   ],
   "source": [
    "print('Exportando os dados para o proximo step...')\n",
    "orchest.output(pagamento, \"pagamento\")"
   ]
  },
  {
   "cell_type": "code",
   "execution_count": 8,
   "metadata": {
    "execution": {
     "iopub.execute_input": "2022-06-26T00:35:12.424911Z",
     "iopub.status.busy": "2022-06-26T00:35:12.424133Z",
     "iopub.status.idle": "2022-06-26T00:35:12.430354Z",
     "shell.execute_reply": "2022-06-26T00:35:12.429171Z"
    }
   },
   "outputs": [
    {
     "name": "stdout",
     "output_type": "stream",
     "text": [
      "Script executado com sucesso!\n"
     ]
    }
   ],
   "source": [
    "print('Script executado com sucesso!')"
   ]
  },
  {
   "cell_type": "code",
   "execution_count": null,
   "metadata": {},
   "outputs": [],
   "source": []
  }
 ],
 "metadata": {
  "interpreter": {
   "hash": "31c343df0307e317f338e13842f1848929a1168821279cd78d86c2cef5573c6f"
  },
  "kernelspec": {
   "display_name": "Python 3",
   "language": "python",
   "name": "orchest-kernel-6449305e-5170-4e80-84d9-5e9c3ca98522"
  },
  "language_info": {
   "codemirror_mode": {
    "name": "ipython",
    "version": 3
   },
   "file_extension": ".py",
   "mimetype": "text/x-python",
   "name": "python",
   "nbconvert_exporter": "python",
   "pygments_lexer": "ipython3",
   "version": "3.9.10"
  }
 },
 "nbformat": 4,
 "nbformat_minor": 4
}
