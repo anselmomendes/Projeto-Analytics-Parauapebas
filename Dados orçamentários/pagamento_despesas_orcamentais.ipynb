{
 "cells": [
  {
   "cell_type": "code",
   "execution_count": 1,
   "metadata": {
    "execution": {
     "iopub.execute_input": "2022-06-26T19:07:37.476150Z",
     "iopub.status.busy": "2022-06-26T19:07:37.475019Z",
     "iopub.status.idle": "2022-06-26T19:07:39.091383Z",
     "shell.execute_reply": "2022-06-26T19:07:39.090234Z"
    },
    "tags": []
   },
   "outputs": [
    {
     "name": "stdout",
     "output_type": "stream",
     "text": [
      "Importação das bibliotecas realizada com sucesso\n"
     ]
    }
   ],
   "source": [
    "import orchest\n",
    "import pandas as pd\n",
    "import warnings\n",
    "warnings.filterwarnings('ignore')\n",
    "print('Importação das bibliotecas realizada com sucesso')"
   ]
  },
  {
   "cell_type": "code",
   "execution_count": 2,
   "metadata": {
    "execution": {
     "iopub.execute_input": "2022-06-26T19:07:39.142306Z",
     "iopub.status.busy": "2022-06-26T19:07:39.141872Z",
     "iopub.status.idle": "2022-06-26T19:07:39.391987Z",
     "shell.execute_reply": "2022-06-26T19:07:39.391120Z"
    },
    "tags": []
   },
   "outputs": [
    {
     "name": "stdout",
     "output_type": "stream",
     "text": [
      "definindo os parametros para API...\n"
     ]
    }
   ],
   "source": [
    "print('definindo os parametros para API...')\n",
    "\n",
    "Ano_exercicio = 2019\n",
    "url = 'https://www.governotransparente.com.br/transparencia/api/v1/json/exercicios/4507490'\n",
    "exercicio = pd.read_json(url)\n",
    "\n",
    "versao = 'v1'\n",
    "codigo = '4507490'\n",
    "page = '1'\n",
    "pagesize = '100000'\n",
    "exercicio = str(exercicio[exercicio['nome'] == Ano_exercicio]['id'][1])\n",
    "inicio = '01/01/2019'\n",
    "fim = '01/01/2020'\n",
    "covid = 'False'"
   ]
  },
  {
   "cell_type": "code",
   "execution_count": 3,
   "metadata": {
    "execution": {
     "iopub.execute_input": "2022-06-26T19:07:39.439319Z",
     "iopub.status.busy": "2022-06-26T19:07:39.438367Z",
     "iopub.status.idle": "2022-06-26T19:07:47.068030Z",
     "shell.execute_reply": "2022-06-26T19:07:47.066765Z"
    },
    "tags": []
   },
   "outputs": [
    {
     "name": "stdout",
     "output_type": "stream",
     "text": [
      "Realizando o download dos dados...\n"
     ]
    }
   ],
   "source": [
    "print('Realizando o download dos dados...')\n",
    "url = f'https://www.governotransparente.com.br/transparencia/api/{versao}/json/pagamentos/{codigo}?page={page}&pagesize={pagesize}&exer={exercicio}&inicio={inicio}&fim={fim}&covid={covid}'#.format(versao, codigo, page, pagesize, exercicio, inicio, fim, covid)\n",
    "pagamento = pd.read_json(url)"
   ]
  },
  {
   "cell_type": "code",
   "execution_count": 4,
   "metadata": {
    "execution": {
     "iopub.execute_input": "2022-06-26T19:07:47.102651Z",
     "iopub.status.busy": "2022-06-26T19:07:47.101793Z",
     "iopub.status.idle": "2022-06-26T19:07:48.043069Z",
     "shell.execute_reply": "2022-06-26T19:07:48.042089Z"
    },
    "tags": []
   },
   "outputs": [],
   "source": [
    "pagamento['dataMovimento'] = pagamento['dataMovimento'].apply(lambda x:pd.Timestamp(x))\n",
    "pagamento['valor'] = pagamento['valor'].apply(lambda x:str(x).replace('.','').replace(',','.'))\n",
    "\n",
    "types = {'numeroDocumento':'int64', 'numeroEmpenho':'int64', 'idOrgao':'int64', 'idElem':'int64','idEmpenho':'int64', 'valor':'float'}\n",
    "\n",
    "pagamento = pagamento.astype(types);"
   ]
  },
  {
   "cell_type": "code",
   "execution_count": 5,
   "metadata": {
    "execution": {
     "iopub.execute_input": "2022-06-26T19:07:48.072499Z",
     "iopub.status.busy": "2022-06-26T19:07:48.071718Z",
     "iopub.status.idle": "2022-06-26T19:07:48.076776Z",
     "shell.execute_reply": "2022-06-26T19:07:48.075726Z"
    },
    "tags": []
   },
   "outputs": [],
   "source": [
    "#pagamento.head()"
   ]
  },
  {
   "cell_type": "code",
   "execution_count": 6,
   "metadata": {
    "execution": {
     "iopub.execute_input": "2022-06-26T19:07:48.106475Z",
     "iopub.status.busy": "2022-06-26T19:07:48.106159Z",
     "iopub.status.idle": "2022-06-26T19:07:48.110682Z",
     "shell.execute_reply": "2022-06-26T19:07:48.109660Z"
    },
    "tags": []
   },
   "outputs": [],
   "source": [
    "#pagamento.dtypes"
   ]
  },
  {
   "cell_type": "code",
   "execution_count": 7,
   "metadata": {
    "execution": {
     "iopub.execute_input": "2022-06-26T19:07:48.136032Z",
     "iopub.status.busy": "2022-06-26T19:07:48.135740Z",
     "iopub.status.idle": "2022-06-26T19:07:49.015175Z",
     "shell.execute_reply": "2022-06-26T19:07:49.014111Z"
    },
    "tags": []
   },
   "outputs": [
    {
     "name": "stdout",
     "output_type": "stream",
     "text": [
      "Realizando a limpesa nos dados...\n"
     ]
    }
   ],
   "source": [
    "print('Realizando a limpesa nos dados...')\n",
    "\n",
    "colunas = pagamento.columns\n",
    "\n",
    "for c in colunas:\n",
    "    pagamento[c] = pagamento[c].apply(lambda x:str(x).replace('\\n',''))"
   ]
  },
  {
   "cell_type": "code",
   "execution_count": 8,
   "metadata": {
    "execution": {
     "iopub.execute_input": "2022-06-26T19:07:49.043997Z",
     "iopub.status.busy": "2022-06-26T19:07:49.043445Z",
     "iopub.status.idle": "2022-06-26T19:07:49.048308Z",
     "shell.execute_reply": "2022-06-26T19:07:49.047107Z"
    },
    "tags": []
   },
   "outputs": [],
   "source": [
    "#pagamento.head()"
   ]
  },
  {
   "cell_type": "code",
   "execution_count": 9,
   "metadata": {
    "execution": {
     "iopub.execute_input": "2022-06-26T19:07:49.076204Z",
     "iopub.status.busy": "2022-06-26T19:07:49.075417Z",
     "iopub.status.idle": "2022-06-26T19:07:49.347901Z",
     "shell.execute_reply": "2022-06-26T19:07:49.346747Z"
    },
    "tags": []
   },
   "outputs": [
    {
     "name": "stdout",
     "output_type": "stream",
     "text": [
      "Exportando os dados para o proximo step...\n"
     ]
    }
   ],
   "source": [
    "print('Exportando os dados para o proximo step...')\n",
    "orchest.output(pagamento, \"pagamento\")"
   ]
  },
  {
   "cell_type": "code",
   "execution_count": 10,
   "metadata": {
    "execution": {
     "iopub.execute_input": "2022-06-26T19:07:49.403078Z",
     "iopub.status.busy": "2022-06-26T19:07:49.402528Z",
     "iopub.status.idle": "2022-06-26T19:07:49.411993Z",
     "shell.execute_reply": "2022-06-26T19:07:49.410118Z"
    },
    "tags": []
   },
   "outputs": [
    {
     "name": "stdout",
     "output_type": "stream",
     "text": [
      "Script executado com sucesso!\n"
     ]
    }
   ],
   "source": [
    "print('Script executado com sucesso!')"
   ]
  },
  {
   "cell_type": "code",
   "execution_count": null,
   "metadata": {},
   "outputs": [],
   "source": []
  }
 ],
 "metadata": {
  "interpreter": {
   "hash": "31c343df0307e317f338e13842f1848929a1168821279cd78d86c2cef5573c6f"
  },
  "kernelspec": {
   "display_name": "Python 3",
   "language": "python",
   "name": "orchest-kernel-6449305e-5170-4e80-84d9-5e9c3ca98522"
  },
  "language_info": {
   "codemirror_mode": {
    "name": "ipython",
    "version": 3
   },
   "file_extension": ".py",
   "mimetype": "text/x-python",
   "name": "python",
   "nbconvert_exporter": "python",
   "pygments_lexer": "ipython3",
   "version": "3.9.10"
  }
 },
 "nbformat": 4,
 "nbformat_minor": 4
}
