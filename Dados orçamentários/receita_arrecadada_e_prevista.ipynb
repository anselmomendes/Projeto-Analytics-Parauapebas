{
 "cells": [
  {
   "cell_type": "code",
   "execution_count": 1,
   "metadata": {
    "execution": {
     "iopub.execute_input": "2022-06-26T04:04:06.075851Z",
     "iopub.status.busy": "2022-06-26T04:04:06.074751Z",
     "iopub.status.idle": "2022-06-26T04:04:07.560778Z",
     "shell.execute_reply": "2022-06-26T04:04:07.556515Z"
    },
    "tags": []
   },
   "outputs": [
    {
     "name": "stdout",
     "output_type": "stream",
     "text": [
      "Importação das bibliotecas realizada com sucesso\n"
     ]
    }
   ],
   "source": [
    "import orchest\n",
    "import pandas as pd\n",
    "import warnings\n",
    "warnings.filterwarnings('ignore')\n",
    "print('Importação das bibliotecas realizada com sucesso')"
   ]
  },
  {
   "cell_type": "code",
   "execution_count": 2,
   "metadata": {
    "execution": {
     "iopub.execute_input": "2022-06-26T04:04:07.600210Z",
     "iopub.status.busy": "2022-06-26T04:04:07.597910Z",
     "iopub.status.idle": "2022-06-26T04:04:07.611160Z",
     "shell.execute_reply": "2022-06-26T04:04:07.609630Z"
    },
    "tags": []
   },
   "outputs": [
    {
     "name": "stdout",
     "output_type": "stream",
     "text": [
      "definindo os parametros para API...\n"
     ]
    }
   ],
   "source": [
    "print('definindo os parametros para API...')\n",
    "\n",
    "versao = 'v1'\n",
    "codigo = '4507490'\n",
    "exercicio = 1\n",
    "n_mes = '12'\n",
    "covid = 'False'"
   ]
  },
  {
   "cell_type": "code",
   "execution_count": 3,
   "metadata": {
    "execution": {
     "iopub.execute_input": "2022-06-26T04:04:07.645889Z",
     "iopub.status.busy": "2022-06-26T04:04:07.644902Z",
     "iopub.status.idle": "2022-06-26T04:04:08.325695Z",
     "shell.execute_reply": "2022-06-26T04:04:08.324517Z"
    },
    "tags": []
   },
   "outputs": [
    {
     "name": "stdout",
     "output_type": "stream",
     "text": [
      "Realizando o download dos dados...\n"
     ]
    }
   ],
   "source": [
    "print('Realizando o download dos dados...')\n",
    "url = f'https://www.governotransparente.com.br/transparencia/api/{versao}/json/receitasprevarrec/{codigo}?exer={exercicio}&mes={n_mes}&covid={covid}'\n",
    "prevista = pd.read_json(url)"
   ]
  },
  {
   "cell_type": "code",
   "execution_count": 4,
   "metadata": {
    "execution": {
     "iopub.execute_input": "2022-06-26T04:04:08.355422Z",
     "iopub.status.busy": "2022-06-26T04:04:08.354940Z",
     "iopub.status.idle": "2022-06-26T04:04:08.364286Z",
     "shell.execute_reply": "2022-06-26T04:04:08.363108Z"
    },
    "tags": []
   },
   "outputs": [
    {
     "name": "stdout",
     "output_type": "stream",
     "text": [
      "Realizando a limpesa nos dados...\n"
     ]
    }
   ],
   "source": [
    "print('Realizando a limpesa nos dados...')\n",
    "\n",
    "prevista['especificacao'] = prevista['especificacao'].apply(lambda x:str(x).strip())"
   ]
  },
  {
   "cell_type": "code",
   "execution_count": 5,
   "metadata": {
    "execution": {
     "iopub.execute_input": "2022-06-26T04:04:08.397673Z",
     "iopub.status.busy": "2022-06-26T04:04:08.397315Z",
     "iopub.status.idle": "2022-06-26T04:04:08.412322Z",
     "shell.execute_reply": "2022-06-26T04:04:08.411212Z"
    },
    "tags": []
   },
   "outputs": [
    {
     "name": "stdout",
     "output_type": "stream",
     "text": [
      "Definindo o tipo dos dados...\n"
     ]
    }
   ],
   "source": [
    "print('Definindo o tipo dos dados...')\n",
    "\n",
    "prevista['previsao'] = prevista['previsao'].apply(lambda x:str(x).replace('.','').replace(',','.')).astype(float)\n",
    "prevista['arrecadado'] = prevista['arrecadado'].apply(lambda x:str(x).replace('.','').replace(',','.')).astype(float)\n",
    "prevista['codigo'] = prevista['codigo'].apply(lambda x:str(x).replace('.','')).astype('int64')"
   ]
  },
  {
   "cell_type": "code",
   "execution_count": 6,
   "metadata": {
    "execution": {
     "iopub.execute_input": "2022-06-26T04:04:08.439607Z",
     "iopub.status.busy": "2022-06-26T04:04:08.439157Z",
     "iopub.status.idle": "2022-06-26T04:04:08.446714Z",
     "shell.execute_reply": "2022-06-26T04:04:08.445312Z"
    }
   },
   "outputs": [],
   "source": [
    "#prevista.dtypes"
   ]
  },
  {
   "cell_type": "code",
   "execution_count": 7,
   "metadata": {
    "execution": {
     "iopub.execute_input": "2022-06-26T04:04:08.484283Z",
     "iopub.status.busy": "2022-06-26T04:04:08.483501Z",
     "iopub.status.idle": "2022-06-26T04:04:08.495900Z",
     "shell.execute_reply": "2022-06-26T04:04:08.492489Z"
    },
    "tags": []
   },
   "outputs": [
    {
     "name": "stdout",
     "output_type": "stream",
     "text": [
      "Exportando os dados para o proximo step...\n"
     ]
    }
   ],
   "source": [
    "print('Exportando os dados para o proximo step...')\n",
    "orchest.output(prevista, \"prevista\")"
   ]
  },
  {
   "cell_type": "code",
   "execution_count": 8,
   "metadata": {
    "execution": {
     "iopub.execute_input": "2022-06-26T04:04:08.524040Z",
     "iopub.status.busy": "2022-06-26T04:04:08.523554Z",
     "iopub.status.idle": "2022-06-26T04:04:08.529922Z",
     "shell.execute_reply": "2022-06-26T04:04:08.528681Z"
    },
    "tags": []
   },
   "outputs": [
    {
     "name": "stdout",
     "output_type": "stream",
     "text": [
      "Script executado com sucesso!\n"
     ]
    }
   ],
   "source": [
    "print('Script executado com sucesso!')"
   ]
  },
  {
   "cell_type": "code",
   "execution_count": null,
   "metadata": {},
   "outputs": [],
   "source": []
  }
 ],
 "metadata": {
  "interpreter": {
   "hash": "31c343df0307e317f338e13842f1848929a1168821279cd78d86c2cef5573c6f"
  },
  "kernelspec": {
   "display_name": "Python 3",
   "language": "python",
   "name": "orchest-kernel-6449305e-5170-4e80-84d9-5e9c3ca98522"
  },
  "language_info": {
   "codemirror_mode": {
    "name": "ipython",
    "version": 3
   },
   "file_extension": ".py",
   "mimetype": "text/x-python",
   "name": "python",
   "nbconvert_exporter": "python",
   "pygments_lexer": "ipython3",
   "version": "3.9.10"
  }
 },
 "nbformat": 4,
 "nbformat_minor": 4
}
