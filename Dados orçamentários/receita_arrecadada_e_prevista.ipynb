{
 "cells": [
  {
   "cell_type": "code",
   "execution_count": 1,
   "metadata": {
    "execution": {
     "iopub.execute_input": "2022-06-26T19:07:42.343403Z",
     "iopub.status.busy": "2022-06-26T19:07:42.342396Z",
     "iopub.status.idle": "2022-06-26T19:07:43.558082Z",
     "shell.execute_reply": "2022-06-26T19:07:43.556685Z"
    },
    "tags": []
   },
   "outputs": [
    {
     "name": "stdout",
     "output_type": "stream",
     "text": [
      "Importação das bibliotecas realizada com sucesso\n"
     ]
    }
   ],
   "source": [
    "import orchest\n",
    "import pandas as pd\n",
    "import warnings\n",
    "warnings.filterwarnings('ignore')\n",
    "print('Importação das bibliotecas realizada com sucesso')"
   ]
  },
  {
   "cell_type": "code",
   "execution_count": 2,
   "metadata": {
    "execution": {
     "iopub.execute_input": "2022-06-26T19:07:43.592927Z",
     "iopub.status.busy": "2022-06-26T19:07:43.592008Z",
     "iopub.status.idle": "2022-06-26T19:07:43.599322Z",
     "shell.execute_reply": "2022-06-26T19:07:43.598319Z"
    },
    "tags": []
   },
   "outputs": [
    {
     "name": "stdout",
     "output_type": "stream",
     "text": [
      "definindo os parametros para API...\n"
     ]
    }
   ],
   "source": [
    "print('definindo os parametros para API...')\n",
    "\n",
    "versao = 'v1'\n",
    "codigo = '4507490'\n",
    "exercicio = 1\n",
    "n_mes = '12'\n",
    "covid = 'False'"
   ]
  },
  {
   "cell_type": "code",
   "execution_count": 3,
   "metadata": {
    "execution": {
     "iopub.execute_input": "2022-06-26T19:07:43.626275Z",
     "iopub.status.busy": "2022-06-26T19:07:43.625951Z",
     "iopub.status.idle": "2022-06-26T19:07:44.043405Z",
     "shell.execute_reply": "2022-06-26T19:07:44.042411Z"
    },
    "tags": []
   },
   "outputs": [
    {
     "name": "stdout",
     "output_type": "stream",
     "text": [
      "Realizando o download dos dados...\n"
     ]
    }
   ],
   "source": [
    "print('Realizando o download dos dados...')\n",
    "url = f'https://www.governotransparente.com.br/transparencia/api/{versao}/json/receitasprevarrec/{codigo}?exer={exercicio}&mes={n_mes}&covid={covid}'\n",
    "prevista = pd.read_json(url)"
   ]
  },
  {
   "cell_type": "code",
   "execution_count": 4,
   "metadata": {
    "execution": {
     "iopub.execute_input": "2022-06-26T19:07:44.070730Z",
     "iopub.status.busy": "2022-06-26T19:07:44.070153Z",
     "iopub.status.idle": "2022-06-26T19:07:44.077881Z",
     "shell.execute_reply": "2022-06-26T19:07:44.076844Z"
    },
    "tags": []
   },
   "outputs": [
    {
     "name": "stdout",
     "output_type": "stream",
     "text": [
      "Realizando a limpesa nos dados...\n"
     ]
    }
   ],
   "source": [
    "print('Realizando a limpesa nos dados...')\n",
    "\n",
    "prevista['especificacao'] = prevista['especificacao'].apply(lambda x:str(x).strip())"
   ]
  },
  {
   "cell_type": "code",
   "execution_count": 5,
   "metadata": {
    "execution": {
     "iopub.execute_input": "2022-06-26T19:07:44.107493Z",
     "iopub.status.busy": "2022-06-26T19:07:44.107032Z",
     "iopub.status.idle": "2022-06-26T19:07:44.123690Z",
     "shell.execute_reply": "2022-06-26T19:07:44.122478Z"
    },
    "tags": []
   },
   "outputs": [
    {
     "name": "stdout",
     "output_type": "stream",
     "text": [
      "Definindo o tipo dos dados...\n"
     ]
    }
   ],
   "source": [
    "print('Definindo o tipo dos dados...')\n",
    "\n",
    "prevista['previsao'] = prevista['previsao'].apply(lambda x:str(x).replace('.','').replace(',','.')).astype(float)\n",
    "prevista['arrecadado'] = prevista['arrecadado'].apply(lambda x:str(x).replace('.','').replace(',','.')).astype(float)\n",
    "prevista['codigo'] = prevista['codigo'].apply(lambda x:str(x).replace('.','')).astype('int64')"
   ]
  },
  {
   "cell_type": "code",
   "execution_count": 6,
   "metadata": {
    "execution": {
     "iopub.execute_input": "2022-06-26T19:07:44.151850Z",
     "iopub.status.busy": "2022-06-26T19:07:44.150737Z",
     "iopub.status.idle": "2022-06-26T19:07:44.157032Z",
     "shell.execute_reply": "2022-06-26T19:07:44.155908Z"
    }
   },
   "outputs": [],
   "source": [
    "#prevista.dtypes"
   ]
  },
  {
   "cell_type": "code",
   "execution_count": 7,
   "metadata": {
    "execution": {
     "iopub.execute_input": "2022-06-26T19:07:44.184873Z",
     "iopub.status.busy": "2022-06-26T19:07:44.184406Z",
     "iopub.status.idle": "2022-06-26T19:07:44.192551Z",
     "shell.execute_reply": "2022-06-26T19:07:44.191396Z"
    },
    "tags": []
   },
   "outputs": [
    {
     "name": "stdout",
     "output_type": "stream",
     "text": [
      "Exportando os dados para o proximo step...\n"
     ]
    }
   ],
   "source": [
    "print('Exportando os dados para o proximo step...')\n",
    "orchest.output(prevista, \"prevista\")"
   ]
  },
  {
   "cell_type": "code",
   "execution_count": 8,
   "metadata": {
    "execution": {
     "iopub.execute_input": "2022-06-26T19:07:44.219301Z",
     "iopub.status.busy": "2022-06-26T19:07:44.218306Z",
     "iopub.status.idle": "2022-06-26T19:07:44.224878Z",
     "shell.execute_reply": "2022-06-26T19:07:44.223929Z"
    },
    "tags": []
   },
   "outputs": [
    {
     "name": "stdout",
     "output_type": "stream",
     "text": [
      "Script executado com sucesso!\n"
     ]
    }
   ],
   "source": [
    "print('Script executado com sucesso!')"
   ]
  },
  {
   "cell_type": "code",
   "execution_count": null,
   "metadata": {},
   "outputs": [],
   "source": []
  }
 ],
 "metadata": {
  "interpreter": {
   "hash": "31c343df0307e317f338e13842f1848929a1168821279cd78d86c2cef5573c6f"
  },
  "kernelspec": {
   "display_name": "Python 3",
   "language": "python",
   "name": "orchest-kernel-6449305e-5170-4e80-84d9-5e9c3ca98522"
  },
  "language_info": {
   "codemirror_mode": {
    "name": "ipython",
    "version": 3
   },
   "file_extension": ".py",
   "mimetype": "text/x-python",
   "name": "python",
   "nbconvert_exporter": "python",
   "pygments_lexer": "ipython3",
   "version": "3.9.10"
  }
 },
 "nbformat": 4,
 "nbformat_minor": 4
}
