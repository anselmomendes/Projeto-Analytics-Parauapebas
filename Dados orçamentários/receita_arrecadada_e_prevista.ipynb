{
 "cells": [
  {
   "cell_type": "code",
   "execution_count": 1,
   "metadata": {
    "execution": {
     "iopub.execute_input": "2022-06-26T00:36:55.934769Z",
     "iopub.status.busy": "2022-06-26T00:36:55.934289Z",
     "iopub.status.idle": "2022-06-26T00:36:56.969490Z",
     "shell.execute_reply": "2022-06-26T00:36:56.967692Z"
    }
   },
   "outputs": [
    {
     "name": "stdout",
     "output_type": "stream",
     "text": [
      "Importação das bibliotecas realizada com sucesso\n"
     ]
    }
   ],
   "source": [
    "import orchest\n",
    "import pandas as pd\n",
    "import warnings\n",
    "warnings.filterwarnings('ignore')\n",
    "print('Importação das bibliotecas realizada com sucesso')"
   ]
  },
  {
   "cell_type": "code",
   "execution_count": 2,
   "metadata": {
    "execution": {
     "iopub.execute_input": "2022-06-26T00:36:56.991303Z",
     "iopub.status.busy": "2022-06-26T00:36:56.990016Z",
     "iopub.status.idle": "2022-06-26T00:36:56.999137Z",
     "shell.execute_reply": "2022-06-26T00:36:56.997671Z"
    }
   },
   "outputs": [
    {
     "name": "stdout",
     "output_type": "stream",
     "text": [
      "definindo os parametros para API...\n"
     ]
    }
   ],
   "source": [
    "print('definindo os parametros para API...')\n",
    "\n",
    "versao = 'v1'\n",
    "codigo = '4507490'\n",
    "exercicio = 1\n",
    "n_mes = '12'\n",
    "covid = 'False'"
   ]
  },
  {
   "cell_type": "code",
   "execution_count": 3,
   "metadata": {
    "execution": {
     "iopub.execute_input": "2022-06-26T00:36:57.018663Z",
     "iopub.status.busy": "2022-06-26T00:36:57.018335Z",
     "iopub.status.idle": "2022-06-26T00:36:57.562929Z",
     "shell.execute_reply": "2022-06-26T00:36:57.561173Z"
    }
   },
   "outputs": [
    {
     "name": "stdout",
     "output_type": "stream",
     "text": [
      "Realizando o download dos dados...\n"
     ]
    }
   ],
   "source": [
    "print('Realizando o download dos dados...')\n",
    "url = f'https://www.governotransparente.com.br/transparencia/api/{versao}/json/receitasprevarrec/{codigo}?exer={exercicio}&mes={n_mes}&covid={covid}'\n",
    "prevista = pd.read_json(url)"
   ]
  },
  {
   "cell_type": "code",
   "execution_count": 4,
   "metadata": {
    "execution": {
     "iopub.execute_input": "2022-06-26T00:36:57.613433Z",
     "iopub.status.busy": "2022-06-26T00:36:57.612634Z",
     "iopub.status.idle": "2022-06-26T00:36:57.633441Z",
     "shell.execute_reply": "2022-06-26T00:36:57.631950Z"
    }
   },
   "outputs": [
    {
     "name": "stdout",
     "output_type": "stream",
     "text": [
      "Realizando a limpesa nos dados...\n"
     ]
    }
   ],
   "source": [
    "print('Realizando a limpesa nos dados...')\n",
    "\n",
    "prevista['previsao'] = prevista['previsao'].apply(lambda x: str(x).replace('.', ''))\n",
    "prevista['arrecadado'] = prevista['arrecadado'].apply(lambda x: str(x).replace('.', ''))\n",
    "prevista = prevista['especificacao'].apply(lambda x:str(x).strip())\n"
   ]
  },
  {
   "cell_type": "code",
   "execution_count": 5,
   "metadata": {
    "execution": {
     "iopub.execute_input": "2022-06-26T00:36:57.674445Z",
     "iopub.status.busy": "2022-06-26T00:36:57.674036Z",
     "iopub.status.idle": "2022-06-26T00:36:57.680226Z",
     "shell.execute_reply": "2022-06-26T00:36:57.678513Z"
    }
   },
   "outputs": [],
   "source": [
    "#prevista.head()"
   ]
  },
  {
   "cell_type": "code",
   "execution_count": 6,
   "metadata": {
    "execution": {
     "iopub.execute_input": "2022-06-26T00:36:57.701109Z",
     "iopub.status.busy": "2022-06-26T00:36:57.700180Z",
     "iopub.status.idle": "2022-06-26T00:36:57.710316Z",
     "shell.execute_reply": "2022-06-26T00:36:57.708959Z"
    }
   },
   "outputs": [
    {
     "name": "stdout",
     "output_type": "stream",
     "text": [
      "Exportando os dados para o proximo step...\n"
     ]
    }
   ],
   "source": [
    "print('Exportando os dados para o proximo step...')\n",
    "orchest.output(prevista, \"prevista\")"
   ]
  },
  {
   "cell_type": "code",
   "execution_count": 7,
   "metadata": {
    "execution": {
     "iopub.execute_input": "2022-06-26T00:36:57.735095Z",
     "iopub.status.busy": "2022-06-26T00:36:57.734111Z",
     "iopub.status.idle": "2022-06-26T00:36:57.742591Z",
     "shell.execute_reply": "2022-06-26T00:36:57.741065Z"
    }
   },
   "outputs": [
    {
     "name": "stdout",
     "output_type": "stream",
     "text": [
      "Script executado com sucesso!\n"
     ]
    }
   ],
   "source": [
    "print('Script executado com sucesso!')"
   ]
  },
  {
   "cell_type": "code",
   "execution_count": null,
   "metadata": {},
   "outputs": [],
   "source": []
  }
 ],
 "metadata": {
  "interpreter": {
   "hash": "31c343df0307e317f338e13842f1848929a1168821279cd78d86c2cef5573c6f"
  },
  "kernelspec": {
   "display_name": "Python 3",
   "language": "python",
   "name": "orchest-kernel-6449305e-5170-4e80-84d9-5e9c3ca98522"
  },
  "language_info": {
   "codemirror_mode": {
    "name": "ipython",
    "version": 3
   },
   "file_extension": ".py",
   "mimetype": "text/x-python",
   "name": "python",
   "nbconvert_exporter": "python",
   "pygments_lexer": "ipython3",
   "version": "3.9.10"
  }
 },
 "nbformat": 4,
 "nbformat_minor": 4
}
