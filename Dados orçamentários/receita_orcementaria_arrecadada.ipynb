{
 "cells": [
  {
   "cell_type": "code",
   "execution_count": 1,
   "metadata": {
    "execution": {
     "iopub.execute_input": "2022-06-26T04:04:09.922829Z",
     "iopub.status.busy": "2022-06-26T04:04:09.922350Z",
     "iopub.status.idle": "2022-06-26T04:04:10.988205Z",
     "shell.execute_reply": "2022-06-26T04:04:10.987201Z"
    },
    "tags": []
   },
   "outputs": [
    {
     "name": "stdout",
     "output_type": "stream",
     "text": [
      "Importação das bibliotecas realizada com sucesso\n"
     ]
    }
   ],
   "source": [
    "import orchest\n",
    "import pandas as pd\n",
    "import warnings\n",
    "warnings.filterwarnings('ignore')\n",
    "print('Importação das bibliotecas realizada com sucesso')"
   ]
  },
  {
   "cell_type": "code",
   "execution_count": 2,
   "metadata": {
    "execution": {
     "iopub.execute_input": "2022-06-26T04:04:11.020690Z",
     "iopub.status.busy": "2022-06-26T04:04:11.020256Z",
     "iopub.status.idle": "2022-06-26T04:04:11.035237Z",
     "shell.execute_reply": "2022-06-26T04:04:11.034012Z"
    },
    "tags": []
   },
   "outputs": [
    {
     "name": "stdout",
     "output_type": "stream",
     "text": [
      "definindo os parametros para API...\n"
     ]
    }
   ],
   "source": [
    "print('definindo os parametros para API...')\n",
    "\n",
    "versao = 'v1'\n",
    "codigo = '4507490'\n",
    "page = '1'\n",
    "pagesize = '100000'\n",
    "exercicio = [0,1,2,3]\n",
    "inicio = '01/01/2019'\n",
    "fim = '01/01/2020'\n",
    "covid = 'False'"
   ]
  },
  {
   "cell_type": "code",
   "execution_count": 3,
   "metadata": {
    "execution": {
     "iopub.execute_input": "2022-06-26T04:04:11.063350Z",
     "iopub.status.busy": "2022-06-26T04:04:11.062280Z",
     "iopub.status.idle": "2022-06-26T04:04:14.442591Z",
     "shell.execute_reply": "2022-06-26T04:04:14.441462Z"
    },
    "tags": []
   },
   "outputs": [
    {
     "name": "stdout",
     "output_type": "stream",
     "text": [
      "Realizando o download dos dados...\n"
     ]
    }
   ],
   "source": [
    "print('Realizando o download dos dados...')\n",
    "arrecadadada = pd.DataFrame()\n",
    "\n",
    "for e in exercicio:\n",
    "    url = f'https://www.governotransparente.com.br/transparencia/api/{versao}/json/receitasorc/{codigo}?page={page}&pagesize={pagesize}&exer={exercicio[e]}&inicio={inicio}&fim={fim}&covid={covid}'\n",
    "    data = pd.read_json(url)\n",
    "    arrecadadada = arrecadadada.append(data)\n"
   ]
  },
  {
   "cell_type": "code",
   "execution_count": 4,
   "metadata": {
    "execution": {
     "iopub.execute_input": "2022-06-26T04:04:14.468440Z",
     "iopub.status.busy": "2022-06-26T04:04:14.468073Z",
     "iopub.status.idle": "2022-06-26T04:04:14.681863Z",
     "shell.execute_reply": "2022-06-26T04:04:14.680918Z"
    },
    "tags": []
   },
   "outputs": [],
   "source": [
    "colunas = arrecadadada.columns\n",
    "\n",
    "for c in colunas:\n",
    "    arrecadadada[c] = arrecadadada[c].apply(lambda x:str(x).replace('\\n',''))\n",
    "\n",
    "arrecadadada['valor'] = arrecadadada['valor'].apply(lambda x:x.replace('.',''))"
   ]
  },
  {
   "cell_type": "code",
   "execution_count": 5,
   "metadata": {
    "execution": {
     "iopub.execute_input": "2022-06-26T04:04:14.705341Z",
     "iopub.status.busy": "2022-06-26T04:04:14.704843Z",
     "iopub.status.idle": "2022-06-26T04:04:15.218418Z",
     "shell.execute_reply": "2022-06-26T04:04:15.217121Z"
    }
   },
   "outputs": [
    {
     "name": "stdout",
     "output_type": "stream",
     "text": [
      "Definindo o tipo dos dados...\n"
     ]
    }
   ],
   "source": [
    "print('Definindo o tipo dos dados...')\n",
    "\n",
    "types = {'dataMovimento':'datetime64', 'numeroDocumento':'int64', 'codigo':'str', 'contribuinte':'str', 'cnpjcpf':'str','registro':'str', 'valor':'float', 'especificacao':'str'}\n",
    "\n",
    "arrecadadada['valor'] = arrecadadada['valor'].apply(lambda x:str(x).replace('.','').replace(',','.'))\n",
    "arrecadadada['dataMovimento'] = arrecadadada['dataMovimento'].apply(lambda x:pd.Timestamp(x))\n",
    "arrecadadada = arrecadadada.astype(types);"
   ]
  },
  {
   "cell_type": "code",
   "execution_count": 6,
   "metadata": {
    "execution": {
     "iopub.execute_input": "2022-06-26T04:04:15.244739Z",
     "iopub.status.busy": "2022-06-26T04:04:15.244286Z",
     "iopub.status.idle": "2022-06-26T04:04:15.249663Z",
     "shell.execute_reply": "2022-06-26T04:04:15.248551Z"
    }
   },
   "outputs": [],
   "source": [
    "#arrecadadada.dtypes"
   ]
  },
  {
   "cell_type": "code",
   "execution_count": 7,
   "metadata": {
    "execution": {
     "iopub.execute_input": "2022-06-26T04:04:15.272199Z",
     "iopub.status.busy": "2022-06-26T04:04:15.271803Z",
     "iopub.status.idle": "2022-06-26T04:04:15.356417Z",
     "shell.execute_reply": "2022-06-26T04:04:15.349977Z"
    },
    "tags": []
   },
   "outputs": [
    {
     "name": "stdout",
     "output_type": "stream",
     "text": [
      "Exportando os dados para o proximo step...\n"
     ]
    }
   ],
   "source": [
    "print('Exportando os dados para o proximo step...')\n",
    "orchest.output(arrecadadada, \"arrecadadada\")"
   ]
  },
  {
   "cell_type": "code",
   "execution_count": 8,
   "metadata": {
    "execution": {
     "iopub.execute_input": "2022-06-26T04:04:15.379737Z",
     "iopub.status.busy": "2022-06-26T04:04:15.379362Z",
     "iopub.status.idle": "2022-06-26T04:04:15.385868Z",
     "shell.execute_reply": "2022-06-26T04:04:15.384683Z"
    },
    "tags": []
   },
   "outputs": [
    {
     "name": "stdout",
     "output_type": "stream",
     "text": [
      "Script executado com sucesso!\n"
     ]
    }
   ],
   "source": [
    "print('Script executado com sucesso!')"
   ]
  },
  {
   "cell_type": "code",
   "execution_count": null,
   "metadata": {},
   "outputs": [],
   "source": []
  }
 ],
 "metadata": {
  "interpreter": {
   "hash": "31c343df0307e317f338e13842f1848929a1168821279cd78d86c2cef5573c6f"
  },
  "kernelspec": {
   "display_name": "Python 3",
   "language": "python",
   "name": "orchest-kernel-6449305e-5170-4e80-84d9-5e9c3ca98522"
  },
  "language_info": {
   "codemirror_mode": {
    "name": "ipython",
    "version": 3
   },
   "file_extension": ".py",
   "mimetype": "text/x-python",
   "name": "python",
   "nbconvert_exporter": "python",
   "pygments_lexer": "ipython3",
   "version": "3.9.10"
  }
 },
 "nbformat": 4,
 "nbformat_minor": 4
}
